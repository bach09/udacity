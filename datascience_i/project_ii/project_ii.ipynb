{
 "cells": [
  {
   "cell_type": "markdown",
   "metadata": {},
   "source": [
    "# 1. Projeto II - Fundamentos Data Science I"
   ]
  },
  {
   "cell_type": "markdown",
   "metadata": {},
   "source": [
    "## 1.1. Notas\n",
    "\n",
    "Todas as analises aqui presentes são resultados do dataset disponibilizado pelo curso de Fundamentos de Data Science I da Udacity. Essas analises são feitas de forma descritiva, apenas para estudo e não devem ser considerados como resultados fieis, para tal devem serem feitas outras analises e recomenda-se a utilização do método baseados em deep learning para definir corretamente os valores faltantes, que podem ser oriundos de erros humanos.\n",
    "\n",
    "- O dataset utilizado foi titanic-data-6.csv e sua versão editada titanic_edited.csv\n",
    "- As [perguntas feitas](#12-perguntas-feitas) estão na seção seguinte.\n",
    "- As informações sobre a limpeza dos dados estão na seção [1.3](#13-limpeza-dos-dados).\n",
    "- As análises e resultados finais se encontram na seção [1.4](#14-analises).\n",
    "- A seção [1.5](#15-conclusoes-e-resultados) contem as conclusões tiradas a partir do dataset.\n",
    "- A seção [1.6](#16-limitações) contem informação sobre as limitações dos dados.\n",
    "- A ultima seção [1.7](#16-links-uteis) contem links uteis de sites com informações que me ajudaram a completar o projeto."
   ]
  },
  {
   "cell_type": "markdown",
   "metadata": {},
   "source": [
    "## 1.2. Perguntas Feitas\n",
    "\n",
    "- De que forma é composto o banco de dados. Quais são as classes das variáveis? Existem informações faltantes?\n",
    "    + Para o tratamento dos dados e fazer a analise é necessário obter essas informações e saber a existem de valores discrepantes.\n",
    "\n",
    "- Quais são as medidas descritivas? Qual é a contagem total para os dois gêneros? Qual é a contagem dos gêneros por classe? Como são distribuídos os passageiros por classe e por categoria de idade? Qual é a idade média dos passageiros por classe? Existem diferenças entre as idades médias dos passageiros por categoria de idade para cada classe?  Existem diferenças entre as categorias de idade? Qual foi o preço médio pago por passagem, por classe e por porto de embarcação?\n",
    "    + Essas perguntas são importantes para analisar o perfil dos passageiros. Espera-se que existam diferenças significativas entre as classes, principalmente entre as classes extremas, primeira e terceira. É sabido que o Titanic foi de grande sucesso devido a propaganda luxuosa feita pela mídia e que essa fatídica viagem era a primeira com ele, devido a isso, espera-se que houvessem muitos passageiros da primeira classe embarcados.\n",
    "\n",
    "- Será que mulheres e crianças possuem a maior taxa de sobrevivência no naufrágio? Por classe, qual foi a diferença de frequência da categoria de idade entre os sobreviventes e qual a relação disso pelo número total de passageiros, por classe e geral?\n",
    "    + Como é esperado em acidentes, mulheres e crianças possuem preferencial no momento de fuga. Historicamente, sabe-se que muitos barcos de fuga foram lançados ao mar com pouquíssimas pessoas neles, portanto há interesse em saber se houve alguma diferença no número de sobreviventes entre cada classe e quantas pessoas sobreviveram no geral.\n",
    "\n",
    "- A quantidade de adulto em cada classe?\n",
    "    + Com a separação entre as três classes de passageiro e as categorias de idade, é possível investigar qual a probabilidade de se estar em qualquer uma das classes.\n",
    "\n",
    "- A frequência de pessoas de diversas idades no Titanic e sua classe.\n",
    "\n",
    "- A frequência de adultos em comparação as demais categorias de idade no barco.\n",
    "    + A possibilidade de que existem mais adultos que as demais categorias é clara, mas e sua frequência em comparação as demais.\n",
    "\n",
    "- Quais portos tem maior taxa de embarque e quais portos tem as menores taxas.\n",
    "    + Agrupando as passagens, seus valores e o local de embarque é possível se ter a media dos portos que tiveram maior e menor taxa de embarque, como também a contagem de passageiros que cada porto recebeu no embarque do Titanic.\n",
    "\n",
    "- Quais classes sociais tem os maiores números de pessoas por passagem.\n",
    "    + Um agrupamento das passagens e contagem de nomes que fazem parte pode permitir descobrir quais passagens possuem uma maior quantidade de pessoas."
   ]
  },
  {
   "cell_type": "markdown",
   "metadata": {},
   "source": [
    "## 1.3. Limpeza dos dados\n",
    "\n",
    "O programa responsável por fazer a limpeza dos dados é o arquivo `titanic_dataset_edit.py`, ele é responsável por fazer a maioria das modificações. Algumas modificações o programa não irá fazer pois foi necessário manter os dados no estado correto.\n",
    "\n",
    "- Primeiro o programa apresenta as colunas, seus tipos e quantidade de dados que cada coluna possui. Com isso podemos analisar colunas com valores faltantes e colunas que não irão ser uteis para o projeto;\n",
    "- Em seguida e verificada quantos itens únicos cada coluna tem;\n",
    "- As colunas `PassengerId` e `Cabin` são removidas. A primeira contém apenas um índice que já é gerado ao se carregar o csv, a segunda tem apenas o código de cada cabine onde o passageiro dormiu e não é útil para as analises;\n",
    "- A coluna `Pclass` é renomeada para `passenger_class` para melhorar a visualização, demais nomes são mantidos;\n",
    "- Todas as colunas são renomeadas para ficaram em letras em minúsculo e alterar a separação entre palavras para sublinhado. Em seguida os nomes são revisados para verificar se estão corretos;\n",
    "- É contado quantos valores de idade nulos existem por classe de passagem, é feito o calculo da média e aplicada a esses valores em branco para terem uma estimativa da idade;\n",
    "- É criada uma nova coluna com a categoria da idade de cada passageiro, sendo: `Crianças` para pessoas com menos de 12 anos, `Adolescente` para pessoas com mais de 12 anos e menos de 18 anos e `Adulto` para todos que tiverem idade maior que 18 anos;\n",
    "- Ao final é gerado um novo dataset contendo os registros editados.\n",
    "- No programa que gera as tabelas, uma nova coluna temporária foi adiciona representando a frequência de indivíduos em uma passagem."
   ]
  },
  {
   "cell_type": "code",
   "execution_count": 3,
   "metadata": {},
   "outputs": [],
   "source": [
    "import numpy as np\n",
    "import pandas as pd\n",
    "\n",
    "\"\"\" Transformação do Data Set do Titanic oferencido no curso de fundamentos de\n",
    "Data Science I (Udacity).\n",
    "\"\"\"\n",
    "df_titanic = pd.read_csv('titanic-data-6.csv')"
   ]
  },
  {
   "cell_type": "markdown",
   "metadata": {},
   "source": [
    "Como é composto o banco de dados? Quais são as classes das variáveis? Existem informações faltantes?"
   ]
  },
  {
   "cell_type": "code",
   "execution_count": 4,
   "metadata": {},
   "outputs": [
    {
     "name": "stdout",
     "output_type": "stream",
     "text": [
      "   PassengerId  Survived  Pclass                     Name   Sex     Age  \\\n",
      "0            1         0       3  Braund, Mr. Owen Harris  male 22.0000   \n",
      "\n",
      "   SibSp  Parch     Ticket   Fare Cabin Embarked  \n",
      "0      1      0  A/5 21171 7.2500   NaN        S   \n",
      "\n",
      "<class 'pandas.core.frame.DataFrame'>\n",
      "RangeIndex: 891 entries, 0 to 890\n",
      "Data columns (total 12 columns):\n",
      "PassengerId    891 non-null int64\n",
      "Survived       891 non-null int64\n",
      "Pclass         891 non-null int64\n",
      "Name           891 non-null object\n",
      "Sex            891 non-null object\n",
      "Age            714 non-null float64\n",
      "SibSp          891 non-null int64\n",
      "Parch          891 non-null int64\n",
      "Ticket         891 non-null object\n",
      "Fare           891 non-null float64\n",
      "Cabin          204 non-null object\n",
      "Embarked       889 non-null object\n",
      "dtypes: float64(2), int64(5), object(5)\n",
      "memory usage: 83.6+ KB\n",
      "None \n",
      "\n",
      "PassengerId    891\n",
      "Survived         2\n",
      "Pclass           3\n",
      "Name           891\n",
      "Sex              2\n",
      "Age             88\n",
      "SibSp            7\n",
      "Parch            7\n",
      "Ticket         681\n",
      "Fare           248\n",
      "Cabin          147\n",
      "Embarked         3\n",
      "dtype: int64 \n",
      "\n"
     ]
    }
   ],
   "source": [
    "print(df_titanic.head(1), '\\n')\n",
    "print(df_titanic.info(), '\\n')\n",
    "print(df_titanic.nunique(), '\\n')"
   ]
  },
  {
   "cell_type": "code",
   "execution_count": 174,
   "metadata": {},
   "outputs": [
    {
     "data": {
      "text/plain": [
       "<matplotlib.legend.Legend at 0x7f00b9280b38>"
      ]
     },
     "execution_count": 174,
     "metadata": {},
     "output_type": "execute_result"
    },
    {
     "data": {
      "image/png": "[encoded data removed]",
      "text/plain": [
       "<Figure size 432x288 with 1 Axes>"
      ]
     },
     "metadata": {
      "needs_background": "light"
     },
     "output_type": "display_data"
    }
   ],
   "source": [
    "# Forçar plot das labels\n",
    "# import matplotlib.pyplot as plt\n",
    "# %matplotlib inline\n",
    "\n",
    "# N = 3\n",
    "# f_class = df_titanic.query('Survived == 1').groupby('Pclass')['Survived'].count()[1]\n",
    "# s_class = df_titanic.query('Survived == 1').groupby('Pclass')['Survived'].count()[2]\n",
    "# t_class = df_titanic.query('Survived == 1').groupby('Pclass')['Survived'].count()[3]\n",
    "# ind = np.arange(N)\n",
    "# width = 0.5\n",
    "\n",
    "# fig, ax = plt.subplots()\n",
    "# p1 = ax.bar(ind, [f_class, s_class, t_class], width, color=['r', 'g', 'b'])\n",
    "# ax.set_xticks(ind + width/15.)\n",
    "# ax.set_yticks(np.arange(0, max((f_class, s_class, t_class)), 10))\n",
    "# ax.set_xticklabels(('1', '2', '3'))\n",
    "# plt.legend((p1[0], p1[1], p1[2]), ('1', '2', '3'));\n",
    "\n",
    "fig, ax = plt.subplots()\n",
    "p1 = ax.bar([1,2,3], df_titanic.query('Survived == 1').groupby('Pclass')['Survived'].count(), color=('r','g', 'b'))\n",
    "plt.legend((p1[0], p1[1], p1[2]), ('1', '2', '3'))"
   ]
  },
  {
   "cell_type": "code",
   "execution_count": 148,
   "metadata": {},
   "outputs": [
    {
     "name": "stdout",
     "output_type": "stream",
     "text": [
      "0\n",
      "124\n"
     ]
    }
   ],
   "source": [
    "# temp = df_titanic.loc[(df_titanic['Sex'] == 'female')]\n",
    "# temp.loc[df_titanic['Age'].isna()]['Age'].isna().sum()\n",
    "# temp2 = temp.loc[df_titanic['Age'].isna()]\n",
    "# temp.loc[df_titanic['Age'].isna(), 'Age'] = temp2.fillna(df_titanic.query('Sex == \"female\"')['Age'].mean().round())\n",
    "# temp['Age'].isna().sum()\n",
    "# df_titanic.loc[df_titanic['Age'].isna(), 'Age'] = temp\n",
    "# print(df_titanic.loc[(df_titanic['Sex'] == 'female'), 'Age'].isna().sum())\n",
    "# print(df_titanic.loc[(df_titanic['Sex'] == 'male'), 'Age'].isna().sum())\n",
    "\n",
    "df_titanic[(df_titanic['Sex'] == 'female') & (df_titanic['Age'].isna())] = df_titanic.query('Sex == \"female\"')['Age'].mean()\n",
    "print(df_titanic.query('Sex == \"female\"')['Age'].isna().sum())\n",
    "print(df_titanic.query('Sex == \"male\"')['Age'].isna().sum())"
   ]
  },
  {
   "cell_type": "markdown",
   "metadata": {},
   "source": [
    "O banco de dados é composto de 12 colunas cujas variáveis são inteiras, strings e float. Exitem dados faltantes em pelo menos uma variável."
   ]
  },
  {
   "cell_type": "code",
   "execution_count": 3,
   "metadata": {},
   "outputs": [
    {
     "data": {
      "text/plain": [
       "Index(['survived', 'passenger_class', 'name', 'sex', 'age', 'sibsp', 'parch',\n",
       "       'ticket', 'fare', 'embarked'],\n",
       "      dtype='object')"
      ]
     },
     "execution_count": 3,
     "metadata": {},
     "output_type": "execute_result"
    }
   ],
   "source": [
    "# Coluna de id de passageiros removida, pois é igual ao index.\n",
    "# A coluna Cabines não será utilizada portanto será removida.\n",
    "# Nome está sendo mantido apenas para estudo de parentesco. Isso auxiliará quando forem agrupados os \n",
    "# tickets e se retornar o nome das pessoas que possuem mesmo sobrenome é possível identificar se os \n",
    "# passageiros tinham relações de parentesco ou não.\n",
    "\n",
    "# Para o tratamento dos dados serão feitas algumas alterações.\n",
    "df_titanic.drop(columns=['PassengerId', 'Cabin'], inplace=True)\n",
    "\n",
    "# Renomeia Pclass para Passenger Class.\n",
    "df_titanic.rename(columns={'Pclass':'Passenger Class'}, inplace=True)\n",
    "\n",
    "# Renomeia colunas.\n",
    "def rename_cols(df:pd.DataFrame, sep:str='_', lowcase:bool=True):\n",
    "    \"\"\" Renomeia as colunas em um DataFrame\n",
    "    Utilizando de um separador, renomeia as colunas de um DataFrame\n",
    "    \n",
    "    :param df: DataFrame para renomear as colunas.\n",
    "    :param sep: String com o caracter de separação das colunas.\n",
    "    :param lowcase: Booleano para definir se os nomes devem ficar em minusculo.\n",
    "    \"\"\"\n",
    "    if lowcase:\n",
    "        df.rename(\n",
    "            columns=lambda x: x.strip().lower().replace(' ', sep), inplace=True)\n",
    "    else:\n",
    "        df.rename(\n",
    "            columns=lambda x: x.strip().replace(' ', sep), inplace=True)\n",
    "\n",
    "\n",
    "rename_cols(df_titanic)\n",
    "# Verifica se colunas foram alteradas corretamente\n",
    "df_titanic.columns"
   ]
  },
  {
   "cell_type": "markdown",
   "metadata": {},
   "source": [
    "Identificação e tratamento das colunas que possuem dados faltantes."
   ]
  },
  {
   "cell_type": "code",
   "execution_count": 4,
   "metadata": {},
   "outputs": [
    {
     "name": "stdout",
     "output_type": "stream",
     "text": [
      "Locais de embarque não definidos: 2\n",
      "Total de embarques em S (Southampton), Cherbourg (C) e Q (Queenstown).\n",
      "S    644\n",
      "C    168\n",
      "Q     77\n",
      "Name: embarked, dtype: int64\n",
      "Local com maior número de embarques: S\n"
     ]
    }
   ],
   "source": [
    "# Contagem de valores nulos na coluna `embarked`.\n",
    "print('Locais de embarque não definidos: {}'.format(df_titanic['embarked'].isnull().sum()))\n",
    "\n",
    "# Contagem de locais de embarque: C (Cherbourg), Q (Queenstown) e S (Southampton).\n",
    "print('Total de embarques em S (Southampton), Cherbourg (C) e Q (Queenstown).')\n",
    "print(df_titanic['embarked'].value_counts())\n",
    "\n",
    "embark_local = df_titanic['embarked'].value_counts().index.tolist()[0]\n",
    "print('Local com maior número de embarques: {}'.format(embark_local))\n",
    "\n",
    "# Valores nulos em embarked recebem o valor de maior contagem.\n",
    "df_titanic['embarked'].fillna(embark_local, inplace=True)"
   ]
  },
  {
   "cell_type": "markdown",
   "metadata": {},
   "source": [
    "Identificação e tratamento das colunas que possuem dados faltantes por classe."
   ]
  },
  {
   "cell_type": "code",
   "execution_count": 5,
   "metadata": {},
   "outputs": [
    {
     "name": "stdout",
     "output_type": "stream",
     "text": [
      "Pessoas da primeira classe sem idade definida: 30\n",
      "Pessoas da segunda classe sem idade definida: 0\n",
      "Pessoas da terceira classe sem idade definida: 0\n"
     ]
    }
   ],
   "source": [
    "# Contagem de valores nulos na idade da primeira classe.\n",
    "print('Pessoas da primeira classe sem idade definida: {}'\n",
    "    .format(df_titanic.query(\n",
    "    'passenger_class == 1')['age'].isnull().sum()))\n",
    "df_mean_firstclass_age = df_titanic.query(\n",
    "    'passenger_class == 1')['age'].dropna().mean()\n",
    "# print(df_mean_firstclass_age)\n",
    "df_titanic['age'].fillna(df_mean_firstclass_age, inplace=True)\n",
    "# print(df_titanic.query('passenger_class == 1')['age'].isnull().sum())\n",
    "\n",
    "# Contagem de valores nulos na idade da segunda classe.\n",
    "print('Pessoas da segunda classe sem idade definida: {}'\n",
    "    .format(df_titanic.query(\n",
    "    'passenger_class == 2')['age'].isnull().sum()))\n",
    "# df_mean_second_age = df_titanic.query(\n",
    "# 'passenger_class == 2')['age'].dropna().mean()\n",
    "# print(df_mean_second_age)\n",
    "# df_titanic['age'].fillna(df_mean_second_age, inplace=True)\n",
    "# print(df_titanic.query('passenger_class == 2')['age'].isnull().sum())\n",
    "\n",
    "# Contagem de valores nulos na idade da terceira classe.\n",
    "print('Pessoas da terceira classe sem idade definida: {}'\n",
    "    .format(df_titanic.query(\n",
    "    'passenger_class == 3')['age'].isnull().sum()))\n",
    "# df_mean_third_age = df_titanic.query(\n",
    "# 'passenger_class == 3')['age'].dropna().mean()\n",
    "# print(df_mean_third_age)\n",
    "# df_titanic['age'].fillna(df_mean_third_age, inplace=True)\n",
    "# print(df_titanic.query('passenger_class == 3')['age'].isnull().sum())"
   ]
  },
  {
   "cell_type": "markdown",
   "metadata": {},
   "source": [
    "Transformação dos valores da coluna idade para inteiros. Crianças menores de um ano terão suas idades arredondadas para zero."
   ]
  },
  {
   "cell_type": "code",
   "execution_count": 6,
   "metadata": {},
   "outputs": [
    {
     "data": {
      "text/html": [
       "<div>\n",
       "<style scoped>\n",
       "    .dataframe tbody tr th:only-of-type {\n",
       "        vertical-align: middle;\n",
       "    }\n",
       "\n",
       "    .dataframe tbody tr th {\n",
       "        vertical-align: top;\n",
       "    }\n",
       "\n",
       "    .dataframe thead th {\n",
       "        text-align: right;\n",
       "    }\n",
       "</style>\n",
       "<table border=\"1\" class=\"dataframe\">\n",
       "  <thead>\n",
       "    <tr style=\"text-align: right;\">\n",
       "      <th></th>\n",
       "      <th>survived</th>\n",
       "      <th>passenger_class</th>\n",
       "      <th>name</th>\n",
       "      <th>sex</th>\n",
       "      <th>age</th>\n",
       "      <th>sibsp</th>\n",
       "      <th>parch</th>\n",
       "      <th>ticket</th>\n",
       "      <th>fare</th>\n",
       "      <th>embarked</th>\n",
       "    </tr>\n",
       "  </thead>\n",
       "  <tbody>\n",
       "    <tr>\n",
       "      <th>0</th>\n",
       "      <td>0</td>\n",
       "      <td>3</td>\n",
       "      <td>Braund, Mr. Owen Harris</td>\n",
       "      <td>male</td>\n",
       "      <td>22</td>\n",
       "      <td>1</td>\n",
       "      <td>0</td>\n",
       "      <td>A/5 21171</td>\n",
       "      <td>7.2500</td>\n",
       "      <td>S</td>\n",
       "    </tr>\n",
       "    <tr>\n",
       "      <th>1</th>\n",
       "      <td>1</td>\n",
       "      <td>1</td>\n",
       "      <td>Cumings, Mrs. John Bradley (Florence Briggs Th...</td>\n",
       "      <td>female</td>\n",
       "      <td>38</td>\n",
       "      <td>1</td>\n",
       "      <td>0</td>\n",
       "      <td>PC 17599</td>\n",
       "      <td>71.2833</td>\n",
       "      <td>C</td>\n",
       "    </tr>\n",
       "    <tr>\n",
       "      <th>2</th>\n",
       "      <td>1</td>\n",
       "      <td>3</td>\n",
       "      <td>Heikkinen, Miss. Laina</td>\n",
       "      <td>female</td>\n",
       "      <td>26</td>\n",
       "      <td>0</td>\n",
       "      <td>0</td>\n",
       "      <td>STON/O2. 3101282</td>\n",
       "      <td>7.9250</td>\n",
       "      <td>S</td>\n",
       "    </tr>\n",
       "    <tr>\n",
       "      <th>3</th>\n",
       "      <td>1</td>\n",
       "      <td>1</td>\n",
       "      <td>Futrelle, Mrs. Jacques Heath (Lily May Peel)</td>\n",
       "      <td>female</td>\n",
       "      <td>35</td>\n",
       "      <td>1</td>\n",
       "      <td>0</td>\n",
       "      <td>113803</td>\n",
       "      <td>53.1000</td>\n",
       "      <td>S</td>\n",
       "    </tr>\n",
       "    <tr>\n",
       "      <th>4</th>\n",
       "      <td>0</td>\n",
       "      <td>3</td>\n",
       "      <td>Allen, Mr. William Henry</td>\n",
       "      <td>male</td>\n",
       "      <td>35</td>\n",
       "      <td>0</td>\n",
       "      <td>0</td>\n",
       "      <td>373450</td>\n",
       "      <td>8.0500</td>\n",
       "      <td>S</td>\n",
       "    </tr>\n",
       "  </tbody>\n",
       "</table>\n",
       "</div>"
      ],
      "text/plain": [
       "   survived  passenger_class  \\\n",
       "0         0                3   \n",
       "1         1                1   \n",
       "2         1                3   \n",
       "3         1                1   \n",
       "4         0                3   \n",
       "\n",
       "                                                name     sex  age  sibsp  \\\n",
       "0                            Braund, Mr. Owen Harris    male   22      1   \n",
       "1  Cumings, Mrs. John Bradley (Florence Briggs Th...  female   38      1   \n",
       "2                             Heikkinen, Miss. Laina  female   26      0   \n",
       "3       Futrelle, Mrs. Jacques Heath (Lily May Peel)  female   35      1   \n",
       "4                           Allen, Mr. William Henry    male   35      0   \n",
       "\n",
       "   parch            ticket     fare embarked  \n",
       "0      0         A/5 21171   7.2500        S  \n",
       "1      0          PC 17599  71.2833        C  \n",
       "2      0  STON/O2. 3101282   7.9250        S  \n",
       "3      0            113803  53.1000        S  \n",
       "4      0            373450   8.0500        S  "
      ]
     },
     "execution_count": 6,
     "metadata": {},
     "output_type": "execute_result"
    }
   ],
   "source": [
    "df_titanic['age'] = df_titanic['age'].apply(lambda x: np.floor(x)).astype(int)\n",
    "df_titanic.head()"
   ]
  },
  {
   "cell_type": "markdown",
   "metadata": {},
   "source": [
    "Qual o total de passageiros por tickets? Foi criada uma coluna adicional no banco de dados com essa informação."
   ]
  },
  {
   "cell_type": "code",
   "execution_count": 7,
   "metadata": {},
   "outputs": [
    {
     "data": {
      "text/html": [
       "<div>\n",
       "<style scoped>\n",
       "    .dataframe tbody tr th:only-of-type {\n",
       "        vertical-align: middle;\n",
       "    }\n",
       "\n",
       "    .dataframe tbody tr th {\n",
       "        vertical-align: top;\n",
       "    }\n",
       "\n",
       "    .dataframe thead th {\n",
       "        text-align: right;\n",
       "    }\n",
       "</style>\n",
       "<table border=\"1\" class=\"dataframe\">\n",
       "  <thead>\n",
       "    <tr style=\"text-align: right;\">\n",
       "      <th></th>\n",
       "      <th>survived</th>\n",
       "      <th>passenger_class</th>\n",
       "      <th>name</th>\n",
       "      <th>sex</th>\n",
       "      <th>age</th>\n",
       "      <th>sibsp</th>\n",
       "      <th>parch</th>\n",
       "      <th>ticket</th>\n",
       "      <th>fare</th>\n",
       "      <th>embarked</th>\n",
       "      <th>freq</th>\n",
       "    </tr>\n",
       "  </thead>\n",
       "  <tbody>\n",
       "    <tr>\n",
       "      <th>0</th>\n",
       "      <td>0</td>\n",
       "      <td>3</td>\n",
       "      <td>Braund, Mr. Owen Harris</td>\n",
       "      <td>male</td>\n",
       "      <td>22</td>\n",
       "      <td>1</td>\n",
       "      <td>0</td>\n",
       "      <td>A/5 21171</td>\n",
       "      <td>7.2500</td>\n",
       "      <td>S</td>\n",
       "      <td>1</td>\n",
       "    </tr>\n",
       "    <tr>\n",
       "      <th>1</th>\n",
       "      <td>1</td>\n",
       "      <td>1</td>\n",
       "      <td>Cumings, Mrs. John Bradley (Florence Briggs Th...</td>\n",
       "      <td>female</td>\n",
       "      <td>38</td>\n",
       "      <td>1</td>\n",
       "      <td>0</td>\n",
       "      <td>PC 17599</td>\n",
       "      <td>71.2833</td>\n",
       "      <td>C</td>\n",
       "      <td>1</td>\n",
       "    </tr>\n",
       "    <tr>\n",
       "      <th>2</th>\n",
       "      <td>1</td>\n",
       "      <td>3</td>\n",
       "      <td>Heikkinen, Miss. Laina</td>\n",
       "      <td>female</td>\n",
       "      <td>26</td>\n",
       "      <td>0</td>\n",
       "      <td>0</td>\n",
       "      <td>STON/O2. 3101282</td>\n",
       "      <td>7.9250</td>\n",
       "      <td>S</td>\n",
       "      <td>1</td>\n",
       "    </tr>\n",
       "    <tr>\n",
       "      <th>3</th>\n",
       "      <td>1</td>\n",
       "      <td>1</td>\n",
       "      <td>Futrelle, Mrs. Jacques Heath (Lily May Peel)</td>\n",
       "      <td>female</td>\n",
       "      <td>35</td>\n",
       "      <td>1</td>\n",
       "      <td>0</td>\n",
       "      <td>113803</td>\n",
       "      <td>53.1000</td>\n",
       "      <td>S</td>\n",
       "      <td>2</td>\n",
       "    </tr>\n",
       "    <tr>\n",
       "      <th>4</th>\n",
       "      <td>0</td>\n",
       "      <td>3</td>\n",
       "      <td>Allen, Mr. William Henry</td>\n",
       "      <td>male</td>\n",
       "      <td>35</td>\n",
       "      <td>0</td>\n",
       "      <td>0</td>\n",
       "      <td>373450</td>\n",
       "      <td>8.0500</td>\n",
       "      <td>S</td>\n",
       "      <td>1</td>\n",
       "    </tr>\n",
       "  </tbody>\n",
       "</table>\n",
       "</div>"
      ],
      "text/plain": [
       "   survived  passenger_class  \\\n",
       "0         0                3   \n",
       "1         1                1   \n",
       "2         1                3   \n",
       "3         1                1   \n",
       "4         0                3   \n",
       "\n",
       "                                                name     sex  age  sibsp  \\\n",
       "0                            Braund, Mr. Owen Harris    male   22      1   \n",
       "1  Cumings, Mrs. John Bradley (Florence Briggs Th...  female   38      1   \n",
       "2                             Heikkinen, Miss. Laina  female   26      0   \n",
       "3       Futrelle, Mrs. Jacques Heath (Lily May Peel)  female   35      1   \n",
       "4                           Allen, Mr. William Henry    male   35      0   \n",
       "\n",
       "   parch            ticket     fare embarked  freq  \n",
       "0      0         A/5 21171   7.2500        S     1  \n",
       "1      0          PC 17599  71.2833        C     1  \n",
       "2      0  STON/O2. 3101282   7.9250        S     1  \n",
       "3      0            113803  53.1000        S     2  \n",
       "4      0            373450   8.0500        S     1  "
      ]
     },
     "execution_count": 7,
     "metadata": {},
     "output_type": "execute_result"
    }
   ],
   "source": [
    "# Cria coluna com frequencia dos tickets\n",
    "df_titanic['freq'] = df_titanic.groupby('ticket')['ticket'].transform('count').astype(int)\n",
    "df_titanic.head()"
   ]
  },
  {
   "cell_type": "markdown",
   "metadata": {},
   "source": [
    "Identificou a necessidade de categorizar a idade dos passageiros por classes para auxílio na compreensão do perfil dos passageiros. Passageiros menores de 12 anos foram declarados serem crianças, passageiros de 13 até 18 anos foram considerados adolescentes e os demais foram considerados adultos."
   ]
  },
  {
   "cell_type": "code",
   "execution_count": 8,
   "metadata": {},
   "outputs": [],
   "source": [
    "# Cria nova coluna com categoria de idade.\n",
    "# \n",
    "df_criancas = df_titanic.query('age <= 12').copy()\n",
    "df_adolescente = df_titanic.query('12 < age <= 18').copy()\n",
    "df_adulto = df_titanic.query('age > 18').copy()\n",
    "df_sem_idade = df_titanic[df_titanic['age'].isnull()].copy()\n",
    "\n",
    "idade_crianca = np.repeat('Criança', df_criancas.shape[0])\n",
    "idade_adolescente = np.repeat('Adolescente', df_adolescente.shape[0])\n",
    "idade_adulto = np.repeat('Adulto', df_adulto.shape[0])\n",
    "idade_desconhecido = np.repeat('Desconhecido', df_sem_idade.shape[0])\n",
    "\n",
    "df_criancas['age_category'] = idade_crianca\n",
    "df_adolescente['age_category'] = idade_adolescente\n",
    "df_adulto['age_category'] = idade_adulto\n",
    "df_sem_idade['age_category'] = idade_desconhecido\n",
    "\n",
    "df_titanic_edited = df_criancas.append(\n",
    "    [df_adolescente, df_adulto, df_sem_idade])\n",
    "df_titanic_edited.sort_index(inplace=True)"
   ]
  },
  {
   "cell_type": "markdown",
   "metadata": {},
   "source": [
    "Novo arquivo gerado após as modificações."
   ]
  },
  {
   "cell_type": "code",
   "execution_count": 9,
   "metadata": {},
   "outputs": [],
   "source": [
    "df_titanic_edited.to_csv('titanic_edited.csv', index=False)"
   ]
  },
  {
   "cell_type": "markdown",
   "metadata": {},
   "source": [
    "## 1.4. Analises"
   ]
  },
  {
   "cell_type": "code",
   "execution_count": 2,
   "metadata": {},
   "outputs": [
    {
     "data": {
      "text/html": [
       "<div>\n",
       "<style scoped>\n",
       "    .dataframe tbody tr th:only-of-type {\n",
       "        vertical-align: middle;\n",
       "    }\n",
       "\n",
       "    .dataframe tbody tr th {\n",
       "        vertical-align: top;\n",
       "    }\n",
       "\n",
       "    .dataframe thead th {\n",
       "        text-align: right;\n",
       "    }\n",
       "</style>\n",
       "<table border=\"1\" class=\"dataframe\">\n",
       "  <thead>\n",
       "    <tr style=\"text-align: right;\">\n",
       "      <th></th>\n",
       "      <th>survived</th>\n",
       "      <th>passenger_class</th>\n",
       "      <th>name</th>\n",
       "      <th>sex</th>\n",
       "      <th>age</th>\n",
       "      <th>sibsp</th>\n",
       "      <th>parch</th>\n",
       "      <th>ticket</th>\n",
       "      <th>fare</th>\n",
       "      <th>embarked</th>\n",
       "      <th>freq</th>\n",
       "      <th>age_category</th>\n",
       "    </tr>\n",
       "  </thead>\n",
       "  <tbody>\n",
       "    <tr>\n",
       "      <th>0</th>\n",
       "      <td>0</td>\n",
       "      <td>3</td>\n",
       "      <td>Braund, Mr. Owen Harris</td>\n",
       "      <td>male</td>\n",
       "      <td>22</td>\n",
       "      <td>1</td>\n",
       "      <td>0</td>\n",
       "      <td>A/5 21171</td>\n",
       "      <td>7.2500</td>\n",
       "      <td>S</td>\n",
       "      <td>1</td>\n",
       "      <td>Adulto</td>\n",
       "    </tr>\n",
       "    <tr>\n",
       "      <th>1</th>\n",
       "      <td>1</td>\n",
       "      <td>1</td>\n",
       "      <td>Cumings, Mrs. John Bradley (Florence Briggs Th...</td>\n",
       "      <td>female</td>\n",
       "      <td>38</td>\n",
       "      <td>1</td>\n",
       "      <td>0</td>\n",
       "      <td>PC 17599</td>\n",
       "      <td>71.2833</td>\n",
       "      <td>C</td>\n",
       "      <td>1</td>\n",
       "      <td>Adulto</td>\n",
       "    </tr>\n",
       "    <tr>\n",
       "      <th>2</th>\n",
       "      <td>1</td>\n",
       "      <td>3</td>\n",
       "      <td>Heikkinen, Miss. Laina</td>\n",
       "      <td>female</td>\n",
       "      <td>26</td>\n",
       "      <td>0</td>\n",
       "      <td>0</td>\n",
       "      <td>STON/O2. 3101282</td>\n",
       "      <td>7.9250</td>\n",
       "      <td>S</td>\n",
       "      <td>1</td>\n",
       "      <td>Adulto</td>\n",
       "    </tr>\n",
       "    <tr>\n",
       "      <th>3</th>\n",
       "      <td>1</td>\n",
       "      <td>1</td>\n",
       "      <td>Futrelle, Mrs. Jacques Heath (Lily May Peel)</td>\n",
       "      <td>female</td>\n",
       "      <td>35</td>\n",
       "      <td>1</td>\n",
       "      <td>0</td>\n",
       "      <td>113803</td>\n",
       "      <td>53.1000</td>\n",
       "      <td>S</td>\n",
       "      <td>2</td>\n",
       "      <td>Adulto</td>\n",
       "    </tr>\n",
       "    <tr>\n",
       "      <th>4</th>\n",
       "      <td>0</td>\n",
       "      <td>3</td>\n",
       "      <td>Allen, Mr. William Henry</td>\n",
       "      <td>male</td>\n",
       "      <td>35</td>\n",
       "      <td>0</td>\n",
       "      <td>0</td>\n",
       "      <td>373450</td>\n",
       "      <td>8.0500</td>\n",
       "      <td>S</td>\n",
       "      <td>1</td>\n",
       "      <td>Adulto</td>\n",
       "    </tr>\n",
       "  </tbody>\n",
       "</table>\n",
       "</div>"
      ],
      "text/plain": [
       "   survived  passenger_class  \\\n",
       "0         0                3   \n",
       "1         1                1   \n",
       "2         1                3   \n",
       "3         1                1   \n",
       "4         0                3   \n",
       "\n",
       "                                                name     sex  age  sibsp  \\\n",
       "0                            Braund, Mr. Owen Harris    male   22      1   \n",
       "1  Cumings, Mrs. John Bradley (Florence Briggs Th...  female   38      1   \n",
       "2                             Heikkinen, Miss. Laina  female   26      0   \n",
       "3       Futrelle, Mrs. Jacques Heath (Lily May Peel)  female   35      1   \n",
       "4                           Allen, Mr. William Henry    male   35      0   \n",
       "\n",
       "   parch            ticket    fare embarked  freq age_category  \n",
       "0      0         A/5 21171  7.2500        S     1       Adulto  \n",
       "1      0          PC 17599 71.2833        C     1       Adulto  \n",
       "2      0  STON/O2. 3101282  7.9250        S     1       Adulto  \n",
       "3      0            113803 53.1000        S     2       Adulto  \n",
       "4      0            373450  8.0500        S     1       Adulto  "
      ]
     },
     "execution_count": 2,
     "metadata": {},
     "output_type": "execute_result"
    }
   ],
   "source": [
    "import numpy as np\n",
    "import pandas as pd\n",
    "import matplotlib.pyplot as plt\n",
    "import seaborn as sns\n",
    "\n",
    "%matplotlib inline\n",
    "\n",
    "\"\"\" Geração de tabelas e gráficos e outros elementos usando do Data Set do Titanic editado\n",
    "oferencido no curso de fundamentos de Data Science I (Udacity).\n",
    "\"\"\"\n",
    "\n",
    "# Algumas analises não foram feitas devido a ausência de observações no banco de dados, \n",
    "# onde poderiamos verificar as informação familiares pelas colunas SibSp e Parch,\n",
    "# existem informações de pessoas com acompanhantes mas não existem estes acompa-\n",
    "# nhantes no banco de dados.\n",
    "\n",
    "# Formata os ponto flutuantes para quatro casas decimais.\n",
    "pd.set_option('display.float_format', '{:.4f}'.format)\n",
    "\n",
    "df_titanic = pd.read_csv('titanic_edited.csv')\n",
    "# Cabeçalho.\n",
    "df_titanic.head(5)"
   ]
  },
  {
   "cell_type": "code",
   "execution_count": 59,
   "metadata": {},
   "outputs": [
    {
     "name": "stdout",
     "output_type": "stream",
     "text": [
      "0\n",
      "0\n"
     ]
    }
   ],
   "source": [
    "# df_titanic.loc[df_titanic['sex'] == np.nan, 'age'] = df_titanic.query('sex == \"female\"')['age'].mean()\n",
    "# df_titanic.query('sex == \"female\"')['age'].isna().sum()\n",
    "print(df_titanic.query('sex == \"male\"')['age'].isna().sum())\n",
    "print(df_titanic.query('sex == \"female\"')['age'].isna().sum())\n",
    "# df_titanic.query('sex == \"female\"')['age'].fillna(df_titanic.query('sex == \"female\"')['age'].mean(), inplace=True)\n",
    "# df_titanic.query('sex == \"female\"')['age'].isna().sum()\n",
    "# df_titanic.query('sex == \"male\"')['age'].isna().sum()"
   ]
  },
  {
   "cell_type": "code",
   "execution_count": 51,
   "metadata": {},
   "outputs": [
    {
     "name": "stdout",
     "output_type": "stream",
     "text": [
      "Colunas:  | passenger_class | name | sex | age | sibsp | parch | ticket | fare | embarked | freq | age_category\n"
     ]
    }
   ],
   "source": [
    "# Nomes das colunas.\n",
    "print('Colunas: ', *(x for x in df_titanic.columns[1:]), sep=' | ')"
   ]
  },
  {
   "cell_type": "markdown",
   "metadata": {},
   "source": [
    "Qual o total de passageiros sobreviventes por categoria de idade e por classe?"
   ]
  },
  {
   "cell_type": "code",
   "execution_count": 12,
   "metadata": {},
   "outputs": [
    {
     "name": "stdout",
     "output_type": "stream",
     "text": [
      "Tabela 1: Passageiros por classe social, total de indivíduos por categoria de idade e sobreviventes da categoria.\n"
     ]
    },
    {
     "data": {
      "text/html": [
       "<div>\n",
       "<style scoped>\n",
       "    .dataframe tbody tr th:only-of-type {\n",
       "        vertical-align: middle;\n",
       "    }\n",
       "\n",
       "    .dataframe tbody tr th {\n",
       "        vertical-align: top;\n",
       "    }\n",
       "\n",
       "    .dataframe thead th {\n",
       "        text-align: right;\n",
       "    }\n",
       "</style>\n",
       "<table border=\"1\" class=\"dataframe\">\n",
       "  <thead>\n",
       "    <tr style=\"text-align: right;\">\n",
       "      <th></th>\n",
       "      <th>passenger_class</th>\n",
       "      <th>age_category</th>\n",
       "      <th>survived</th>\n",
       "    </tr>\n",
       "  </thead>\n",
       "  <tbody>\n",
       "    <tr>\n",
       "      <th>0</th>\n",
       "      <td>1</td>\n",
       "      <td>Adolescente</td>\n",
       "      <td>11</td>\n",
       "    </tr>\n",
       "    <tr>\n",
       "      <th>1</th>\n",
       "      <td>1</td>\n",
       "      <td>Adulto</td>\n",
       "      <td>122</td>\n",
       "    </tr>\n",
       "    <tr>\n",
       "      <th>2</th>\n",
       "      <td>1</td>\n",
       "      <td>Criança</td>\n",
       "      <td>3</td>\n",
       "    </tr>\n",
       "    <tr>\n",
       "      <th>3</th>\n",
       "      <td>2</td>\n",
       "      <td>Adolescente</td>\n",
       "      <td>6</td>\n",
       "    </tr>\n",
       "    <tr>\n",
       "      <th>4</th>\n",
       "      <td>2</td>\n",
       "      <td>Adulto</td>\n",
       "      <td>64</td>\n",
       "    </tr>\n",
       "    <tr>\n",
       "      <th>5</th>\n",
       "      <td>2</td>\n",
       "      <td>Criança</td>\n",
       "      <td>17</td>\n",
       "    </tr>\n",
       "    <tr>\n",
       "      <th>6</th>\n",
       "      <td>3</td>\n",
       "      <td>Adolescente</td>\n",
       "      <td>13</td>\n",
       "    </tr>\n",
       "    <tr>\n",
       "      <th>7</th>\n",
       "      <td>3</td>\n",
       "      <td>Adulto</td>\n",
       "      <td>86</td>\n",
       "    </tr>\n",
       "    <tr>\n",
       "      <th>8</th>\n",
       "      <td>3</td>\n",
       "      <td>Criança</td>\n",
       "      <td>20</td>\n",
       "    </tr>\n",
       "    <tr>\n",
       "      <th>total</th>\n",
       "      <td>-</td>\n",
       "      <td>-</td>\n",
       "      <td>342</td>\n",
       "    </tr>\n",
       "  </tbody>\n",
       "</table>\n",
       "</div>"
      ],
      "text/plain": [
       "      passenger_class age_category  survived\n",
       "0                   1  Adolescente        11\n",
       "1                   1       Adulto       122\n",
       "2                   1      Criança         3\n",
       "3                   2  Adolescente         6\n",
       "4                   2       Adulto        64\n",
       "5                   2      Criança        17\n",
       "6                   3  Adolescente        13\n",
       "7                   3       Adulto        86\n",
       "8                   3      Criança        20\n",
       "total               -            -       342"
      ]
     },
     "execution_count": 12,
     "metadata": {},
     "output_type": "execute_result"
    }
   ],
   "source": [
    "# Tabela 1: Passageiros por classe social, total de indivíduos por categoria de\n",
    "# idade e sobreviventes da categoria.\n",
    "df_1 = df_titanic.query('survived == 1').groupby(\n",
    "    ['passenger_class', 'age_category'])['survived'].count().reset_index()\n",
    "class_sum = df_1['survived'].sum()\n",
    "df_1.loc['total'] = np.array(['-','-',class_sum])\n",
    "df_1['survived'] = df_1['survived'].astype(int)\n",
    "df_1.to_csv('tables/t_1.csv', index=False)\n",
    "print('Tabela 1: Passageiros por classe social, total de indivíduos por categoria de idade e sobreviventes da categoria.')\n",
    "df_1"
   ]
  },
  {
   "cell_type": "markdown",
   "metadata": {},
   "source": [
    "A *Tabela 1* demonstra que a grande maioria dos sobreviventes do naufrágio do Titanic, em todas as classes de passageiros, são adultos, sendo a grande maioria pertencentes a primeira classe. Esses dados consideram que 30 pessoas não identificadas da primeira classe são da categoria adulta, por intermédio da substituição dos Nas pela de média entre a quantidade de passageiros dessa classe. Ainda sabemos que o total desses sobreviventes somam 342 passageiros."
   ]
  },
  {
   "cell_type": "markdown",
   "metadata": {},
   "source": [
    "Qual o total de passageiros sobreviventes por categoria de idade e por classe?"
   ]
  },
  {
   "cell_type": "code",
   "execution_count": 13,
   "metadata": {},
   "outputs": [
    {
     "name": "stderr",
     "output_type": "stream",
     "text": [
      "/home/trprado/.local/share/virtualenvs/udacity-WaEjM5--/lib/python3.6/site-packages/scipy/stats/stats.py:1713: FutureWarning: Using a non-tuple sequence for multidimensional indexing is deprecated; use `arr[tuple(seq)]` instead of `arr[seq]`. In the future this will be interpreted as an array index, `arr[np.array(seq)]`, which will result either in an error or a different result.\n",
      "  return np.add.reduce(sorted[indexer] * weights, axis=axis) / sumval\n"
     ]
    },
    {
     "data": {
      "image/png": "[encoded data removed]",
      "text/plain": [
       "<Figure size 457.5x360 with 1 Axes>"
      ]
     },
     "metadata": {
      "needs_background": "light"
     },
     "output_type": "display_data"
    }
   ],
   "source": [
    "# Gráfico de Sobreviventes por classe e categoria de idade.\n",
    "# Existe um warning nesse gráfico, mas não entendi como resolver.\n",
    "g1 = sns.catplot(data=df_titanic, x='passenger_class', y='survived',\n",
    "    kind='bar', hue='age_category')\n",
    "g1._legend.set_title('Categoria de Idade')\n",
    "plt.xlabel('Classe')\n",
    "plt.ylabel('Sobreviventes')\n",
    "plt.title('Sobreviventes por classe e categoria de idade')\n",
    "sns.despine(offset=5, trim=True)\n",
    "g1.savefig('imgs/g1-survived-class-by-age-cotegory.png')\n"
   ]
  },
  {
   "cell_type": "markdown",
   "metadata": {},
   "source": [
    "A *Figura 1* ajuda a esclarecer visualmente a porcentagem de sobreviventes entre cada categoria e sua classe de passageiro. Por ela pode-se verificar claramente que a grande maioria dos sobreviventes são da primeira classe, sendo que na segunda classe quase todas as crianças sobreviveram."
   ]
  },
  {
   "cell_type": "markdown",
   "metadata": {},
   "source": [
    "Qual o total de passageiros por classe e categoria de idade?"
   ]
  },
  {
   "cell_type": "code",
   "execution_count": 14,
   "metadata": {},
   "outputs": [
    {
     "data": {
      "image/png": "[encoded data removed]",
      "text/plain": [
       "<Figure size 457.5x360 with 1 Axes>"
      ]
     },
     "metadata": {
      "needs_background": "light"
     },
     "output_type": "display_data"
    }
   ],
   "source": [
    "# Gráfico de contagem de passageiros por classe e categoria de idade.\n",
    "g2 = sns.catplot(data=df_titanic, x='passenger_class',\n",
    "    kind='count', hue='age_category')\n",
    "g2._legend.set_title('Categoria de Idade')\n",
    "plt.xlabel('Classe')\n",
    "plt.ylabel('Contagem')\n",
    "plt.title('Contagem por classe e categoria de idade')\n",
    "sns.despine(offset=5, trim=True)\n",
    "g2.savefig('imgs/g2-count-class-by-age-cotegory.png')"
   ]
  },
  {
   "cell_type": "markdown",
   "metadata": {},
   "source": [
    "Na *Figura 2* observa-se que a população de passageiros era constituída, na maior parte, por adultos. Para todas as categorias de idade, observa-se maior discrepância de valores na terceira classe em relação as demais. Observa-se ainda que a população de crianças na primeira classe foi a menor entre as classes."
   ]
  },
  {
   "cell_type": "markdown",
   "metadata": {},
   "source": [
    "Graficamente, como é a descrição da categoria de idade por classe?"
   ]
  },
  {
   "cell_type": "code",
   "execution_count": 15,
   "metadata": {},
   "outputs": [
    {
     "data": {
      "image/png": "[encoded data removed]",
      "text/plain": [
       "<Figure size 576x432 with 3 Axes>"
      ]
     },
     "metadata": {
      "needs_background": "light"
     },
     "output_type": "display_data"
    }
   ],
   "source": [
    "# Gráfico de caixa de categoria de idade por classe.\n",
    "g3 = sns.catplot(y=\"age_category\", x=\"age\", row=\"passenger_class\",\n",
    "                 orient=\"h\", height=2, aspect=4, kind=\"box\",\n",
    "                 data=df_titanic.query('age_category != \"Desconhecido\"'))\n",
    "g3.set_ylabels('Categoria de Idade')\n",
    "g3.set_xlabels('Idade')\n",
    "g3.set_titles(\"{row_name}(a) classe\")\n",
    "sns.despine(offset=5, trim=True)\n",
    "g3.savefig('imgs/g3-box-class-by-age-cotegory.png')"
   ]
  },
  {
   "cell_type": "markdown",
   "metadata": {},
   "source": [
    "O mesmo é observado na *Figura 3*, com informações adicionais de que existem outliers na categoria adultos em todas as classes (*Figura 4*). Observa-se também que existe pouca variabilidade dentro das categorias, exceto para criança na primeira e terceira classe, adolescente na segunda classe e adultos na terceira classe."
   ]
  },
  {
   "cell_type": "markdown",
   "metadata": {},
   "source": [
    "Como os adultos constituem a maior parte da população de passageiros, como estão distribuídos sumariamente os adultos por classe? Existe muita diferença entre eles?"
   ]
  },
  {
   "cell_type": "code",
   "execution_count": 16,
   "metadata": {},
   "outputs": [
    {
     "data": {
      "image/png": "[encoded data removed]",
      "text/plain": [
       "<Figure size 432x432 with 1 Axes>"
      ]
     },
     "metadata": {
      "needs_background": "light"
     },
     "output_type": "display_data"
    }
   ],
   "source": [
    "# Gráfico de caixa entre idade de passageiros adultos e classe social.\n",
    "f, g8 = plt.subplots(figsize=(6, 6))\n",
    "sns.boxplot(x=\"passenger_class\", y=\"age\",\n",
    "            data=df_titanic.query('age_category != \"Desconhecido\" & age > 18'))\n",
    "plt.ylabel('Idade')\n",
    "plt.xlabel('Classe')\n",
    "plt.title(\"Idade dos adultos por classe\")\n",
    "sns.despine(offset=5, trim=True);\n",
    "g8.figure.savefig('imgs/g8-box-adult-age-by-social.png')"
   ]
  },
  {
   "cell_type": "markdown",
   "metadata": {},
   "source": [
    "A *Figura 4* demonstra um gráfico de caixa com dados dos passageiros adultos em diferentes classes. É possível ver que existem outliers em todas as categorias. A mediana da idade dos adultos da terceira e primeira classe são próximas, assim como existe maior variabilidade nessas classes. A primeira classe é formada por pessoas mais velhas e a terceira por adultos com idades mais jovens. A segunda classe aparenta ser mais homogênea do que as demais."
   ]
  },
  {
   "cell_type": "markdown",
   "metadata": {},
   "source": [
    "Como é a distribuição das idades por classe?"
   ]
  },
  {
   "cell_type": "code",
   "execution_count": 17,
   "metadata": {
    "scrolled": true
   },
   "outputs": [
    {
     "data": {
      "image/png": "[encoded data removed]",
      "text/plain": [
       "<Figure size 1080x360 with 3 Axes>"
      ]
     },
     "metadata": {
      "needs_background": "light"
     },
     "output_type": "display_data"
    }
   ],
   "source": [
    "# Histograma idade por classe social\n",
    "\n",
    "g = sns.FacetGrid(df_titanic_edited, col=\"passenger_class\", height=5)\n",
    "g.set_ylabels('Frequência')\n",
    "g.map(plt.hist, \"age\")\n",
    "g.set_ylabels('Frequência')\n",
    "g.set_xlabels('Idade')\n",
    "g.set(xticks=np.arange(0, 85, 5),\n",
    "      xticklabels=['0', '', '10', '', '20', '', '30', '', \n",
    "                   '40', '', '50', '', '60', '', '70', '', '80'])\n",
    "sns.despine(offset=5, trim=True);\n",
    "g.savefig('imgs/g11-hist-age-first-to-third-class.png')"
   ]
  },
  {
   "cell_type": "markdown",
   "metadata": {},
   "source": [
    "O primeiro gráfico de frequência na *Figura 5*, representando a primeira classe, apresenta uma distribuição simétrica e a maior frequência observada é de adultos com idade variando de 35 a 40 anos. No segundo e terceiro gráficos observam-se assimetrias positivas, sendo que no terceiro gráfico a maior frequência de idade varia de 40 a 45 anos e pertence a categoria adulta."
   ]
  },
  {
   "cell_type": "markdown",
   "metadata": {},
   "source": [
    "Como estão distribuídos os gêneros por classe?"
   ]
  },
  {
   "cell_type": "code",
   "execution_count": 18,
   "metadata": {},
   "outputs": [
    {
     "data": {
      "image/png": "[encoded data removed]",
      "text/plain": [
       "<Figure size 430.5x360 with 1 Axes>"
      ]
     },
     "metadata": {
      "needs_background": "light"
     },
     "output_type": "display_data"
    }
   ],
   "source": [
    "# Gráfico de contagem de passageiros por classe e gênero.\n",
    "g4 = sns.catplot(data=df_titanic, x='passenger_class', kind='count', hue='sex')\n",
    "g4._legend.set_title('Gênero')\n",
    "plt.xlabel('Classe')\n",
    "plt.ylabel('Contagem')\n",
    "plt.title('Contagem de pessoas por classe e gênero')\n",
    "sns.despine(offset=5, trim=True)\n",
    "g4.savefig('imgs/g4-count-passengers-class.png')"
   ]
  },
  {
   "cell_type": "markdown",
   "metadata": {},
   "source": [
    "A *Figura 6* demonstra que a contagem de homens a bordo em todas as classes é maior que a de mulheres, independente da idade. Resalta-se a discrepância de passageiros do gênero masculino na terceira classe."
   ]
  },
  {
   "cell_type": "markdown",
   "metadata": {},
   "source": [
    "Qual o total de passageiros e sobreviventes por gênero e classe?"
   ]
  },
  {
   "cell_type": "code",
   "execution_count": 19,
   "metadata": {},
   "outputs": [
    {
     "name": "stdout",
     "output_type": "stream",
     "text": [
      "Tabela 2: Passageiros por classe com total de indivíduos por classe e sobreviventes.\n"
     ]
    },
    {
     "data": {
      "text/html": [
       "<div>\n",
       "<style scoped>\n",
       "    .dataframe tbody tr th:only-of-type {\n",
       "        vertical-align: middle;\n",
       "    }\n",
       "\n",
       "    .dataframe tbody tr th {\n",
       "        vertical-align: top;\n",
       "    }\n",
       "\n",
       "    .dataframe thead th {\n",
       "        text-align: right;\n",
       "    }\n",
       "</style>\n",
       "<table border=\"1\" class=\"dataframe\">\n",
       "  <thead>\n",
       "    <tr style=\"text-align: right;\">\n",
       "      <th></th>\n",
       "      <th></th>\n",
       "      <th>total</th>\n",
       "      <th>survived</th>\n",
       "    </tr>\n",
       "    <tr>\n",
       "      <th>passenger_class</th>\n",
       "      <th>sex</th>\n",
       "      <th></th>\n",
       "      <th></th>\n",
       "    </tr>\n",
       "  </thead>\n",
       "  <tbody>\n",
       "    <tr>\n",
       "      <th rowspan=\"2\" valign=\"top\">1</th>\n",
       "      <th>female</th>\n",
       "      <td>94</td>\n",
       "      <td>91</td>\n",
       "    </tr>\n",
       "    <tr>\n",
       "      <th>male</th>\n",
       "      <td>122</td>\n",
       "      <td>45</td>\n",
       "    </tr>\n",
       "    <tr>\n",
       "      <th rowspan=\"2\" valign=\"top\">2</th>\n",
       "      <th>female</th>\n",
       "      <td>76</td>\n",
       "      <td>70</td>\n",
       "    </tr>\n",
       "    <tr>\n",
       "      <th>male</th>\n",
       "      <td>108</td>\n",
       "      <td>17</td>\n",
       "    </tr>\n",
       "    <tr>\n",
       "      <th rowspan=\"2\" valign=\"top\">3</th>\n",
       "      <th>female</th>\n",
       "      <td>144</td>\n",
       "      <td>72</td>\n",
       "    </tr>\n",
       "    <tr>\n",
       "      <th>male</th>\n",
       "      <td>347</td>\n",
       "      <td>47</td>\n",
       "    </tr>\n",
       "  </tbody>\n",
       "</table>\n",
       "</div>"
      ],
      "text/plain": [
       "                        total  survived\n",
       "passenger_class sex                    \n",
       "1               female     94        91\n",
       "                male      122        45\n",
       "2               female     76        70\n",
       "                male      108        17\n",
       "3               female    144        72\n",
       "                male      347        47"
      ]
     },
     "execution_count": 19,
     "metadata": {},
     "output_type": "execute_result"
    }
   ],
   "source": [
    "# Tabela 2: Passageiros por classe, total de indivíduos por sexo e\n",
    "# sobrevivementes da categoria.\n",
    "df_2 = df_titanic.groupby(['passenger_class', 'sex']).agg(\n",
    "    {'name':'count', 'survived':'sum'}).rename(\n",
    "    columns={'name':'total'})\n",
    "df_2.to_csv('tables/t_2.csv')\n",
    "print('Tabela 2: Passageiros por classe com total de indivíduos por classe e sobreviventes.')\n",
    "df_2"
   ]
  },
  {
   "cell_type": "markdown",
   "metadata": {},
   "source": [
    "A *Tabela 2* mostra que existe mais homens e mulheres na terceira classe, como observado anteriormente na *Figuras 6*. A maioria dos sobreviventes são do gênero feminino, *Tabela 4*, sendo que a primeira e segunda classe quase todas as passageiras sobreviveram. Esses dados podem ser reafirmados pela *Figura 6*, que mostra a contagem de passageiros a bordo, com uma discrepância de passageiros do gênero masculino na terceira classe."
   ]
  },
  {
   "cell_type": "markdown",
   "metadata": {},
   "source": [
    "Qual o total de passageiros e sobreviventes por classe?"
   ]
  },
  {
   "cell_type": "code",
   "execution_count": 20,
   "metadata": {},
   "outputs": [
    {
     "name": "stdout",
     "output_type": "stream",
     "text": [
      "Tabela 3: Total de passageiros por classe e sobreviventes.\n"
     ]
    },
    {
     "data": {
      "text/html": [
       "<div>\n",
       "<style scoped>\n",
       "    .dataframe tbody tr th:only-of-type {\n",
       "        vertical-align: middle;\n",
       "    }\n",
       "\n",
       "    .dataframe tbody tr th {\n",
       "        vertical-align: top;\n",
       "    }\n",
       "\n",
       "    .dataframe thead th {\n",
       "        text-align: right;\n",
       "    }\n",
       "</style>\n",
       "<table border=\"1\" class=\"dataframe\">\n",
       "  <thead>\n",
       "    <tr style=\"text-align: right;\">\n",
       "      <th></th>\n",
       "      <th>total</th>\n",
       "      <th>survived</th>\n",
       "    </tr>\n",
       "    <tr>\n",
       "      <th>passenger_class</th>\n",
       "      <th></th>\n",
       "      <th></th>\n",
       "    </tr>\n",
       "  </thead>\n",
       "  <tbody>\n",
       "    <tr>\n",
       "      <th>1</th>\n",
       "      <td>216</td>\n",
       "      <td>136</td>\n",
       "    </tr>\n",
       "    <tr>\n",
       "      <th>2</th>\n",
       "      <td>184</td>\n",
       "      <td>87</td>\n",
       "    </tr>\n",
       "    <tr>\n",
       "      <th>3</th>\n",
       "      <td>491</td>\n",
       "      <td>119</td>\n",
       "    </tr>\n",
       "  </tbody>\n",
       "</table>\n",
       "</div>"
      ],
      "text/plain": [
       "                 total  survived\n",
       "passenger_class                 \n",
       "1                  216       136\n",
       "2                  184        87\n",
       "3                  491       119"
      ]
     },
     "execution_count": 20,
     "metadata": {},
     "output_type": "execute_result"
    }
   ],
   "source": [
    "# Tabela 3: Contagem de passageiros por classe e sobreviventes.\n",
    "df_3 = df_titanic.groupby('passenger_class').agg(\n",
    "    {'name':'count', 'survived': 'sum'}).rename(\n",
    "    columns={'name':'total'})\n",
    "df_3.to_csv('tables/t_3.csv')\n",
    "print('Tabela 3: Total de passageiros por classe e sobreviventes.')\n",
    "df_3"
   ]
  },
  {
   "cell_type": "markdown",
   "metadata": {},
   "source": [
    "A *Tabela 3* demonstra que a grande maioria dos passageiros constitue a terceira classe, sendo o dobro de passageiros da primeira classe, porém sobreviveu apenas, aproximadamente, 1/4 enquanto a primeira classe teve uma taxa de sobrevivência maior que 50%."
   ]
  },
  {
   "cell_type": "markdown",
   "metadata": {},
   "source": [
    "Graficamente, qual é a diferença do total de passageiros entre as classes?"
   ]
  },
  {
   "cell_type": "code",
   "execution_count": 21,
   "metadata": {},
   "outputs": [
    {
     "data": {
      "image/png": "[encoded data removed]",
      "text/plain": [
       "<Figure size 360x360 with 1 Axes>"
      ]
     },
     "metadata": {
      "needs_background": "light"
     },
     "output_type": "display_data"
    }
   ],
   "source": [
    "# Contagem de passageiros por classe.\n",
    "g5 = sns.catplot(data=df_titanic, x='passenger_class', kind='count')\n",
    "plt.xlabel('Classe')\n",
    "plt.ylabel('Contagem')\n",
    "plt.title('Contagem de passageiros por classe social.')\n",
    "sns.despine(offset=5, trim=True)\n",
    "g5.savefig('imgs/g5-count-passenger-class.png')"
   ]
  },
  {
   "cell_type": "markdown",
   "metadata": {},
   "source": [
    "A *Figura 7* mostra o número de passageiros por classe. A classe com maior número de passageiros é a terceira classe, a segunda classe foi a que apresenta o menor número de passageiros."
   ]
  },
  {
   "cell_type": "markdown",
   "metadata": {},
   "source": [
    "Graficamente, qual a diferença numerica entre os gêneros?"
   ]
  },
  {
   "cell_type": "code",
   "execution_count": 22,
   "metadata": {},
   "outputs": [
    {
     "data": {
      "image/png": "[encoded data removed]",
      "text/plain": [
       "<Figure size 360x360 with 1 Axes>"
      ]
     },
     "metadata": {
      "needs_background": "light"
     },
     "output_type": "display_data"
    }
   ],
   "source": [
    "# Contagem de pessoas por gênero.\n",
    "g6 = sns.catplot(data=df_titanic, x='sex', kind='count')\n",
    "plt.xlabel('Gênero')\n",
    "plt.ylabel('Contagem')\n",
    "plt.title('Contagem de pessoas por gênero')\n",
    "sns.despine(offset=5, trim=True)\n",
    "g6.savefig('imgs/g6-count-people-by-gender.png')"
   ]
  },
  {
   "cell_type": "markdown",
   "metadata": {},
   "source": [
    "Observa-se, na *Figura 8*, que a população de passageiros era formada, majoritariamente, por pessoas do gênero masculino, representando quase o dobro do número total de pessoas do gênero feminino. "
   ]
  },
  {
   "cell_type": "markdown",
   "metadata": {},
   "source": [
    "Qual era o total de sobreviventes por gênero?"
   ]
  },
  {
   "cell_type": "code",
   "execution_count": 23,
   "metadata": {},
   "outputs": [
    {
     "name": "stdout",
     "output_type": "stream",
     "text": [
      "Tabela 4: Total de indivíduos por gênero e sobreviventes.\n"
     ]
    },
    {
     "data": {
      "text/html": [
       "<div>\n",
       "<style scoped>\n",
       "    .dataframe tbody tr th:only-of-type {\n",
       "        vertical-align: middle;\n",
       "    }\n",
       "\n",
       "    .dataframe tbody tr th {\n",
       "        vertical-align: top;\n",
       "    }\n",
       "\n",
       "    .dataframe thead th {\n",
       "        text-align: right;\n",
       "    }\n",
       "</style>\n",
       "<table border=\"1\" class=\"dataframe\">\n",
       "  <thead>\n",
       "    <tr style=\"text-align: right;\">\n",
       "      <th></th>\n",
       "      <th>total</th>\n",
       "      <th>survived</th>\n",
       "    </tr>\n",
       "    <tr>\n",
       "      <th>sex</th>\n",
       "      <th></th>\n",
       "      <th></th>\n",
       "    </tr>\n",
       "  </thead>\n",
       "  <tbody>\n",
       "    <tr>\n",
       "      <th>female</th>\n",
       "      <td>314</td>\n",
       "      <td>233</td>\n",
       "    </tr>\n",
       "    <tr>\n",
       "      <th>male</th>\n",
       "      <td>577</td>\n",
       "      <td>109</td>\n",
       "    </tr>\n",
       "  </tbody>\n",
       "</table>\n",
       "</div>"
      ],
      "text/plain": [
       "        total  survived\n",
       "sex                    \n",
       "female    314       233\n",
       "male      577       109"
      ]
     },
     "execution_count": 23,
     "metadata": {},
     "output_type": "execute_result"
    }
   ],
   "source": [
    "# Tabela 4: Total de indivíduos por gênero e sobreviventes.\n",
    "df_4 = df_titanic.groupby('sex').agg(\n",
    "    {'name':'count', 'survived':'sum'}).rename(columns={'name':'total'})\n",
    "df_4.to_csv('tables/t_4.csv')\n",
    "print('Tabela 4: Total de indivíduos por gênero e sobreviventes.')\n",
    "df_4"
   ]
  },
  {
   "cell_type": "markdown",
   "metadata": {},
   "source": [
    "A *Tabela 4* demonstra que os passageiros eram majoritariamente do gênero masculino, como também é observado na *Figura 8*, com maior sobrevivência de pessoas do gênero feminino. O que indica que mulheres tiveram uma maior taxa de sobrevivência comparado a homens, o que é esperado em um acidente dessas proporções."
   ]
  },
  {
   "cell_type": "markdown",
   "metadata": {},
   "source": [
    "Qual o total de sobreviventes por categoria de idade?"
   ]
  },
  {
   "cell_type": "code",
   "execution_count": 24,
   "metadata": {},
   "outputs": [
    {
     "name": "stdout",
     "output_type": "stream",
     "text": [
      "Tabela 5: Contagem de pessoas por categoria de idade e sobreviventes.\n"
     ]
    },
    {
     "data": {
      "text/html": [
       "<div>\n",
       "<style scoped>\n",
       "    .dataframe tbody tr th:only-of-type {\n",
       "        vertical-align: middle;\n",
       "    }\n",
       "\n",
       "    .dataframe tbody tr th {\n",
       "        vertical-align: top;\n",
       "    }\n",
       "\n",
       "    .dataframe thead th {\n",
       "        text-align: right;\n",
       "    }\n",
       "</style>\n",
       "<table border=\"1\" class=\"dataframe\">\n",
       "  <thead>\n",
       "    <tr style=\"text-align: right;\">\n",
       "      <th></th>\n",
       "      <th>total</th>\n",
       "      <th>survived</th>\n",
       "    </tr>\n",
       "    <tr>\n",
       "      <th>age_category</th>\n",
       "      <th></th>\n",
       "      <th></th>\n",
       "    </tr>\n",
       "  </thead>\n",
       "  <tbody>\n",
       "    <tr>\n",
       "      <th>Adolescente</th>\n",
       "      <td>70</td>\n",
       "      <td>30</td>\n",
       "    </tr>\n",
       "    <tr>\n",
       "      <th>Adulto</th>\n",
       "      <td>752</td>\n",
       "      <td>272</td>\n",
       "    </tr>\n",
       "    <tr>\n",
       "      <th>Criança</th>\n",
       "      <td>69</td>\n",
       "      <td>40</td>\n",
       "    </tr>\n",
       "  </tbody>\n",
       "</table>\n",
       "</div>"
      ],
      "text/plain": [
       "              total  survived\n",
       "age_category                 \n",
       "Adolescente      70        30\n",
       "Adulto          752       272\n",
       "Criança          69        40"
      ]
     },
     "execution_count": 24,
     "metadata": {},
     "output_type": "execute_result"
    }
   ],
   "source": [
    "# Tabela 5: Contagem de pessoas por categoria de idade e sobreviventes.\n",
    "df_5 = df_titanic.groupby('age_category').agg(\n",
    "    {'name':'count', 'survived':'sum'}).rename(columns={'name':'total'})\n",
    "df_5.to_csv('tables/t_5.csv')\n",
    "print('Tabela 5: Contagem de pessoas por categoria de idade e sobreviventes.')\n",
    "df_5"
   ]
  },
  {
   "cell_type": "markdown",
   "metadata": {},
   "source": [
    "A grande maioria dos passageiros era da categoria adulta, com a minoria sendo de crianças e adolescentes (*Figura 9*). Houve maior número de falecidos na categoria adulta, 63,83% e mais de 50% dos adolescentes faleceram no naufrágio. No total, 57,97% das crianças, 37,52% dos adultos e 42,86% dos adolescentes sobreviveram como pode ser observado na Tabela 5. Assim a maior taxa de sobrevivência não é de adultos e sim de crianças, com quase 58% de sobrevivência."
   ]
  },
  {
   "cell_type": "markdown",
   "metadata": {},
   "source": [
    "Graficamente, qual era a diferença entre as categorias de idade entre os passageiros?"
   ]
  },
  {
   "cell_type": "code",
   "execution_count": 25,
   "metadata": {},
   "outputs": [
    {
     "data": {
      "image/png": "[encoded data removed]",
      "text/plain": [
       "<Figure size 360x360 with 1 Axes>"
      ]
     },
     "metadata": {
      "needs_background": "light"
     },
     "output_type": "display_data"
    }
   ],
   "source": [
    "# Contagem de pessoas por categoria de idade.\n",
    "g7 = sns.catplot(data=df_titanic, x='age_category', kind='count')\n",
    "plt.xlabel('Categoria de Idade')\n",
    "plt.ylabel('Contagem')\n",
    "plt.title('Contagem de pessoas por categoria de idade')\n",
    "sns.despine(offset=5, trim=True)\n",
    "g7.savefig('imgs/g7-count-pearson-by-age-category.png')"
   ]
  },
  {
   "cell_type": "markdown",
   "metadata": {},
   "source": [
    "A maioria dos passageiros eram adultos, *Figura 9*."
   ]
  },
  {
   "cell_type": "markdown",
   "metadata": {},
   "source": [
    "Como era o sumário da categoria de idade dos passageiros?"
   ]
  },
  {
   "cell_type": "code",
   "execution_count": 26,
   "metadata": {},
   "outputs": [
    {
     "name": "stdout",
     "output_type": "stream",
     "text": [
      "Tabela 6: Descritiva da categoria de idade dos passageiros.\n"
     ]
    },
    {
     "data": {
      "text/html": [
       "<div>\n",
       "<style scoped>\n",
       "    .dataframe tbody tr th:only-of-type {\n",
       "        vertical-align: middle;\n",
       "    }\n",
       "\n",
       "    .dataframe tbody tr th {\n",
       "        vertical-align: top;\n",
       "    }\n",
       "\n",
       "    .dataframe thead th {\n",
       "        text-align: right;\n",
       "    }\n",
       "</style>\n",
       "<table border=\"1\" class=\"dataframe\">\n",
       "  <thead>\n",
       "    <tr style=\"text-align: right;\">\n",
       "      <th></th>\n",
       "      <th>count</th>\n",
       "      <th>mean</th>\n",
       "      <th>std</th>\n",
       "      <th>min</th>\n",
       "      <th>25%</th>\n",
       "      <th>50%</th>\n",
       "      <th>75%</th>\n",
       "      <th>max</th>\n",
       "    </tr>\n",
       "    <tr>\n",
       "      <th>age_category</th>\n",
       "      <th></th>\n",
       "      <th></th>\n",
       "      <th></th>\n",
       "      <th></th>\n",
       "      <th></th>\n",
       "      <th></th>\n",
       "      <th></th>\n",
       "      <th></th>\n",
       "    </tr>\n",
       "  </thead>\n",
       "  <tbody>\n",
       "    <tr>\n",
       "      <th>Adolescente</th>\n",
       "      <td>70.0000</td>\n",
       "      <td>16.5714</td>\n",
       "      <td>1.4504</td>\n",
       "      <td>13.0000</td>\n",
       "      <td>16.0000</td>\n",
       "      <td>17.0000</td>\n",
       "      <td>18.0000</td>\n",
       "      <td>18.0000</td>\n",
       "    </tr>\n",
       "    <tr>\n",
       "      <th>Adulto</th>\n",
       "      <td>752.0000</td>\n",
       "      <td>35.1503</td>\n",
       "      <td>10.5975</td>\n",
       "      <td>19.0000</td>\n",
       "      <td>27.0000</td>\n",
       "      <td>36.0000</td>\n",
       "      <td>38.0000</td>\n",
       "      <td>80.0000</td>\n",
       "    </tr>\n",
       "    <tr>\n",
       "      <th>Criança</th>\n",
       "      <td>69.0000</td>\n",
       "      <td>4.6957</td>\n",
       "      <td>3.4865</td>\n",
       "      <td>0.0000</td>\n",
       "      <td>2.0000</td>\n",
       "      <td>4.0000</td>\n",
       "      <td>8.0000</td>\n",
       "      <td>12.0000</td>\n",
       "    </tr>\n",
       "  </tbody>\n",
       "</table>\n",
       "</div>"
      ],
      "text/plain": [
       "                count    mean     std     min     25%     50%     75%     max\n",
       "age_category                                                                 \n",
       "Adolescente   70.0000 16.5714  1.4504 13.0000 16.0000 17.0000 18.0000 18.0000\n",
       "Adulto       752.0000 35.1503 10.5975 19.0000 27.0000 36.0000 38.0000 80.0000\n",
       "Criança       69.0000  4.6957  3.4865  0.0000  2.0000  4.0000  8.0000 12.0000"
      ]
     },
     "execution_count": 26,
     "metadata": {},
     "output_type": "execute_result"
    }
   ],
   "source": [
    "# Tabela 6: Descritiva da categoria de idade dos passageiros.\n",
    "df_6 = df_titanic.groupby('age_category')['age'].describe().dropna()\n",
    "df_6.to_csv('tables/t_6.csv')\n",
    "print('Tabela 6: Descritiva da categoria de idade dos passageiros.')\n",
    "df_6"
   ]
  },
  {
   "cell_type": "markdown",
   "metadata": {},
   "source": [
    "A *Tabela 6* mostra a descritiva das categorias de idade. No geral, a idade média dos adolescentes é de, aproximadamente, 17 anos (desvio de 1.44), mínimo de 13 anos e máximo de 18 anos; os adultos possuem, aproximadamente, 35 anos (desvio de 10.61), com mínimo de 19 anos e máximo de 80 anos; e as crianças possuem a idade média de, aproximadamente, 5 anos (desvio de 3.39), com o máximo de 12 anos."
   ]
  },
  {
   "cell_type": "markdown",
   "metadata": {},
   "source": [
    "Como era o sumário da categoria de idade dos passageiros por classe?"
   ]
  },
  {
   "cell_type": "code",
   "execution_count": 27,
   "metadata": {},
   "outputs": [
    {
     "name": "stdout",
     "output_type": "stream",
     "text": [
      "Tabela 7: Descritiva da categoria de idade dos passageiros por classe.\n"
     ]
    },
    {
     "data": {
      "text/html": [
       "<div>\n",
       "<style scoped>\n",
       "    .dataframe tbody tr th:only-of-type {\n",
       "        vertical-align: middle;\n",
       "    }\n",
       "\n",
       "    .dataframe tbody tr th {\n",
       "        vertical-align: top;\n",
       "    }\n",
       "\n",
       "    .dataframe thead th {\n",
       "        text-align: right;\n",
       "    }\n",
       "</style>\n",
       "<table border=\"1\" class=\"dataframe\">\n",
       "  <thead>\n",
       "    <tr style=\"text-align: right;\">\n",
       "      <th></th>\n",
       "      <th></th>\n",
       "      <th>count</th>\n",
       "      <th>mean</th>\n",
       "      <th>std</th>\n",
       "      <th>min</th>\n",
       "      <th>25%</th>\n",
       "      <th>50%</th>\n",
       "      <th>75%</th>\n",
       "      <th>max</th>\n",
       "    </tr>\n",
       "    <tr>\n",
       "      <th>age_category</th>\n",
       "      <th>passenger_class</th>\n",
       "      <th></th>\n",
       "      <th></th>\n",
       "      <th></th>\n",
       "      <th></th>\n",
       "      <th></th>\n",
       "      <th></th>\n",
       "      <th></th>\n",
       "      <th></th>\n",
       "    </tr>\n",
       "  </thead>\n",
       "  <tbody>\n",
       "    <tr>\n",
       "      <th rowspan=\"3\" valign=\"top\">Adolescente</th>\n",
       "      <th>1</th>\n",
       "      <td>12.0000</td>\n",
       "      <td>16.6667</td>\n",
       "      <td>1.3027</td>\n",
       "      <td>14.0000</td>\n",
       "      <td>16.0000</td>\n",
       "      <td>17.0000</td>\n",
       "      <td>18.0000</td>\n",
       "      <td>18.0000</td>\n",
       "    </tr>\n",
       "    <tr>\n",
       "      <th>2</th>\n",
       "      <td>12.0000</td>\n",
       "      <td>16.7500</td>\n",
       "      <td>1.7123</td>\n",
       "      <td>13.0000</td>\n",
       "      <td>16.0000</td>\n",
       "      <td>17.5000</td>\n",
       "      <td>18.0000</td>\n",
       "      <td>18.0000</td>\n",
       "    </tr>\n",
       "    <tr>\n",
       "      <th>3</th>\n",
       "      <td>46.0000</td>\n",
       "      <td>16.5000</td>\n",
       "      <td>1.4414</td>\n",
       "      <td>13.0000</td>\n",
       "      <td>16.0000</td>\n",
       "      <td>17.0000</td>\n",
       "      <td>18.0000</td>\n",
       "      <td>18.0000</td>\n",
       "    </tr>\n",
       "    <tr>\n",
       "      <th rowspan=\"3\" valign=\"top\">Adulto</th>\n",
       "      <th>1</th>\n",
       "      <td>200.0000</td>\n",
       "      <td>40.1650</td>\n",
       "      <td>12.1894</td>\n",
       "      <td>19.0000</td>\n",
       "      <td>31.7500</td>\n",
       "      <td>38.0000</td>\n",
       "      <td>48.0000</td>\n",
       "      <td>80.0000</td>\n",
       "    </tr>\n",
       "    <tr>\n",
       "      <th>2</th>\n",
       "      <td>155.0000</td>\n",
       "      <td>34.3548</td>\n",
       "      <td>10.5945</td>\n",
       "      <td>19.0000</td>\n",
       "      <td>27.0000</td>\n",
       "      <td>32.0000</td>\n",
       "      <td>39.0000</td>\n",
       "      <td>70.0000</td>\n",
       "    </tr>\n",
       "    <tr>\n",
       "      <th>3</th>\n",
       "      <td>397.0000</td>\n",
       "      <td>32.9345</td>\n",
       "      <td>8.7635</td>\n",
       "      <td>19.0000</td>\n",
       "      <td>25.0000</td>\n",
       "      <td>36.0000</td>\n",
       "      <td>38.0000</td>\n",
       "      <td>74.0000</td>\n",
       "    </tr>\n",
       "    <tr>\n",
       "      <th rowspan=\"3\" valign=\"top\">Criança</th>\n",
       "      <th>1</th>\n",
       "      <td>4.0000</td>\n",
       "      <td>4.2500</td>\n",
       "      <td>4.7871</td>\n",
       "      <td>0.0000</td>\n",
       "      <td>1.5000</td>\n",
       "      <td>3.0000</td>\n",
       "      <td>5.7500</td>\n",
       "      <td>11.0000</td>\n",
       "    </tr>\n",
       "    <tr>\n",
       "      <th>2</th>\n",
       "      <td>17.0000</td>\n",
       "      <td>3.3529</td>\n",
       "      <td>2.6912</td>\n",
       "      <td>0.0000</td>\n",
       "      <td>1.0000</td>\n",
       "      <td>3.0000</td>\n",
       "      <td>5.0000</td>\n",
       "      <td>8.0000</td>\n",
       "    </tr>\n",
       "    <tr>\n",
       "      <th>3</th>\n",
       "      <td>48.0000</td>\n",
       "      <td>5.2083</td>\n",
       "      <td>3.5667</td>\n",
       "      <td>0.0000</td>\n",
       "      <td>2.0000</td>\n",
       "      <td>4.0000</td>\n",
       "      <td>9.0000</td>\n",
       "      <td>12.0000</td>\n",
       "    </tr>\n",
       "  </tbody>\n",
       "</table>\n",
       "</div>"
      ],
      "text/plain": [
       "                                count    mean     std     min     25%     50%  \\\n",
       "age_category passenger_class                                                    \n",
       "Adolescente  1                12.0000 16.6667  1.3027 14.0000 16.0000 17.0000   \n",
       "             2                12.0000 16.7500  1.7123 13.0000 16.0000 17.5000   \n",
       "             3                46.0000 16.5000  1.4414 13.0000 16.0000 17.0000   \n",
       "Adulto       1               200.0000 40.1650 12.1894 19.0000 31.7500 38.0000   \n",
       "             2               155.0000 34.3548 10.5945 19.0000 27.0000 32.0000   \n",
       "             3               397.0000 32.9345  8.7635 19.0000 25.0000 36.0000   \n",
       "Criança      1                 4.0000  4.2500  4.7871  0.0000  1.5000  3.0000   \n",
       "             2                17.0000  3.3529  2.6912  0.0000  1.0000  3.0000   \n",
       "             3                48.0000  5.2083  3.5667  0.0000  2.0000  4.0000   \n",
       "\n",
       "                                 75%     max  \n",
       "age_category passenger_class                  \n",
       "Adolescente  1               18.0000 18.0000  \n",
       "             2               18.0000 18.0000  \n",
       "             3               18.0000 18.0000  \n",
       "Adulto       1               48.0000 80.0000  \n",
       "             2               39.0000 70.0000  \n",
       "             3               38.0000 74.0000  \n",
       "Criança      1                5.7500 11.0000  \n",
       "             2                5.0000  8.0000  \n",
       "             3                9.0000 12.0000  "
      ]
     },
     "execution_count": 27,
     "metadata": {},
     "output_type": "execute_result"
    }
   ],
   "source": [
    "# Tabela 7: Descritiva da categoria de idade dos passageiros por classe.\n",
    "df_7 = df_titanic.groupby(\n",
    "    ['age_category', 'passenger_class'])['age'].describe().dropna()\n",
    "df_7.to_csv('tables/t_7.csv')\n",
    "print('Tabela 7: Descritiva da categoria de idade dos passageiros por classe.')\n",
    "df_7"
   ]
  },
  {
   "cell_type": "markdown",
   "metadata": {},
   "source": [
    "A *Tabela 7* separa a descritiva das categorias de idade entre as classes de passageiro, por ela é possível verificar que adultos da primeira classe são os mais velhos, com idade media de 40 anos, já adolescentes tem pouca variação na média de idade por classe, assim como na categoria infantil."
   ]
  },
  {
   "cell_type": "markdown",
   "metadata": {},
   "source": [
    "Como eram distribuídas as contagens de passageiros e as médias das passagens por classe e por porto de embarque?"
   ]
  },
  {
   "cell_type": "code",
   "execution_count": 28,
   "metadata": {},
   "outputs": [
    {
     "name": "stdout",
     "output_type": "stream",
     "text": [
      "Tabela 8: Média de valor da passagem por local de embarque e sua classe:\n"
     ]
    },
    {
     "data": {
      "text/html": [
       "<div>\n",
       "<style scoped>\n",
       "    .dataframe tbody tr th:only-of-type {\n",
       "        vertical-align: middle;\n",
       "    }\n",
       "\n",
       "    .dataframe tbody tr th {\n",
       "        vertical-align: top;\n",
       "    }\n",
       "\n",
       "    .dataframe thead th {\n",
       "        text-align: right;\n",
       "    }\n",
       "</style>\n",
       "<table border=\"1\" class=\"dataframe\">\n",
       "  <thead>\n",
       "    <tr style=\"text-align: right;\">\n",
       "      <th></th>\n",
       "      <th></th>\n",
       "      <th>fare_mean</th>\n",
       "      <th>total</th>\n",
       "    </tr>\n",
       "    <tr>\n",
       "      <th>passenger_class</th>\n",
       "      <th>embarked</th>\n",
       "      <th></th>\n",
       "      <th></th>\n",
       "    </tr>\n",
       "  </thead>\n",
       "  <tbody>\n",
       "    <tr>\n",
       "      <th rowspan=\"3\" valign=\"top\">1</th>\n",
       "      <th>C</th>\n",
       "      <td>104.7185</td>\n",
       "      <td>85</td>\n",
       "    </tr>\n",
       "    <tr>\n",
       "      <th>Q</th>\n",
       "      <td>90.0000</td>\n",
       "      <td>2</td>\n",
       "    </tr>\n",
       "    <tr>\n",
       "      <th>S</th>\n",
       "      <td>70.5142</td>\n",
       "      <td>129</td>\n",
       "    </tr>\n",
       "    <tr>\n",
       "      <th rowspan=\"3\" valign=\"top\">2</th>\n",
       "      <th>C</th>\n",
       "      <td>25.3583</td>\n",
       "      <td>17</td>\n",
       "    </tr>\n",
       "    <tr>\n",
       "      <th>Q</th>\n",
       "      <td>12.3500</td>\n",
       "      <td>3</td>\n",
       "    </tr>\n",
       "    <tr>\n",
       "      <th>S</th>\n",
       "      <td>20.3274</td>\n",
       "      <td>164</td>\n",
       "    </tr>\n",
       "    <tr>\n",
       "      <th rowspan=\"3\" valign=\"top\">3</th>\n",
       "      <th>C</th>\n",
       "      <td>11.2141</td>\n",
       "      <td>66</td>\n",
       "    </tr>\n",
       "    <tr>\n",
       "      <th>Q</th>\n",
       "      <td>11.1834</td>\n",
       "      <td>72</td>\n",
       "    </tr>\n",
       "    <tr>\n",
       "      <th>S</th>\n",
       "      <td>14.6441</td>\n",
       "      <td>353</td>\n",
       "    </tr>\n",
       "  </tbody>\n",
       "</table>\n",
       "</div>"
      ],
      "text/plain": [
       "                          fare_mean  total\n",
       "passenger_class embarked                  \n",
       "1               C          104.7185     85\n",
       "                Q           90.0000      2\n",
       "                S           70.5142    129\n",
       "2               C           25.3583     17\n",
       "                Q           12.3500      3\n",
       "                S           20.3274    164\n",
       "3               C           11.2141     66\n",
       "                Q           11.1834     72\n",
       "                S           14.6441    353"
      ]
     },
     "execution_count": 28,
     "metadata": {},
     "output_type": "execute_result"
    }
   ],
   "source": [
    "# Tabela 8: Média de valor da passagem por local de embarque e sua classe.\n",
    "\n",
    "df_8 = df_titanic.groupby(\n",
    "    ['passenger_class', 'embarked']).agg(\n",
    "    {'fare':'mean', 'name':'count'}).rename(\n",
    "    columns={'fare':'fare_mean','name':'total'})\n",
    "df_8.to_csv('tables/t_8.csv')\n",
    "print('Tabela 8: Média de valor da passagem por local de embarque e sua classe:')\n",
    "df_8"
   ]
  },
  {
   "cell_type": "markdown",
   "metadata": {},
   "source": [
    "Na *Tabela 8* podemos ver uma separação dos valores médios das passagens em cada posto de embarque do Titanic. Sendo C (Cherbourg), Q (Queenstown) e S (Southampton). As passagens mais caras da primeira classe foram compradas em Cherbourg (*Figura 13*), totalizando 168 passageiros sendo a maioria da primeira classe (Figura 12), sendo que em Southampton apresentou um maior movimento de passageiros. Houve pouquíssimos embarques da primeira e segunda classe em Queenstown, cinco passageiros apenas."
   ]
  },
  {
   "cell_type": "code",
   "execution_count": 29,
   "metadata": {
    "scrolled": true
   },
   "outputs": [
    {
     "name": "stdout",
     "output_type": "stream",
     "text": [
      "Valor médio passagem primeira classe: 43.65\n",
      "Valor médio passagem segunda classe: 13.32\n",
      "Valor médio passagem terceira classe: 8.09\n"
     ]
    }
   ],
   "source": [
    "fare_sum = df_titanic.iloc[df_titanic['ticket'].drop_duplicates().index].groupby('passenger_class')['fare'].sum()\n",
    "print('Valor médio passagem primeira classe: {:.2f}'.format(\n",
    "    fare_sum[1] / df_titanic.query('passenger_class == 1')['fare'].count()))\n",
    "print('Valor médio passagem segunda classe: {:.2f}'.format(\n",
    "    fare_sum[2] / df_titanic.query('passenger_class == 2')['fare'].count()))\n",
    "print('Valor médio passagem terceira classe: {:.2f}'.format(\n",
    "    fare_sum[3] / df_titanic.query('passenger_class == 3')['fare'].count()))"
   ]
  },
  {
   "cell_type": "markdown",
   "metadata": {},
   "source": [
    "Existem valores discrepantes entre as classes? Existe alguma diferença na distribuição monetária dos valores dos tickets entre as classes?"
   ]
  },
  {
   "cell_type": "code",
   "execution_count": 30,
   "metadata": {},
   "outputs": [
    {
     "data": {
      "image/png": "[encoded data removed]",
      "text/plain": [
       "<Figure size 576x576 with 1 Axes>"
      ]
     },
     "metadata": {
      "needs_background": "light"
     },
     "output_type": "display_data"
    }
   ],
   "source": [
    "# Gráfico de caixa entre classe de passageiros e taxa da passagem.\n",
    "f, g9 = plt.subplots(figsize=(8, 8))\n",
    "sns.boxplot(x=\"passenger_class\", y=\"fare\", data=df_titanic)\n",
    "plt.ylabel('Preço Passagem')\n",
    "plt.xlabel('Classe')\n",
    "plt.title(\"Classe do passageiro por preço da passagem\")\n",
    "sns.despine(offset=5, trim=True)\n",
    "g9.figure.savefig('imgs/g9-box-class-by-ticket-fare.png')"
   ]
  },
  {
   "cell_type": "markdown",
   "metadata": {},
   "source": [
    "Pela *Figura 10* pode-se observar que existem outliers com relação ao valor da passagem, como existem passagens com valores altos que permitiam entrada de mais de um passageiro. Como o banco de dados possuía dados faltantes, suspeita-se que esses outliers sejam de passagens que abrangem mais passageiros que não estavam contidos no dataset."
   ]
  },
  {
   "cell_type": "markdown",
   "metadata": {},
   "source": [
    "Em quais portos houve maior número de passageiros embarcando, por classe?"
   ]
  },
  {
   "cell_type": "code",
   "execution_count": 31,
   "metadata": {},
   "outputs": [
    {
     "name": "stderr",
     "output_type": "stream",
     "text": [
      "/home/trprado/.local/share/virtualenvs/udacity-WaEjM5--/lib/python3.6/site-packages/scipy/stats/stats.py:1713: FutureWarning: Using a non-tuple sequence for multidimensional indexing is deprecated; use `arr[tuple(seq)]` instead of `arr[seq]`. In the future this will be interpreted as an array index, `arr[np.array(seq)]`, which will result either in an error or a different result.\n",
      "  return np.add.reduce(sorted[indexer] * weights, axis=axis) / sumval\n"
     ]
    },
    {
     "data": {
      "image/png": "[encoded data removed]",
      "text/plain": [
       "<Figure size 418.5x360 with 1 Axes>"
      ]
     },
     "metadata": {
      "needs_background": "light"
     },
     "output_type": "display_data"
    }
   ],
   "source": [
    "# Gráfico de barra com local de embarque e classe do passageiro.\n",
    "g10 = sns.catplot(data=df_titanic, x='passenger_class',\n",
    "    y='fare', kind='bar', hue='embarked')\n",
    "g10._legend.set_title('Locais de Embarque')\n",
    "plt.xlabel('Classe')\n",
    "plt.ylabel('Tarifa Passagem')\n",
    "plt.title('Tarifa da passagem por local de embarque e classe social.')\n",
    "sns.despine(offset=5, trim=True)\n",
    "g10.savefig('imgs/g10-bar-embarked-by-class.png')"
   ]
  },
  {
   "cell_type": "markdown",
   "metadata": {},
   "source": [
    "A *Figura 11* contem a visualização da média das tarifas por classe, sendo C (Cherbourg), Q (Queenstown) e S (Southampton). Por ela podemos ver que as passagens em Cherbourg eram as que custavam mais caras tanto para a primeira quanto para a segunda classe. Em Queenstown o valor da passagem entre a terceira classe não tinha grande diferença de preço."
   ]
  },
  {
   "cell_type": "markdown",
   "metadata": {},
   "source": [
    "Qual ticket possui o maior número de passageiros por classe?"
   ]
  },
  {
   "cell_type": "code",
   "execution_count": 32,
   "metadata": {},
   "outputs": [
    {
     "name": "stdout",
     "output_type": "stream",
     "text": [
      "Tabela 9 - Passagens com maior número de passageiros da primeira classe:\n"
     ]
    },
    {
     "data": {
      "text/html": [
       "<div>\n",
       "<style scoped>\n",
       "    .dataframe tbody tr th:only-of-type {\n",
       "        vertical-align: middle;\n",
       "    }\n",
       "\n",
       "    .dataframe tbody tr th {\n",
       "        vertical-align: top;\n",
       "    }\n",
       "\n",
       "    .dataframe thead th {\n",
       "        text-align: right;\n",
       "    }\n",
       "</style>\n",
       "<table border=\"1\" class=\"dataframe\">\n",
       "  <thead>\n",
       "    <tr style=\"text-align: right;\">\n",
       "      <th></th>\n",
       "      <th>survived</th>\n",
       "      <th>passenger_class</th>\n",
       "      <th>name</th>\n",
       "      <th>sex</th>\n",
       "      <th>age</th>\n",
       "      <th>sibsp</th>\n",
       "      <th>parch</th>\n",
       "      <th>ticket</th>\n",
       "      <th>fare</th>\n",
       "      <th>embarked</th>\n",
       "      <th>freq</th>\n",
       "      <th>age_category</th>\n",
       "    </tr>\n",
       "  </thead>\n",
       "  <tbody>\n",
       "    <tr>\n",
       "      <th>380</th>\n",
       "      <td>1</td>\n",
       "      <td>1</td>\n",
       "      <td>Bidois, Miss. Rosalie</td>\n",
       "      <td>female</td>\n",
       "      <td>42</td>\n",
       "      <td>0</td>\n",
       "      <td>0</td>\n",
       "      <td>PC 17757</td>\n",
       "      <td>227.5250</td>\n",
       "      <td>C</td>\n",
       "      <td>4</td>\n",
       "      <td>Adulto</td>\n",
       "    </tr>\n",
       "    <tr>\n",
       "      <th>557</th>\n",
       "      <td>0</td>\n",
       "      <td>1</td>\n",
       "      <td>Robbins, Mr. Victor</td>\n",
       "      <td>male</td>\n",
       "      <td>38</td>\n",
       "      <td>0</td>\n",
       "      <td>0</td>\n",
       "      <td>PC 17757</td>\n",
       "      <td>227.5250</td>\n",
       "      <td>C</td>\n",
       "      <td>4</td>\n",
       "      <td>Adulto</td>\n",
       "    </tr>\n",
       "    <tr>\n",
       "      <th>700</th>\n",
       "      <td>1</td>\n",
       "      <td>1</td>\n",
       "      <td>Astor, Mrs. John Jacob (Madeleine Talmadge Force)</td>\n",
       "      <td>female</td>\n",
       "      <td>18</td>\n",
       "      <td>1</td>\n",
       "      <td>0</td>\n",
       "      <td>PC 17757</td>\n",
       "      <td>227.5250</td>\n",
       "      <td>C</td>\n",
       "      <td>4</td>\n",
       "      <td>Adolescente</td>\n",
       "    </tr>\n",
       "    <tr>\n",
       "      <th>716</th>\n",
       "      <td>1</td>\n",
       "      <td>1</td>\n",
       "      <td>Endres, Miss. Caroline Louise</td>\n",
       "      <td>female</td>\n",
       "      <td>38</td>\n",
       "      <td>0</td>\n",
       "      <td>0</td>\n",
       "      <td>PC 17757</td>\n",
       "      <td>227.5250</td>\n",
       "      <td>C</td>\n",
       "      <td>4</td>\n",
       "      <td>Adulto</td>\n",
       "    </tr>\n",
       "    <tr>\n",
       "      <th>27</th>\n",
       "      <td>0</td>\n",
       "      <td>1</td>\n",
       "      <td>Fortune, Mr. Charles Alexander</td>\n",
       "      <td>male</td>\n",
       "      <td>19</td>\n",
       "      <td>3</td>\n",
       "      <td>2</td>\n",
       "      <td>19950</td>\n",
       "      <td>263.0000</td>\n",
       "      <td>S</td>\n",
       "      <td>4</td>\n",
       "      <td>Adulto</td>\n",
       "    </tr>\n",
       "    <tr>\n",
       "      <th>88</th>\n",
       "      <td>1</td>\n",
       "      <td>1</td>\n",
       "      <td>Fortune, Miss. Mabel Helen</td>\n",
       "      <td>female</td>\n",
       "      <td>23</td>\n",
       "      <td>3</td>\n",
       "      <td>2</td>\n",
       "      <td>19950</td>\n",
       "      <td>263.0000</td>\n",
       "      <td>S</td>\n",
       "      <td>4</td>\n",
       "      <td>Adulto</td>\n",
       "    </tr>\n",
       "    <tr>\n",
       "      <th>341</th>\n",
       "      <td>1</td>\n",
       "      <td>1</td>\n",
       "      <td>Fortune, Miss. Alice Elizabeth</td>\n",
       "      <td>female</td>\n",
       "      <td>24</td>\n",
       "      <td>3</td>\n",
       "      <td>2</td>\n",
       "      <td>19950</td>\n",
       "      <td>263.0000</td>\n",
       "      <td>S</td>\n",
       "      <td>4</td>\n",
       "      <td>Adulto</td>\n",
       "    </tr>\n",
       "    <tr>\n",
       "      <th>438</th>\n",
       "      <td>0</td>\n",
       "      <td>1</td>\n",
       "      <td>Fortune, Mr. Mark</td>\n",
       "      <td>male</td>\n",
       "      <td>64</td>\n",
       "      <td>1</td>\n",
       "      <td>4</td>\n",
       "      <td>19950</td>\n",
       "      <td>263.0000</td>\n",
       "      <td>S</td>\n",
       "      <td>4</td>\n",
       "      <td>Adulto</td>\n",
       "    </tr>\n",
       "    <tr>\n",
       "      <th>306</th>\n",
       "      <td>1</td>\n",
       "      <td>1</td>\n",
       "      <td>Fleming, Miss. Margaret</td>\n",
       "      <td>female</td>\n",
       "      <td>38</td>\n",
       "      <td>0</td>\n",
       "      <td>0</td>\n",
       "      <td>17421</td>\n",
       "      <td>110.8833</td>\n",
       "      <td>C</td>\n",
       "      <td>4</td>\n",
       "      <td>Adulto</td>\n",
       "    </tr>\n",
       "    <tr>\n",
       "      <th>550</th>\n",
       "      <td>1</td>\n",
       "      <td>1</td>\n",
       "      <td>Thayer, Mr. John Borland Jr</td>\n",
       "      <td>male</td>\n",
       "      <td>17</td>\n",
       "      <td>0</td>\n",
       "      <td>2</td>\n",
       "      <td>17421</td>\n",
       "      <td>110.8833</td>\n",
       "      <td>C</td>\n",
       "      <td>4</td>\n",
       "      <td>Adolescente</td>\n",
       "    </tr>\n",
       "  </tbody>\n",
       "</table>\n",
       "</div>"
      ],
      "text/plain": [
       "     survived  passenger_class  \\\n",
       "380         1                1   \n",
       "557         0                1   \n",
       "700         1                1   \n",
       "716         1                1   \n",
       "27          0                1   \n",
       "88          1                1   \n",
       "341         1                1   \n",
       "438         0                1   \n",
       "306         1                1   \n",
       "550         1                1   \n",
       "\n",
       "                                                  name     sex  age  sibsp  \\\n",
       "380                              Bidois, Miss. Rosalie  female   42      0   \n",
       "557                                Robbins, Mr. Victor    male   38      0   \n",
       "700  Astor, Mrs. John Jacob (Madeleine Talmadge Force)  female   18      1   \n",
       "716                      Endres, Miss. Caroline Louise  female   38      0   \n",
       "27                      Fortune, Mr. Charles Alexander    male   19      3   \n",
       "88                          Fortune, Miss. Mabel Helen  female   23      3   \n",
       "341                     Fortune, Miss. Alice Elizabeth  female   24      3   \n",
       "438                                  Fortune, Mr. Mark    male   64      1   \n",
       "306                            Fleming, Miss. Margaret  female   38      0   \n",
       "550                        Thayer, Mr. John Borland Jr    male   17      0   \n",
       "\n",
       "     parch    ticket     fare embarked  freq age_category  \n",
       "380      0  PC 17757 227.5250        C     4       Adulto  \n",
       "557      0  PC 17757 227.5250        C     4       Adulto  \n",
       "700      0  PC 17757 227.5250        C     4  Adolescente  \n",
       "716      0  PC 17757 227.5250        C     4       Adulto  \n",
       "27       2     19950 263.0000        S     4       Adulto  \n",
       "88       2     19950 263.0000        S     4       Adulto  \n",
       "341      2     19950 263.0000        S     4       Adulto  \n",
       "438      4     19950 263.0000        S     4       Adulto  \n",
       "306      0     17421 110.8833        C     4       Adulto  \n",
       "550      2     17421 110.8833        C     4  Adolescente  "
      ]
     },
     "execution_count": 32,
     "metadata": {},
     "output_type": "execute_result"
    }
   ],
   "source": [
    "# Passagens com maior número de passageiros da primeira classe.\n",
    "print('Tabela 9 - Passagens com maior número de passageiros da primeira classe:')\n",
    "df_titanic_most_pc = df_titanic.sort_values(by=['freq', 'ticket'], ascending=False).query(\n",
    "    'passenger_class == 1').head(10)\n",
    "df_titanic_most_pc.to_csv('tables/t_9.csv', index=False)\n",
    "df_titanic_most_pc"
   ]
  },
  {
   "cell_type": "code",
   "execution_count": 33,
   "metadata": {},
   "outputs": [
    {
     "name": "stdout",
     "output_type": "stream",
     "text": [
      "Tabela 10 - Passagens com maior número de passageiros da segunda classe:\n"
     ]
    },
    {
     "data": {
      "text/html": [
       "<div>\n",
       "<style scoped>\n",
       "    .dataframe tbody tr th:only-of-type {\n",
       "        vertical-align: middle;\n",
       "    }\n",
       "\n",
       "    .dataframe tbody tr th {\n",
       "        vertical-align: top;\n",
       "    }\n",
       "\n",
       "    .dataframe thead th {\n",
       "        text-align: right;\n",
       "    }\n",
       "</style>\n",
       "<table border=\"1\" class=\"dataframe\">\n",
       "  <thead>\n",
       "    <tr style=\"text-align: right;\">\n",
       "      <th></th>\n",
       "      <th>survived</th>\n",
       "      <th>passenger_class</th>\n",
       "      <th>name</th>\n",
       "      <th>sex</th>\n",
       "      <th>age</th>\n",
       "      <th>sibsp</th>\n",
       "      <th>parch</th>\n",
       "      <th>ticket</th>\n",
       "      <th>fare</th>\n",
       "      <th>embarked</th>\n",
       "      <th>freq</th>\n",
       "      <th>age_category</th>\n",
       "    </tr>\n",
       "  </thead>\n",
       "  <tbody>\n",
       "    <tr>\n",
       "      <th>72</th>\n",
       "      <td>0</td>\n",
       "      <td>2</td>\n",
       "      <td>Hood, Mr. Ambrose Jr</td>\n",
       "      <td>male</td>\n",
       "      <td>21</td>\n",
       "      <td>0</td>\n",
       "      <td>0</td>\n",
       "      <td>S.O.C. 14879</td>\n",
       "      <td>73.5000</td>\n",
       "      <td>S</td>\n",
       "      <td>5</td>\n",
       "      <td>Adulto</td>\n",
       "    </tr>\n",
       "    <tr>\n",
       "      <th>120</th>\n",
       "      <td>0</td>\n",
       "      <td>2</td>\n",
       "      <td>Hickman, Mr. Stanley George</td>\n",
       "      <td>male</td>\n",
       "      <td>21</td>\n",
       "      <td>2</td>\n",
       "      <td>0</td>\n",
       "      <td>S.O.C. 14879</td>\n",
       "      <td>73.5000</td>\n",
       "      <td>S</td>\n",
       "      <td>5</td>\n",
       "      <td>Adulto</td>\n",
       "    </tr>\n",
       "    <tr>\n",
       "      <th>385</th>\n",
       "      <td>0</td>\n",
       "      <td>2</td>\n",
       "      <td>Davies, Mr. Charles Henry</td>\n",
       "      <td>male</td>\n",
       "      <td>18</td>\n",
       "      <td>0</td>\n",
       "      <td>0</td>\n",
       "      <td>S.O.C. 14879</td>\n",
       "      <td>73.5000</td>\n",
       "      <td>S</td>\n",
       "      <td>5</td>\n",
       "      <td>Adolescente</td>\n",
       "    </tr>\n",
       "    <tr>\n",
       "      <th>655</th>\n",
       "      <td>0</td>\n",
       "      <td>2</td>\n",
       "      <td>Hickman, Mr. Leonard Mark</td>\n",
       "      <td>male</td>\n",
       "      <td>24</td>\n",
       "      <td>2</td>\n",
       "      <td>0</td>\n",
       "      <td>S.O.C. 14879</td>\n",
       "      <td>73.5000</td>\n",
       "      <td>S</td>\n",
       "      <td>5</td>\n",
       "      <td>Adulto</td>\n",
       "    </tr>\n",
       "    <tr>\n",
       "      <th>665</th>\n",
       "      <td>0</td>\n",
       "      <td>2</td>\n",
       "      <td>Hickman, Mr. Lewis</td>\n",
       "      <td>male</td>\n",
       "      <td>32</td>\n",
       "      <td>2</td>\n",
       "      <td>0</td>\n",
       "      <td>S.O.C. 14879</td>\n",
       "      <td>73.5000</td>\n",
       "      <td>S</td>\n",
       "      <td>5</td>\n",
       "      <td>Adulto</td>\n",
       "    </tr>\n",
       "    <tr>\n",
       "      <th>43</th>\n",
       "      <td>1</td>\n",
       "      <td>2</td>\n",
       "      <td>Laroche, Miss. Simonne Marie Anne Andree</td>\n",
       "      <td>female</td>\n",
       "      <td>3</td>\n",
       "      <td>1</td>\n",
       "      <td>2</td>\n",
       "      <td>SC/Paris 2123</td>\n",
       "      <td>41.5792</td>\n",
       "      <td>C</td>\n",
       "      <td>3</td>\n",
       "      <td>Criança</td>\n",
       "    </tr>\n",
       "    <tr>\n",
       "      <th>608</th>\n",
       "      <td>1</td>\n",
       "      <td>2</td>\n",
       "      <td>Laroche, Mrs. Joseph (Juliette Marie Louise La...</td>\n",
       "      <td>female</td>\n",
       "      <td>22</td>\n",
       "      <td>1</td>\n",
       "      <td>2</td>\n",
       "      <td>SC/Paris 2123</td>\n",
       "      <td>41.5792</td>\n",
       "      <td>C</td>\n",
       "      <td>3</td>\n",
       "      <td>Adulto</td>\n",
       "    </tr>\n",
       "    <tr>\n",
       "      <th>685</th>\n",
       "      <td>0</td>\n",
       "      <td>2</td>\n",
       "      <td>Laroche, Mr. Joseph Philippe Lemercier</td>\n",
       "      <td>male</td>\n",
       "      <td>25</td>\n",
       "      <td>1</td>\n",
       "      <td>2</td>\n",
       "      <td>SC/Paris 2123</td>\n",
       "      <td>41.5792</td>\n",
       "      <td>C</td>\n",
       "      <td>3</td>\n",
       "      <td>Adulto</td>\n",
       "    </tr>\n",
       "    <tr>\n",
       "      <th>314</th>\n",
       "      <td>0</td>\n",
       "      <td>2</td>\n",
       "      <td>Hart, Mr. Benjamin</td>\n",
       "      <td>male</td>\n",
       "      <td>43</td>\n",
       "      <td>1</td>\n",
       "      <td>1</td>\n",
       "      <td>F.C.C. 13529</td>\n",
       "      <td>26.2500</td>\n",
       "      <td>S</td>\n",
       "      <td>3</td>\n",
       "      <td>Adulto</td>\n",
       "    </tr>\n",
       "    <tr>\n",
       "      <th>440</th>\n",
       "      <td>1</td>\n",
       "      <td>2</td>\n",
       "      <td>Hart, Mrs. Benjamin (Esther Ada Bloomfield)</td>\n",
       "      <td>female</td>\n",
       "      <td>45</td>\n",
       "      <td>1</td>\n",
       "      <td>1</td>\n",
       "      <td>F.C.C. 13529</td>\n",
       "      <td>26.2500</td>\n",
       "      <td>S</td>\n",
       "      <td>3</td>\n",
       "      <td>Adulto</td>\n",
       "    </tr>\n",
       "  </tbody>\n",
       "</table>\n",
       "</div>"
      ],
      "text/plain": [
       "     survived  passenger_class  \\\n",
       "72          0                2   \n",
       "120         0                2   \n",
       "385         0                2   \n",
       "655         0                2   \n",
       "665         0                2   \n",
       "43          1                2   \n",
       "608         1                2   \n",
       "685         0                2   \n",
       "314         0                2   \n",
       "440         1                2   \n",
       "\n",
       "                                                  name     sex  age  sibsp  \\\n",
       "72                                Hood, Mr. Ambrose Jr    male   21      0   \n",
       "120                        Hickman, Mr. Stanley George    male   21      2   \n",
       "385                          Davies, Mr. Charles Henry    male   18      0   \n",
       "655                          Hickman, Mr. Leonard Mark    male   24      2   \n",
       "665                                 Hickman, Mr. Lewis    male   32      2   \n",
       "43            Laroche, Miss. Simonne Marie Anne Andree  female    3      1   \n",
       "608  Laroche, Mrs. Joseph (Juliette Marie Louise La...  female   22      1   \n",
       "685             Laroche, Mr. Joseph Philippe Lemercier    male   25      1   \n",
       "314                                 Hart, Mr. Benjamin    male   43      1   \n",
       "440        Hart, Mrs. Benjamin (Esther Ada Bloomfield)  female   45      1   \n",
       "\n",
       "     parch         ticket    fare embarked  freq age_category  \n",
       "72       0   S.O.C. 14879 73.5000        S     5       Adulto  \n",
       "120      0   S.O.C. 14879 73.5000        S     5       Adulto  \n",
       "385      0   S.O.C. 14879 73.5000        S     5  Adolescente  \n",
       "655      0   S.O.C. 14879 73.5000        S     5       Adulto  \n",
       "665      0   S.O.C. 14879 73.5000        S     5       Adulto  \n",
       "43       2  SC/Paris 2123 41.5792        C     3      Criança  \n",
       "608      2  SC/Paris 2123 41.5792        C     3       Adulto  \n",
       "685      2  SC/Paris 2123 41.5792        C     3       Adulto  \n",
       "314      1   F.C.C. 13529 26.2500        S     3       Adulto  \n",
       "440      1   F.C.C. 13529 26.2500        S     3       Adulto  "
      ]
     },
     "execution_count": 33,
     "metadata": {},
     "output_type": "execute_result"
    }
   ],
   "source": [
    "# Passagens com maior número de passageiros da segunda classe.\n",
    "print('Tabela 10 - Passagens com maior número de passageiros da segunda classe:')\n",
    "df_titanic_most_sc = df_titanic.sort_values(by=['freq', 'ticket'], ascending=False).query(\n",
    "    'passenger_class == 2').head(10)\n",
    "df_titanic_most_sc.to_csv('tables/t_10.csv', index=False)\n",
    "df_titanic_most_sc"
   ]
  },
  {
   "cell_type": "code",
   "execution_count": 34,
   "metadata": {},
   "outputs": [
    {
     "name": "stdout",
     "output_type": "stream",
     "text": [
      "Tabela 11 - Passagens com maior número de passageiros da terceira classe:\n"
     ]
    },
    {
     "data": {
      "text/html": [
       "<div>\n",
       "<style scoped>\n",
       "    .dataframe tbody tr th:only-of-type {\n",
       "        vertical-align: middle;\n",
       "    }\n",
       "\n",
       "    .dataframe tbody tr th {\n",
       "        vertical-align: top;\n",
       "    }\n",
       "\n",
       "    .dataframe thead th {\n",
       "        text-align: right;\n",
       "    }\n",
       "</style>\n",
       "<table border=\"1\" class=\"dataframe\">\n",
       "  <thead>\n",
       "    <tr style=\"text-align: right;\">\n",
       "      <th></th>\n",
       "      <th>survived</th>\n",
       "      <th>passenger_class</th>\n",
       "      <th>name</th>\n",
       "      <th>sex</th>\n",
       "      <th>age</th>\n",
       "      <th>sibsp</th>\n",
       "      <th>parch</th>\n",
       "      <th>ticket</th>\n",
       "      <th>fare</th>\n",
       "      <th>embarked</th>\n",
       "      <th>freq</th>\n",
       "      <th>age_category</th>\n",
       "    </tr>\n",
       "  </thead>\n",
       "  <tbody>\n",
       "    <tr>\n",
       "      <th>159</th>\n",
       "      <td>0</td>\n",
       "      <td>3</td>\n",
       "      <td>Sage, Master. Thomas Henry</td>\n",
       "      <td>male</td>\n",
       "      <td>38</td>\n",
       "      <td>8</td>\n",
       "      <td>2</td>\n",
       "      <td>CA. 2343</td>\n",
       "      <td>69.5500</td>\n",
       "      <td>S</td>\n",
       "      <td>7</td>\n",
       "      <td>Adulto</td>\n",
       "    </tr>\n",
       "    <tr>\n",
       "      <th>180</th>\n",
       "      <td>0</td>\n",
       "      <td>3</td>\n",
       "      <td>Sage, Miss. Constance Gladys</td>\n",
       "      <td>female</td>\n",
       "      <td>38</td>\n",
       "      <td>8</td>\n",
       "      <td>2</td>\n",
       "      <td>CA. 2343</td>\n",
       "      <td>69.5500</td>\n",
       "      <td>S</td>\n",
       "      <td>7</td>\n",
       "      <td>Adulto</td>\n",
       "    </tr>\n",
       "    <tr>\n",
       "      <th>201</th>\n",
       "      <td>0</td>\n",
       "      <td>3</td>\n",
       "      <td>Sage, Mr. Frederick</td>\n",
       "      <td>male</td>\n",
       "      <td>38</td>\n",
       "      <td>8</td>\n",
       "      <td>2</td>\n",
       "      <td>CA. 2343</td>\n",
       "      <td>69.5500</td>\n",
       "      <td>S</td>\n",
       "      <td>7</td>\n",
       "      <td>Adulto</td>\n",
       "    </tr>\n",
       "    <tr>\n",
       "      <th>324</th>\n",
       "      <td>0</td>\n",
       "      <td>3</td>\n",
       "      <td>Sage, Mr. George John Jr</td>\n",
       "      <td>male</td>\n",
       "      <td>38</td>\n",
       "      <td>8</td>\n",
       "      <td>2</td>\n",
       "      <td>CA. 2343</td>\n",
       "      <td>69.5500</td>\n",
       "      <td>S</td>\n",
       "      <td>7</td>\n",
       "      <td>Adulto</td>\n",
       "    </tr>\n",
       "    <tr>\n",
       "      <th>792</th>\n",
       "      <td>0</td>\n",
       "      <td>3</td>\n",
       "      <td>Sage, Miss. Stella Anna</td>\n",
       "      <td>female</td>\n",
       "      <td>38</td>\n",
       "      <td>8</td>\n",
       "      <td>2</td>\n",
       "      <td>CA. 2343</td>\n",
       "      <td>69.5500</td>\n",
       "      <td>S</td>\n",
       "      <td>7</td>\n",
       "      <td>Adulto</td>\n",
       "    </tr>\n",
       "    <tr>\n",
       "      <th>846</th>\n",
       "      <td>0</td>\n",
       "      <td>3</td>\n",
       "      <td>Sage, Mr. Douglas Bullen</td>\n",
       "      <td>male</td>\n",
       "      <td>38</td>\n",
       "      <td>8</td>\n",
       "      <td>2</td>\n",
       "      <td>CA. 2343</td>\n",
       "      <td>69.5500</td>\n",
       "      <td>S</td>\n",
       "      <td>7</td>\n",
       "      <td>Adulto</td>\n",
       "    </tr>\n",
       "    <tr>\n",
       "      <th>863</th>\n",
       "      <td>0</td>\n",
       "      <td>3</td>\n",
       "      <td>Sage, Miss. Dorothy Edith \"Dolly\"</td>\n",
       "      <td>female</td>\n",
       "      <td>38</td>\n",
       "      <td>8</td>\n",
       "      <td>2</td>\n",
       "      <td>CA. 2343</td>\n",
       "      <td>69.5500</td>\n",
       "      <td>S</td>\n",
       "      <td>7</td>\n",
       "      <td>Adulto</td>\n",
       "    </tr>\n",
       "    <tr>\n",
       "      <th>13</th>\n",
       "      <td>0</td>\n",
       "      <td>3</td>\n",
       "      <td>Andersson, Mr. Anders Johan</td>\n",
       "      <td>male</td>\n",
       "      <td>39</td>\n",
       "      <td>1</td>\n",
       "      <td>5</td>\n",
       "      <td>347082</td>\n",
       "      <td>31.2750</td>\n",
       "      <td>S</td>\n",
       "      <td>7</td>\n",
       "      <td>Adulto</td>\n",
       "    </tr>\n",
       "    <tr>\n",
       "      <th>119</th>\n",
       "      <td>0</td>\n",
       "      <td>3</td>\n",
       "      <td>Andersson, Miss. Ellis Anna Maria</td>\n",
       "      <td>female</td>\n",
       "      <td>2</td>\n",
       "      <td>4</td>\n",
       "      <td>2</td>\n",
       "      <td>347082</td>\n",
       "      <td>31.2750</td>\n",
       "      <td>S</td>\n",
       "      <td>7</td>\n",
       "      <td>Criança</td>\n",
       "    </tr>\n",
       "    <tr>\n",
       "      <th>541</th>\n",
       "      <td>0</td>\n",
       "      <td>3</td>\n",
       "      <td>Andersson, Miss. Ingeborg Constanzia</td>\n",
       "      <td>female</td>\n",
       "      <td>9</td>\n",
       "      <td>4</td>\n",
       "      <td>2</td>\n",
       "      <td>347082</td>\n",
       "      <td>31.2750</td>\n",
       "      <td>S</td>\n",
       "      <td>7</td>\n",
       "      <td>Criança</td>\n",
       "    </tr>\n",
       "  </tbody>\n",
       "</table>\n",
       "</div>"
      ],
      "text/plain": [
       "     survived  passenger_class                                  name     sex  \\\n",
       "159         0                3            Sage, Master. Thomas Henry    male   \n",
       "180         0                3          Sage, Miss. Constance Gladys  female   \n",
       "201         0                3                   Sage, Mr. Frederick    male   \n",
       "324         0                3              Sage, Mr. George John Jr    male   \n",
       "792         0                3               Sage, Miss. Stella Anna  female   \n",
       "846         0                3              Sage, Mr. Douglas Bullen    male   \n",
       "863         0                3     Sage, Miss. Dorothy Edith \"Dolly\"  female   \n",
       "13          0                3           Andersson, Mr. Anders Johan    male   \n",
       "119         0                3     Andersson, Miss. Ellis Anna Maria  female   \n",
       "541         0                3  Andersson, Miss. Ingeborg Constanzia  female   \n",
       "\n",
       "     age  sibsp  parch    ticket    fare embarked  freq age_category  \n",
       "159   38      8      2  CA. 2343 69.5500        S     7       Adulto  \n",
       "180   38      8      2  CA. 2343 69.5500        S     7       Adulto  \n",
       "201   38      8      2  CA. 2343 69.5500        S     7       Adulto  \n",
       "324   38      8      2  CA. 2343 69.5500        S     7       Adulto  \n",
       "792   38      8      2  CA. 2343 69.5500        S     7       Adulto  \n",
       "846   38      8      2  CA. 2343 69.5500        S     7       Adulto  \n",
       "863   38      8      2  CA. 2343 69.5500        S     7       Adulto  \n",
       "13    39      1      5    347082 31.2750        S     7       Adulto  \n",
       "119    2      4      2    347082 31.2750        S     7      Criança  \n",
       "541    9      4      2    347082 31.2750        S     7      Criança  "
      ]
     },
     "execution_count": 34,
     "metadata": {},
     "output_type": "execute_result"
    }
   ],
   "source": [
    "# Passagens com maior número de passageiros da terceira classe.\n",
    "print('Tabela 11 - Passagens com maior número de passageiros da terceira classe:')\n",
    "df_titanic_most_tc = df_titanic.sort_values(by=['freq', 'ticket'], ascending=False).query(\n",
    "    'passenger_class == 3').head(10)\n",
    "df_titanic_most_tc.to_csv('tables/t_11.csv', index=False)\n",
    "df_titanic_most_tc"
   ]
  },
  {
   "cell_type": "markdown",
   "metadata": {},
   "source": [
    "Nas *Tabelas 9 a 11* mostram as passagens com maior número de passageiros por classe. A primeira classe a passagem com o maior número de pessoas tem quatro, a grande maioria sobreviveu ao naufrágio. A terceira classe, possuíam mais de uma passagem com sete passageiros sendo que todos faleceram, porém em pesquisas online pelo nome de família consta que o banco de dados não contem todo o registro da família Sage, sendo que o total eram de 11 passageiros na mesma passagem."
   ]
  },
  {
   "cell_type": "markdown",
   "metadata": {},
   "source": [
    "Perfil das vítimas do naufrágio"
   ]
  },
  {
   "cell_type": "markdown",
   "metadata": {},
   "source": [
    "Quantas pessoas foram vítimas por classe e categoria de idade?"
   ]
  },
  {
   "cell_type": "code",
   "execution_count": 35,
   "metadata": {},
   "outputs": [
    {
     "name": "stdout",
     "output_type": "stream",
     "text": [
      "Tabela 12: Passageiros vítimas por classe social, total de indivíduos por categoria de idade.\n"
     ]
    },
    {
     "data": {
      "text/html": [
       "<div>\n",
       "<style scoped>\n",
       "    .dataframe tbody tr th:only-of-type {\n",
       "        vertical-align: middle;\n",
       "    }\n",
       "\n",
       "    .dataframe tbody tr th {\n",
       "        vertical-align: top;\n",
       "    }\n",
       "\n",
       "    .dataframe thead th {\n",
       "        text-align: right;\n",
       "    }\n",
       "</style>\n",
       "<table border=\"1\" class=\"dataframe\">\n",
       "  <thead>\n",
       "    <tr style=\"text-align: right;\">\n",
       "      <th></th>\n",
       "      <th>passenger_class</th>\n",
       "      <th>age_category</th>\n",
       "      <th>survived</th>\n",
       "    </tr>\n",
       "  </thead>\n",
       "  <tbody>\n",
       "    <tr>\n",
       "      <th>0</th>\n",
       "      <td>1</td>\n",
       "      <td>Adolescente</td>\n",
       "      <td>1</td>\n",
       "    </tr>\n",
       "    <tr>\n",
       "      <th>1</th>\n",
       "      <td>1</td>\n",
       "      <td>Adulto</td>\n",
       "      <td>78</td>\n",
       "    </tr>\n",
       "    <tr>\n",
       "      <th>2</th>\n",
       "      <td>1</td>\n",
       "      <td>Criança</td>\n",
       "      <td>1</td>\n",
       "    </tr>\n",
       "    <tr>\n",
       "      <th>3</th>\n",
       "      <td>2</td>\n",
       "      <td>Adolescente</td>\n",
       "      <td>6</td>\n",
       "    </tr>\n",
       "    <tr>\n",
       "      <th>4</th>\n",
       "      <td>2</td>\n",
       "      <td>Adulto</td>\n",
       "      <td>91</td>\n",
       "    </tr>\n",
       "    <tr>\n",
       "      <th>5</th>\n",
       "      <td>3</td>\n",
       "      <td>Adolescente</td>\n",
       "      <td>33</td>\n",
       "    </tr>\n",
       "    <tr>\n",
       "      <th>6</th>\n",
       "      <td>3</td>\n",
       "      <td>Adulto</td>\n",
       "      <td>311</td>\n",
       "    </tr>\n",
       "    <tr>\n",
       "      <th>7</th>\n",
       "      <td>3</td>\n",
       "      <td>Criança</td>\n",
       "      <td>28</td>\n",
       "    </tr>\n",
       "    <tr>\n",
       "      <th>Total</th>\n",
       "      <td>-</td>\n",
       "      <td>-</td>\n",
       "      <td>549</td>\n",
       "    </tr>\n",
       "  </tbody>\n",
       "</table>\n",
       "</div>"
      ],
      "text/plain": [
       "      passenger_class age_category  survived\n",
       "0                   1  Adolescente         1\n",
       "1                   1       Adulto        78\n",
       "2                   1      Criança         1\n",
       "3                   2  Adolescente         6\n",
       "4                   2       Adulto        91\n",
       "5                   3  Adolescente        33\n",
       "6                   3       Adulto       311\n",
       "7                   3      Criança        28\n",
       "Total               -            -       549"
      ]
     },
     "execution_count": 35,
     "metadata": {},
     "output_type": "execute_result"
    }
   ],
   "source": [
    "# Tabela 12: Passageiros vítimas por classe social, total de indivíduos por categoria de idade.\n",
    "df_12 = df_titanic.query('survived == 0').groupby(\n",
    "    ['passenger_class', 'age_category'])['survived'].count().reset_index()\n",
    "class_sum = df_12['survived'].sum()\n",
    "df_12.loc['Total'] = np.array(['-','-',class_sum])\n",
    "df_12['survived'] = df_12['survived'].astype(int)\n",
    "df_12.to_csv('tables/t_12.csv')\n",
    "print('Tabela 12: Passageiros vítimas por classe social, total de indivíduos por categoria de idade.')\n",
    "df_12"
   ]
  },
  {
   "cell_type": "markdown",
   "metadata": {},
   "source": [
    "Observa-se na *Tabela 12* apenas uma criança e um adolescente não sobreviveram ao naufrágio, na primeira classe. Todos as crianças da segunda classe sobreviveram e, na terceira classe, 33 adolescentes e 28 crianças morreram. O maior número de mortes foi o da categoria de idade adulta pertencente a terceira classe com 311 ocorrências."
   ]
  },
  {
   "cell_type": "markdown",
   "metadata": {},
   "source": [
    "Quantas pessoas foram vítimas por gênero?"
   ]
  },
  {
   "cell_type": "code",
   "execution_count": 36,
   "metadata": {},
   "outputs": [
    {
     "name": "stdout",
     "output_type": "stream",
     "text": [
      "Tabela 13: Total de vítimas por gênero.\n"
     ]
    },
    {
     "data": {
      "text/html": [
       "<div>\n",
       "<style scoped>\n",
       "    .dataframe tbody tr th:only-of-type {\n",
       "        vertical-align: middle;\n",
       "    }\n",
       "\n",
       "    .dataframe tbody tr th {\n",
       "        vertical-align: top;\n",
       "    }\n",
       "\n",
       "    .dataframe thead th {\n",
       "        text-align: right;\n",
       "    }\n",
       "</style>\n",
       "<table border=\"1\" class=\"dataframe\">\n",
       "  <thead>\n",
       "    <tr style=\"text-align: right;\">\n",
       "      <th></th>\n",
       "      <th>sex</th>\n",
       "      <th>survived</th>\n",
       "    </tr>\n",
       "  </thead>\n",
       "  <tbody>\n",
       "    <tr>\n",
       "      <th>0</th>\n",
       "      <td>female</td>\n",
       "      <td>81</td>\n",
       "    </tr>\n",
       "    <tr>\n",
       "      <th>1</th>\n",
       "      <td>male</td>\n",
       "      <td>468</td>\n",
       "    </tr>\n",
       "  </tbody>\n",
       "</table>\n",
       "</div>"
      ],
      "text/plain": [
       "      sex  survived\n",
       "0  female        81\n",
       "1    male       468"
      ]
     },
     "execution_count": 36,
     "metadata": {},
     "output_type": "execute_result"
    }
   ],
   "source": [
    "# Tabela 13: Total de vítimas por gênero\n",
    "df_13 = df_titanic.query('survived == 0').groupby(['sex'])['survived'].count().reset_index()\n",
    "\n",
    "df_13.to_csv('tables/t_13.csv')\n",
    "print('Tabela 13: Total de vítimas por gênero.')\n",
    "df_13"
   ]
  },
  {
   "cell_type": "markdown",
   "metadata": {},
   "source": [
    "O gênero masculino foi o qual obteve-se o maior número de óbtidos, 85.25%, o que era previsto visto que é o gênero que apresenta o maior número de observações e, também, o protocolo de fuga é que mulheres e crianças sejam evacuadas primeiro em acidentes."
   ]
  },
  {
   "cell_type": "markdown",
   "metadata": {},
   "source": [
    "Qual é a descrição da idade das pessoas que faleceram, por classe?"
   ]
  },
  {
   "cell_type": "code",
   "execution_count": 37,
   "metadata": {},
   "outputs": [
    {
     "name": "stdout",
     "output_type": "stream",
     "text": [
      "Tabela 14: Descrição das vítimas por classe.\n"
     ]
    },
    {
     "data": {
      "text/html": [
       "<div>\n",
       "<style scoped>\n",
       "    .dataframe tbody tr th:only-of-type {\n",
       "        vertical-align: middle;\n",
       "    }\n",
       "\n",
       "    .dataframe tbody tr th {\n",
       "        vertical-align: top;\n",
       "    }\n",
       "\n",
       "    .dataframe thead th {\n",
       "        text-align: right;\n",
       "    }\n",
       "</style>\n",
       "<table border=\"1\" class=\"dataframe\">\n",
       "  <thead>\n",
       "    <tr style=\"text-align: right;\">\n",
       "      <th></th>\n",
       "      <th>count</th>\n",
       "      <th>mean</th>\n",
       "      <th>std</th>\n",
       "      <th>min</th>\n",
       "      <th>25%</th>\n",
       "      <th>50%</th>\n",
       "      <th>75%</th>\n",
       "      <th>max</th>\n",
       "    </tr>\n",
       "    <tr>\n",
       "      <th>passenger_class</th>\n",
       "      <th></th>\n",
       "      <th></th>\n",
       "      <th></th>\n",
       "      <th></th>\n",
       "      <th></th>\n",
       "      <th></th>\n",
       "      <th></th>\n",
       "      <th></th>\n",
       "    </tr>\n",
       "  </thead>\n",
       "  <tbody>\n",
       "    <tr>\n",
       "      <th>1</th>\n",
       "      <td>80.0000</td>\n",
       "      <td>42.5500</td>\n",
       "      <td>13.8389</td>\n",
       "      <td>2.0000</td>\n",
       "      <td>36.7500</td>\n",
       "      <td>38.5000</td>\n",
       "      <td>51.2500</td>\n",
       "      <td>71.0000</td>\n",
       "    </tr>\n",
       "    <tr>\n",
       "      <th>2</th>\n",
       "      <td>97.0000</td>\n",
       "      <td>33.8557</td>\n",
       "      <td>11.7571</td>\n",
       "      <td>16.0000</td>\n",
       "      <td>25.0000</td>\n",
       "      <td>32.0000</td>\n",
       "      <td>38.0000</td>\n",
       "      <td>70.0000</td>\n",
       "    </tr>\n",
       "    <tr>\n",
       "      <th>3</th>\n",
       "      <td>372.0000</td>\n",
       "      <td>29.6747</td>\n",
       "      <td>11.6734</td>\n",
       "      <td>1.0000</td>\n",
       "      <td>21.0000</td>\n",
       "      <td>31.0000</td>\n",
       "      <td>38.0000</td>\n",
       "      <td>74.0000</td>\n",
       "    </tr>\n",
       "  </tbody>\n",
       "</table>\n",
       "</div>"
      ],
      "text/plain": [
       "                   count    mean     std     min     25%     50%     75%  \\\n",
       "passenger_class                                                            \n",
       "1                80.0000 42.5500 13.8389  2.0000 36.7500 38.5000 51.2500   \n",
       "2                97.0000 33.8557 11.7571 16.0000 25.0000 32.0000 38.0000   \n",
       "3               372.0000 29.6747 11.6734  1.0000 21.0000 31.0000 38.0000   \n",
       "\n",
       "                    max  \n",
       "passenger_class          \n",
       "1               71.0000  \n",
       "2               70.0000  \n",
       "3               74.0000  "
      ]
     },
     "execution_count": 37,
     "metadata": {},
     "output_type": "execute_result"
    }
   ],
   "source": [
    "# Tabela 14: Descrição das vítimas por classe.\n",
    "df_14 = df_titanic.query('survived == 0').groupby('passenger_class')['age'].describe()\n",
    "\n",
    "df_14.to_csv('tables/t_14.csv')\n",
    "print('Tabela 14: Descrição das vítimas por classe.')\n",
    "df_14"
   ]
  },
  {
   "cell_type": "markdown",
   "metadata": {},
   "source": [
    "A primeira classe teve, em média, a maior idade de aproximadamente, 43 anos (desvio de 13.83), sendo a vítima mais jovem com 2 anos e a mais velha com 71 anos. A segunda classe possui em média, aproximadamente, 34 anos (desvio de 11.75), com mínimo de 16 anos e máximo de 70 anos. E na terceira classe, o perfil da vítima é de passageiro com média de, aproximadamente, 30 anos (desvio de 11.67), com o mínimo de 1 ano e o máximo de 74 anos. "
   ]
  },
  {
   "cell_type": "markdown",
   "metadata": {},
   "source": [
    "Qual é a idade média da vítima do naufrágio?"
   ]
  },
  {
   "cell_type": "code",
   "execution_count": 38,
   "metadata": {},
   "outputs": [
    {
     "name": "stdout",
     "output_type": "stream",
     "text": [
      "Tabela 15: Idade média dos falecidos.\n"
     ]
    },
    {
     "data": {
      "text/plain": [
       "count   549.0000\n",
       "mean     32.2896\n",
       "std      12.8267\n",
       "min       1.0000\n",
       "25%      23.0000\n",
       "50%      34.0000\n",
       "75%      38.0000\n",
       "max      74.0000\n",
       "Name: age, dtype: float64"
      ]
     },
     "execution_count": 38,
     "metadata": {},
     "output_type": "execute_result"
    }
   ],
   "source": [
    "# Tabela 15: Idade média dos falecidos.\n",
    "df_15 = df_titanic.query('survived == 0')['age'].describe()\n",
    "\n",
    "df_15.to_csv('tables/t_15.csv')\n",
    "print('Tabela 15: Idade média dos falecidos.')\n",
    "df_15"
   ]
  },
  {
   "cell_type": "markdown",
   "metadata": {},
   "source": [
    "A idade média da vítima era de, aproximadamente, 32 anos (desvio de 12,82) o que compreende a população adulta. A vítima mais jovem foi uma criança com 1 ano e a mais velha foi um adulto com 74 anos, ambos passageiros da terceira classe."
   ]
  },
  {
   "cell_type": "markdown",
   "metadata": {},
   "source": [
    "Qual era a idade média dos sobreviventes por classe?"
   ]
  },
  {
   "cell_type": "code",
   "execution_count": 39,
   "metadata": {},
   "outputs": [
    {
     "name": "stdout",
     "output_type": "stream",
     "text": [
      "Tabela 16: Idade média de sobreviventes por classe.\n"
     ]
    },
    {
     "data": {
      "text/html": [
       "<div>\n",
       "<style scoped>\n",
       "    .dataframe tbody tr th:only-of-type {\n",
       "        vertical-align: middle;\n",
       "    }\n",
       "\n",
       "    .dataframe tbody tr th {\n",
       "        vertical-align: top;\n",
       "    }\n",
       "\n",
       "    .dataframe thead th {\n",
       "        text-align: right;\n",
       "    }\n",
       "</style>\n",
       "<table border=\"1\" class=\"dataframe\">\n",
       "  <thead>\n",
       "    <tr style=\"text-align: right;\">\n",
       "      <th></th>\n",
       "      <th>count</th>\n",
       "      <th>mean</th>\n",
       "      <th>std</th>\n",
       "      <th>min</th>\n",
       "      <th>25%</th>\n",
       "      <th>50%</th>\n",
       "      <th>75%</th>\n",
       "      <th>max</th>\n",
       "    </tr>\n",
       "    <tr>\n",
       "      <th>passenger_class</th>\n",
       "      <th></th>\n",
       "      <th></th>\n",
       "      <th></th>\n",
       "      <th></th>\n",
       "      <th></th>\n",
       "      <th></th>\n",
       "      <th></th>\n",
       "      <th></th>\n",
       "    </tr>\n",
       "  </thead>\n",
       "  <tbody>\n",
       "    <tr>\n",
       "      <th>1</th>\n",
       "      <td>136.0000</td>\n",
       "      <td>35.6324</td>\n",
       "      <td>13.0701</td>\n",
       "      <td>0.0000</td>\n",
       "      <td>26.0000</td>\n",
       "      <td>36.0000</td>\n",
       "      <td>43.2500</td>\n",
       "      <td>80.0000</td>\n",
       "    </tr>\n",
       "    <tr>\n",
       "      <th>2</th>\n",
       "      <td>87.0000</td>\n",
       "      <td>26.4253</td>\n",
       "      <td>14.7567</td>\n",
       "      <td>0.0000</td>\n",
       "      <td>18.0000</td>\n",
       "      <td>28.0000</td>\n",
       "      <td>36.0000</td>\n",
       "      <td>62.0000</td>\n",
       "    </tr>\n",
       "    <tr>\n",
       "      <th>3</th>\n",
       "      <td>119.0000</td>\n",
       "      <td>25.5882</td>\n",
       "      <td>12.8541</td>\n",
       "      <td>0.0000</td>\n",
       "      <td>18.0000</td>\n",
       "      <td>27.0000</td>\n",
       "      <td>38.0000</td>\n",
       "      <td>63.0000</td>\n",
       "    </tr>\n",
       "  </tbody>\n",
       "</table>\n",
       "</div>"
      ],
      "text/plain": [
       "                   count    mean     std    min     25%     50%     75%  \\\n",
       "passenger_class                                                           \n",
       "1               136.0000 35.6324 13.0701 0.0000 26.0000 36.0000 43.2500   \n",
       "2                87.0000 26.4253 14.7567 0.0000 18.0000 28.0000 36.0000   \n",
       "3               119.0000 25.5882 12.8541 0.0000 18.0000 27.0000 38.0000   \n",
       "\n",
       "                    max  \n",
       "passenger_class          \n",
       "1               80.0000  \n",
       "2               62.0000  \n",
       "3               63.0000  "
      ]
     },
     "execution_count": 39,
     "metadata": {},
     "output_type": "execute_result"
    }
   ],
   "source": [
    "# Tabela 16: Idade média de sobreviventes por classe.\n",
    "df_16 = df_titanic.query('survived == 1').groupby('passenger_class')['age'].describe()\n",
    "\n",
    "df_16.to_csv('tables/t_16.csv')\n",
    "print('Tabela 16: Idade média de sobreviventes por classe.')\n",
    "df_16"
   ]
  },
  {
   "cell_type": "markdown",
   "metadata": {},
   "source": [
    "Existe diferenças entre as idades médias entre a primeira classe e as demais, o que era esperado visto que os passageiros da primeira classe eram mais velhos do que os passageiros das demais classes. Para a primeira classe, a média de idade era de, aproximadamente, 36 anos (desvio de 13 anos), o sobrevivente mais jovem possuia menos de 1 ano de idade, assim como para as demais classes, e o mais velho tinha 80 anos. Para a segunda classe, a idade média era de, aproximadamente, 26 anos (com desvio de 15 anos), o sobrevivente mais velho possuia 62 anos. Para a terceira classe, a média de idade, aproximadamente, igual da segunda classe e o sobrevivente mais velho possuia 63 anos."
   ]
  },
  {
   "cell_type": "markdown",
   "metadata": {},
   "source": [
    "Qual era a idade média dos sobreviventes?"
   ]
  },
  {
   "cell_type": "code",
   "execution_count": 40,
   "metadata": {},
   "outputs": [
    {
     "name": "stdout",
     "output_type": "stream",
     "text": [
      "Tabela 17: Idade média dos sobreviventes.\n"
     ]
    },
    {
     "data": {
      "text/plain": [
       "count   342.0000\n",
       "mean     29.7953\n",
       "std      14.2262\n",
       "min       0.0000\n",
       "25%      21.0000\n",
       "50%      31.0000\n",
       "75%      38.0000\n",
       "max      80.0000\n",
       "Name: age, dtype: float64"
      ]
     },
     "execution_count": 40,
     "metadata": {},
     "output_type": "execute_result"
    }
   ],
   "source": [
    "# Tabela 17: Idade média dos sobreviventes.\n",
    "df_17 = df_titanic.query('survived == 1')['age'].describe()\n",
    "\n",
    "df_17.to_csv('tables/t_17.csv')\n",
    "print('Tabela 17: Idade média dos sobreviventes.')\n",
    "df_17"
   ]
  },
  {
   "cell_type": "markdown",
   "metadata": {},
   "source": [
    "A idade média do sobrevivente era de, aproximadamente, 30 anos (desvio de 14 anos) o que compreende a população adulta. O sobrevivente mais jovem foi uma criança com menos de 1 ano e a mais velha foi um adulto com 80 anos, sendo o mais velho passageiro da primeira classe."
   ]
  },
  {
   "cell_type": "markdown",
   "metadata": {},
   "source": [
    "## 1.5. Conclusões\n",
    "\n",
    "A maioria dos passageiros do Titanic foram vítimas decorrentes do naufrágio. No total, apenas 57,97% das crianças, 37,52% dos adultos e 42,86% dos adolescentes sobreviveram. Sendo que a taxa de sobrevivência das crianças foi de 58%. Desses, 39,77% eram da primeira classe o que evidência que essa classe foi priorizada no momento de fuga, resultando em 62,96% de sobreviventes do total de passageiros da primeira classe. Em relação a segunda e terceira classes, sobreviveram apenas 47,28% e 24,24%, respectivamente, totalizando 60,23% de sobreviventes.\n",
    "\n",
    "As crianças foram a que apresentaram maior taxa de sobrevivência, 57,97%, seguida dos adolescentes com 42,86% e adultos com 36,17%. Em relação ao gênero, 74,20% das mulheres sobreviveram e apenas 25,80% dos homens sobreviveram, sendo que eles constituiam majoritariamente a população de passageiros.\n",
    "\n",
    "As passagens da primeira classe possuiam os maiores valores, em média $\\$43.65$, e \t$\\$13.32$, e $\\$8.09$ em média para a segunda e terceira classe, respectivamente. Em relação ao local de embarque, houveram três portos em que o Titanic aportou, o Cherbourg, o Queenstown e o Southampton. No Cherbourg, embarcaram 168 pessoas no total, representando o porto em que obteve-se as maiores médias de tickets para a primeira e segunda classe, sendo 85 da primeira classe (com valor médio do ticket de $\\$104,72$), 17 da segunda classe (com valor médio do ticket de $\\$25,36$). O porto de Southampton foi o qual houve maior número de embarque, no total 646 pessoas, resultando em 72.50% do total da tripulação do Titanic, sendo 91 da primeira classe, 125 da segunda classe e 279 da terceira classe, com preço médio de $\\$14.64$ para a terceira classe.\n",
    "\n",
    "O perfil das vítimas do naufrágio mostra que os adultos foram a grande maioria com 87.43% falencendo, sendo que 64.79% foram da terceira classe; os adolescentes ficaram em seguida com uma baixa taxa de mortes de apenas 7.29% e as crianças foram as que menos sofreram baixas com 5.28%, sendo que apenas 1 criança da primeira classe perdeu a vida, enquanto 28 crianças da terceira classe faleceram. A segunda classe não teve crianças falecidas no naufrágio.\n",
    "\n",
    "De todos os falecimentos, 468 passageiros eram do gênero masculino, sendo que os homens constituiam a maior parte da população total de passageiros, representando 85.25% de óbitos. A idade média das vítimas foi de, aproximadamente, 32 anos com desvio de 13 anos, o que corresponde que, em média, a vítima pertencia a categoria adulta. A vítima mais jovem foi uma criança de 1 ano e a mais velha foi um adulto de 74 anos, ambos pertencentes a terceira classe. Tal classe também obteve, no geral, o maior número de mortos, representando 67.76% do total de falecimentos.\n",
    "\n",
    "Em média, a idade dos sobreviventes foi de 30 anos e de vítimas foi de 32 anos, indicando que o perfil do sobrevivente é de uma pessoa adulta, em média, o que é esperado visto que haviam mais adultos do que crianças e adolescentes no navio. Para a primeira classe, a idade média dos sobreviventes foi de 36 anos e a idade média das vítimas foi de 43 anos. Para a segunda classe, a idade média dos sobreviventes foi de 26 anos e a idade média das vítimas foi de 34 anos. Para a terceira classe, a idade média dos sobreviventes foi de 23 anos e a idade média das vítimas foi de 30 anos. Isso evidencia que o perfil médio de sobreviventes, por classe, é de adultos jovens.\n",
    "\n",
    "Em suma, o banco de dados analisado revela que o perfil médio do sobrevivente é que de um passageiro da primeira classe e do gênero feminino, independente da categoria de idade."
   ]
  },
  {
   "cell_type": "markdown",
   "metadata": {},
   "source": [
    "## 1.6 Limitações\n",
    "\n",
    "Em um primeiro estudo notou-se que existem alguns fatores que podem limitar a análise, elas são: Age, Cabin, Embarked.\n",
    "\n",
    "- Medidas tomadas:\n",
    "    - Age: Os valores da idade foram tomados de acordo com a média da classe de passageiro e aplicados aos valores nulos.\n",
    "    - Cabin: Como a coluna não é fundamental para a analise feita, foi removida do conjunto de dados.\n",
    "    - Embarked: Pouquissimos valores faltantes. Optou-se por adicionar o local com maior número de embarques.\n",
    "        \n",
    "Em Embarked optou-se por manter as siglas para facilitar a visualização. A coluna Age optou-se por tornar seus valores inteiros.\n",
    "\n",
    "A partir das idades, uma nova coluna foi gerada para distinguir categorias de idade `age_category`. Também foi criada uma coluna de frequência do número total de passageiros por ticket `freq` que contem a quantidade de passageiros por passagem."
   ]
  },
  {
   "cell_type": "markdown",
   "metadata": {},
   "source": [
    "## 1.7. Links uteis\n",
    "\n",
    "Está é uma lista de links utilizados durante o projeto.\n",
    "\n",
    "- [Change Figure Size](https://stackoverflow.com/questions/31594549/how-do-i-change-the-figure-size-for-a-seaborn-plot/31597278)\n",
    "- [Save Figure in Seaborn](https://stackoverflow.com/questions/33616557/barplot-savefig-returning-an-attributeerror)\n",
    "- [Ploting with Seaborn](https://www.kaggle.com/princeashburton/plotting-with-seaborn)\n",
    "- [Histograms and Density Plots in Python](https://towardsdatascience.com/histograms-and-density-plots-in-python-f6bda88f5ac0)\n",
    "- [Adjust Ticks in Seaborn](https://github.com/mwaskom/seaborn/issues/568)\n",
    "- [CSV to Markdown](https://donatstudios.com/CsvToMarkdownTable)\n",
    "- [Seaborn Tutorial](https://seaborn.pydata.org/tutorial.html)\n",
    "- [Matplotlib Docs](https://matplotlib.org/contents.html)\n",
    "- [Pandas Doc](https://pandas.pydata.org/pandas-docs/stable/)\n",
    "- [Numpy Docs](https://docs.scipy.org/doc/numpy/)\n",
    "- [Encyclopedia Titanica](https://www.encyclopedia-titanica.org/)"
   ]
  }
 ],
 "metadata": {
  "kernelspec": {
   "display_name": "Python 3",
   "language": "python",
   "name": "python3"
  },
  "language_info": {
   "codemirror_mode": {
    "name": "ipython",
    "version": 3
   },
   "file_extension": ".py",
   "mimetype": "text/x-python",
   "name": "python",
   "nbconvert_exporter": "python",
   "pygments_lexer": "ipython3",
   "version": "3.6.6"
  }
 },
 "nbformat": 4,
 "nbformat_minor": 2
}
