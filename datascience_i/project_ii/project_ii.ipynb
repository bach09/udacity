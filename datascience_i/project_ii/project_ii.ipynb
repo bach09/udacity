{
 "cells": [
  {
   "cell_type": "code",
   "execution_count": 26,
   "metadata": {},
   "outputs": [
    {
     "data": {
      "text/html": [
       "<div>\n",
       "<style scoped>\n",
       "    .dataframe tbody tr th:only-of-type {\n",
       "        vertical-align: middle;\n",
       "    }\n",
       "\n",
       "    .dataframe tbody tr th {\n",
       "        vertical-align: top;\n",
       "    }\n",
       "\n",
       "    .dataframe thead th {\n",
       "        text-align: right;\n",
       "    }\n",
       "</style>\n",
       "<table border=\"1\" class=\"dataframe\">\n",
       "  <thead>\n",
       "    <tr style=\"text-align: right;\">\n",
       "      <th></th>\n",
       "      <th>PassengerId</th>\n",
       "      <th>Survived</th>\n",
       "      <th>Pclass</th>\n",
       "      <th>Name</th>\n",
       "      <th>Sex</th>\n",
       "      <th>Age</th>\n",
       "      <th>SibSp</th>\n",
       "      <th>Parch</th>\n",
       "      <th>Ticket</th>\n",
       "      <th>Fare</th>\n",
       "      <th>Cabin</th>\n",
       "      <th>Embarked</th>\n",
       "    </tr>\n",
       "  </thead>\n",
       "  <tbody>\n",
       "    <tr>\n",
       "      <th>0</th>\n",
       "      <td>1</td>\n",
       "      <td>0</td>\n",
       "      <td>3</td>\n",
       "      <td>Braund, Mr. Owen Harris</td>\n",
       "      <td>male</td>\n",
       "      <td>22.0</td>\n",
       "      <td>1</td>\n",
       "      <td>0</td>\n",
       "      <td>A/5 21171</td>\n",
       "      <td>7.25</td>\n",
       "      <td>NaN</td>\n",
       "      <td>S</td>\n",
       "    </tr>\n",
       "  </tbody>\n",
       "</table>\n",
       "</div>"
      ],
      "text/plain": [
       "   PassengerId  Survived  Pclass                     Name   Sex   Age  SibSp  \\\n",
       "0            1         0       3  Braund, Mr. Owen Harris  male  22.0      1   \n",
       "\n",
       "   Parch     Ticket  Fare Cabin Embarked  \n",
       "0      0  A/5 21171  7.25   NaN        S  "
      ]
     },
     "execution_count": 26,
     "metadata": {},
     "output_type": "execute_result"
    }
   ],
   "source": [
    "import numpy as np\n",
    "import pandas as pd\n",
    "import matplotlib.pyplot as plt\n",
    "import seaborn as sns\n",
    "\n",
    "% matplotlib inline\n",
    "\n",
    "df_titanic = pd.read_csv('titanic-data-6.csv')\n",
    "\n",
    "df_titanic.head(1)"
   ]
  },
  {
   "cell_type": "code",
   "execution_count": 27,
   "metadata": {},
   "outputs": [
    {
     "name": "stdout",
     "output_type": "stream",
     "text": [
      "<class 'pandas.core.frame.DataFrame'>\n",
      "RangeIndex: 891 entries, 0 to 890\n",
      "Data columns (total 12 columns):\n",
      "PassengerId    891 non-null int64\n",
      "Survived       891 non-null int64\n",
      "Pclass         891 non-null int64\n",
      "Name           891 non-null object\n",
      "Sex            891 non-null object\n",
      "Age            714 non-null float64\n",
      "SibSp          891 non-null int64\n",
      "Parch          891 non-null int64\n",
      "Ticket         891 non-null object\n",
      "Fare           891 non-null float64\n",
      "Cabin          204 non-null object\n",
      "Embarked       889 non-null object\n",
      "dtypes: float64(2), int64(5), object(5)\n",
      "memory usage: 83.6+ KB\n"
     ]
    }
   ],
   "source": [
    "df_titanic.info()"
   ]
  },
  {
   "cell_type": "code",
   "execution_count": 28,
   "metadata": {},
   "outputs": [],
   "source": [
    "# Coluna de id de passageiros removida, pois é igual ao index.\n",
    "df_titanic.drop(columns='PassengerId', inplace=True)\n",
    "\n",
    "# Renomeia Pclass para Passenger Class.\n",
    "df_titanic.rename(columns={'Pclass':'Passenger Class'}, inplace=True)\n",
    "\n",
    "# Renomeia colunas.\n",
    "df_titanic.rename(columns=lambda x: x.strip().lower().replace(' ', '_'), inplace=True)\n",
    "\n"
   ]
  },
  {
   "cell_type": "code",
   "execution_count": 302,
   "metadata": {},
   "outputs": [
    {
     "data": {
      "text/plain": [
       "Index(['survived', 'passenger_class', 'name', 'sex', 'age', 'sibsp', 'parch',\n",
       "       'ticket', 'fare', 'cabin', 'embarked'],\n",
       "      dtype='object')"
      ]
     },
     "execution_count": 302,
     "metadata": {},
     "output_type": "execute_result"
    }
   ],
   "source": [
    "df_titanic.columns"
   ]
  },
  {
   "cell_type": "code",
   "execution_count": 30,
   "metadata": {},
   "outputs": [],
   "source": [
    "# Cria nova coluna com categoria de idade.\n",
    "df_criancas = df_titanic.query('age <= 12').copy()\n",
    "df_adolescente = df_titanic.query('12 < age <= 18').copy()\n",
    "df_adulto = df_titanic.query('age > 18').copy()\n",
    "df_sem_idade = df_titanic[df_titanic['age'].isnull()].copy()\n",
    "\n",
    "idade_crianca = np.repeat('Criança', df_criancas.shape[0])\n",
    "idade_adolescente = np.repeat('Adolescente', df_adolescente.shape[0])\n",
    "idade_adulto = np.repeat('Adulto', df_adulto.shape[0])\n",
    "idade_desconhecido = np.repeat('Desconhecido', df_sem_idade.shape[0])\n",
    "\n",
    "df_criancas['age_category'] = idade_crianca\n",
    "df_adolescente['age_category'] = idade_adolescente\n",
    "df_adulto['age_category'] = idade_adulto\n",
    "df_sem_idade['age_category'] = idade_desconhecido\n",
    "\n",
    "df_titanic_novo = df_criancas.append([df_adolescente, df_adulto, df_sem_idade])\n",
    "df_titanic_novo.sort_index(inplace=True)\n"
   ]
  },
  {
   "cell_type": "code",
   "execution_count": 300,
   "metadata": {},
   "outputs": [
    {
     "name": "stderr",
     "output_type": "stream",
     "text": [
      "/home/trprado/.local/share/virtualenvs/udacity-WaEjM5--/lib/python3.6/site-packages/scipy/stats/stats.py:1713: FutureWarning: Using a non-tuple sequence for multidimensional indexing is deprecated; use `arr[tuple(seq)]` instead of `arr[seq]`. In the future this will be interpreted as an array index, `arr[np.array(seq)]`, which will result either in an error or a different result.\n",
      "  return np.add.reduce(sorted[indexer] * weights, axis=axis) / sumval\n"
     ]
    },
    {
     "data": {
      "image/png": "[encoded data removed]",
      "text/plain": [
       "<Figure size 466.25x360 with 1 Axes>"
      ]
     },
     "metadata": {
      "needs_background": "light"
     },
     "output_type": "display_data"
    }
   ],
   "source": [
    "# Gráfico de Sobreviventes por classe e categoria de idade.\n",
    "g1 = sns.catplot(data=df_titanic_novo, x='passenger_class', y='survived', kind='bar', hue='age_category')\n",
    "g1._legend.set_title('Categoria de Idade')\n",
    "plt.xlabel('Classe')\n",
    "plt.ylabel('Sobreviventes')\n",
    "plt.title('Sobreviventes por classe e categoria de idade')\n",
    "sns.despine(offset=5, trim=True);"
   ]
  },
  {
   "cell_type": "code",
   "execution_count": 17,
   "metadata": {},
   "outputs": [
    {
     "data": {
      "image/png": "[encoded data removed]",
      "text/plain": [
       "<Figure size 466.25x360 with 1 Axes>"
      ]
     },
     "metadata": {
      "needs_background": "light"
     },
     "output_type": "display_data"
    }
   ],
   "source": [
    "# Gráfico de contagem de passageiros por classe e categoria de idade.\n",
    "g1 = sns.catplot(data=df_titanic_novo, x='passenger_class', kind='count', hue='age_category')\n",
    "g1._legend.set_title('Categoria de Idade')\n",
    "plt.xlabel('Classe')\n",
    "plt.ylabel('Contagem')\n",
    "plt.title('Contagem por classe e categoria de idade')\n",
    "sns.despine(offset=5, trim=True);"
   ]
  },
  {
   "cell_type": "code",
   "execution_count": 315,
   "metadata": {},
   "outputs": [
    {
     "data": {
      "image/png": "[encoded data removed]",
      "text/plain": [
       "<Figure size 430.5x360 with 1 Axes>"
      ]
     },
     "metadata": {
      "needs_background": "light"
     },
     "output_type": "display_data"
    }
   ],
   "source": [
    "# Gráfico de contagem de passageiros por classe e gênero.\n",
    "g1 = sns.catplot(data=df_titanic_novo, x='passenger_class', kind='count', hue='sex')\n",
    "g1._legend.set_title('Gênero')\n",
    "plt.xlabel('Classe')\n",
    "plt.ylabel('Contagem')\n",
    "plt.title('Contagem de pessoas por classe e gênero')\n",
    "sns.despine(offset=5, trim=True);"
   ]
  },
  {
   "cell_type": "code",
   "execution_count": 35,
   "metadata": {
    "collapsed": true
   },
   "outputs": [
    {
     "data": {
      "image/png": "[encoded data removed]",
      "text/plain": [
       "<Figure size 360x360 with 1 Axes>"
      ]
     },
     "metadata": {
      "needs_background": "light"
     },
     "output_type": "display_data"
    }
   ],
   "source": [
    "# Contagem de passageiros por classe.\n",
    "g1 = sns.catplot(data=df_titanic_novo, x='passenger_class', kind='count')\n",
    "plt.xlabel('Classe')\n",
    "plt.ylabel('Contagem')\n",
    "plt.title('Contagem de passageiros por classe social.')\n",
    "sns.despine(offset=5, trim=True);"
   ]
  },
  {
   "cell_type": "code",
   "execution_count": 313,
   "metadata": {},
   "outputs": [
    {
     "data": {
      "image/png": "[encoded data removed]",
      "text/plain": [
       "<Figure size 360x360 with 1 Axes>"
      ]
     },
     "metadata": {
      "needs_background": "light"
     },
     "output_type": "display_data"
    }
   ],
   "source": [
    "# Contagem de pessoas por gênero.\n",
    "sns.catplot(data=df_titanic_novo, x='sex', kind='count')\n",
    "plt.xlabel('Gênero')\n",
    "plt.ylabel('Contagem')\n",
    "plt.title('Contagem de pessoas por classe e gênero')\n",
    "sns.despine(offset=5, trim=True);"
   ]
  },
  {
   "cell_type": "code",
   "execution_count": 312,
   "metadata": {},
   "outputs": [
    {
     "data": {
      "image/png": "[encoded data removed]",
      "text/plain": [
       "<Figure size 360x360 with 1 Axes>"
      ]
     },
     "metadata": {
      "needs_background": "light"
     },
     "output_type": "display_data"
    }
   ],
   "source": [
    "# Contagem de pessoas por categoria de idade.\n",
    "sns.catplot(data=df_titanic_novo, x='age_category', kind='count')\n",
    "plt.xlabel('Categoria de Idade')\n",
    "plt.ylabel('Contagem')\n",
    "plt.title('Contagem de pessoas por categoria de idade')\n",
    "sns.despine(offset=5, trim=True);"
   ]
  },
  {
   "cell_type": "code",
   "execution_count": 193,
   "metadata": {},
   "outputs": [
    {
     "data": {
      "text/plain": [
       "categoria_idade\n",
       "Adolescente    16.578571\n",
       "Adulto         34.287826\n",
       "Criança         4.770580\n",
       "Name: age, dtype: float64"
      ]
     },
     "execution_count": 193,
     "metadata": {},
     "output_type": "execute_result"
    }
   ],
   "source": [
    "# Média da idade dos passageiros por categoria.\n",
    "df_titanic_novo.groupby('age_category')['age'].mean().dropna()"
   ]
  },
  {
   "cell_type": "code",
   "execution_count": 194,
   "metadata": {},
   "outputs": [
    {
     "data": {
      "text/html": [
       "<div>\n",
       "<style scoped>\n",
       "    .dataframe tbody tr th:only-of-type {\n",
       "        vertical-align: middle;\n",
       "    }\n",
       "\n",
       "    .dataframe tbody tr th {\n",
       "        vertical-align: top;\n",
       "    }\n",
       "\n",
       "    .dataframe thead th {\n",
       "        text-align: right;\n",
       "    }\n",
       "</style>\n",
       "<table border=\"1\" class=\"dataframe\">\n",
       "  <thead>\n",
       "    <tr style=\"text-align: right;\">\n",
       "      <th></th>\n",
       "      <th>count</th>\n",
       "      <th>mean</th>\n",
       "      <th>std</th>\n",
       "      <th>min</th>\n",
       "      <th>25%</th>\n",
       "      <th>50%</th>\n",
       "      <th>75%</th>\n",
       "      <th>max</th>\n",
       "    </tr>\n",
       "    <tr>\n",
       "      <th>categoria_idade</th>\n",
       "      <th></th>\n",
       "      <th></th>\n",
       "      <th></th>\n",
       "      <th></th>\n",
       "      <th></th>\n",
       "      <th></th>\n",
       "      <th></th>\n",
       "      <th></th>\n",
       "    </tr>\n",
       "  </thead>\n",
       "  <tbody>\n",
       "    <tr>\n",
       "      <th>Adolescente</th>\n",
       "      <td>70.0</td>\n",
       "      <td>16.578571</td>\n",
       "      <td>1.438688</td>\n",
       "      <td>13.00</td>\n",
       "      <td>16.0</td>\n",
       "      <td>17.0</td>\n",
       "      <td>18.0</td>\n",
       "      <td>18.0</td>\n",
       "    </tr>\n",
       "    <tr>\n",
       "      <th>Adulto</th>\n",
       "      <td>575.0</td>\n",
       "      <td>34.287826</td>\n",
       "      <td>11.988352</td>\n",
       "      <td>19.00</td>\n",
       "      <td>25.0</td>\n",
       "      <td>31.0</td>\n",
       "      <td>41.0</td>\n",
       "      <td>80.0</td>\n",
       "    </tr>\n",
       "    <tr>\n",
       "      <th>Criança</th>\n",
       "      <td>69.0</td>\n",
       "      <td>4.770580</td>\n",
       "      <td>3.390390</td>\n",
       "      <td>0.42</td>\n",
       "      <td>2.0</td>\n",
       "      <td>4.0</td>\n",
       "      <td>8.0</td>\n",
       "      <td>12.0</td>\n",
       "    </tr>\n",
       "  </tbody>\n",
       "</table>\n",
       "</div>"
      ],
      "text/plain": [
       "                 count       mean        std    min   25%   50%   75%   max\n",
       "categoria_idade                                                            \n",
       "Adolescente       70.0  16.578571   1.438688  13.00  16.0  17.0  18.0  18.0\n",
       "Adulto           575.0  34.287826  11.988352  19.00  25.0  31.0  41.0  80.0\n",
       "Criança           69.0   4.770580   3.390390   0.42   2.0   4.0   8.0  12.0"
      ]
     },
     "execution_count": 194,
     "metadata": {},
     "output_type": "execute_result"
    }
   ],
   "source": [
    "# Descritiva da categoria de idade dos passageiros.\n",
    "df_titanic_novo.groupby('age_category')['age'].describe().dropna()"
   ]
  },
  {
   "cell_type": "code",
   "execution_count": 195,
   "metadata": {},
   "outputs": [
    {
     "data": {
      "text/html": [
       "<div>\n",
       "<style scoped>\n",
       "    .dataframe tbody tr th:only-of-type {\n",
       "        vertical-align: middle;\n",
       "    }\n",
       "\n",
       "    .dataframe tbody tr th {\n",
       "        vertical-align: top;\n",
       "    }\n",
       "\n",
       "    .dataframe thead th {\n",
       "        text-align: right;\n",
       "    }\n",
       "</style>\n",
       "<table border=\"1\" class=\"dataframe\">\n",
       "  <thead>\n",
       "    <tr style=\"text-align: right;\">\n",
       "      <th></th>\n",
       "      <th></th>\n",
       "      <th>count</th>\n",
       "      <th>mean</th>\n",
       "      <th>std</th>\n",
       "      <th>min</th>\n",
       "      <th>25%</th>\n",
       "      <th>50%</th>\n",
       "      <th>75%</th>\n",
       "      <th>max</th>\n",
       "    </tr>\n",
       "    <tr>\n",
       "      <th>categoria_idade</th>\n",
       "      <th>passenger_class</th>\n",
       "      <th></th>\n",
       "      <th></th>\n",
       "      <th></th>\n",
       "      <th></th>\n",
       "      <th></th>\n",
       "      <th></th>\n",
       "      <th></th>\n",
       "      <th></th>\n",
       "    </tr>\n",
       "  </thead>\n",
       "  <tbody>\n",
       "    <tr>\n",
       "      <th rowspan=\"3\" valign=\"top\">Adolescente</th>\n",
       "      <th>1</th>\n",
       "      <td>12.0</td>\n",
       "      <td>16.666667</td>\n",
       "      <td>1.302678</td>\n",
       "      <td>14.00</td>\n",
       "      <td>16.00</td>\n",
       "      <td>17.0</td>\n",
       "      <td>18.00</td>\n",
       "      <td>18.0</td>\n",
       "    </tr>\n",
       "    <tr>\n",
       "      <th>2</th>\n",
       "      <td>12.0</td>\n",
       "      <td>16.750000</td>\n",
       "      <td>1.712255</td>\n",
       "      <td>13.00</td>\n",
       "      <td>16.00</td>\n",
       "      <td>17.5</td>\n",
       "      <td>18.00</td>\n",
       "      <td>18.0</td>\n",
       "    </tr>\n",
       "    <tr>\n",
       "      <th>3</th>\n",
       "      <td>46.0</td>\n",
       "      <td>16.510870</td>\n",
       "      <td>1.423958</td>\n",
       "      <td>13.00</td>\n",
       "      <td>16.00</td>\n",
       "      <td>17.0</td>\n",
       "      <td>18.00</td>\n",
       "      <td>18.0</td>\n",
       "    </tr>\n",
       "    <tr>\n",
       "      <th rowspan=\"3\" valign=\"top\">Adulto</th>\n",
       "      <th>1</th>\n",
       "      <td>170.0</td>\n",
       "      <td>40.550000</td>\n",
       "      <td>13.191091</td>\n",
       "      <td>19.00</td>\n",
       "      <td>30.00</td>\n",
       "      <td>39.0</td>\n",
       "      <td>50.00</td>\n",
       "      <td>80.0</td>\n",
       "    </tr>\n",
       "    <tr>\n",
       "      <th>2</th>\n",
       "      <td>144.0</td>\n",
       "      <td>34.086806</td>\n",
       "      <td>10.943806</td>\n",
       "      <td>19.00</td>\n",
       "      <td>25.75</td>\n",
       "      <td>31.5</td>\n",
       "      <td>40.00</td>\n",
       "      <td>70.0</td>\n",
       "    </tr>\n",
       "    <tr>\n",
       "      <th>3</th>\n",
       "      <td>261.0</td>\n",
       "      <td>30.319923</td>\n",
       "      <td>9.841149</td>\n",
       "      <td>19.00</td>\n",
       "      <td>22.00</td>\n",
       "      <td>28.0</td>\n",
       "      <td>35.00</td>\n",
       "      <td>74.0</td>\n",
       "    </tr>\n",
       "    <tr>\n",
       "      <th rowspan=\"3\" valign=\"top\">Criança</th>\n",
       "      <th>1</th>\n",
       "      <td>4.0</td>\n",
       "      <td>4.480000</td>\n",
       "      <td>4.530077</td>\n",
       "      <td>0.92</td>\n",
       "      <td>1.73</td>\n",
       "      <td>3.0</td>\n",
       "      <td>5.75</td>\n",
       "      <td>11.0</td>\n",
       "    </tr>\n",
       "    <tr>\n",
       "      <th>2</th>\n",
       "      <td>17.0</td>\n",
       "      <td>3.490000</td>\n",
       "      <td>2.521966</td>\n",
       "      <td>0.67</td>\n",
       "      <td>1.00</td>\n",
       "      <td>3.0</td>\n",
       "      <td>5.00</td>\n",
       "      <td>8.0</td>\n",
       "    </tr>\n",
       "    <tr>\n",
       "      <th>3</th>\n",
       "      <td>48.0</td>\n",
       "      <td>5.248333</td>\n",
       "      <td>3.510293</td>\n",
       "      <td>0.42</td>\n",
       "      <td>2.00</td>\n",
       "      <td>4.0</td>\n",
       "      <td>9.00</td>\n",
       "      <td>12.0</td>\n",
       "    </tr>\n",
       "  </tbody>\n",
       "</table>\n",
       "</div>"
      ],
      "text/plain": [
       "                                 count       mean        std    min    25%  \\\n",
       "categoria_idade passenger_class                                              \n",
       "Adolescente     1                 12.0  16.666667   1.302678  14.00  16.00   \n",
       "                2                 12.0  16.750000   1.712255  13.00  16.00   \n",
       "                3                 46.0  16.510870   1.423958  13.00  16.00   \n",
       "Adulto          1                170.0  40.550000  13.191091  19.00  30.00   \n",
       "                2                144.0  34.086806  10.943806  19.00  25.75   \n",
       "                3                261.0  30.319923   9.841149  19.00  22.00   \n",
       "Criança         1                  4.0   4.480000   4.530077   0.92   1.73   \n",
       "                2                 17.0   3.490000   2.521966   0.67   1.00   \n",
       "                3                 48.0   5.248333   3.510293   0.42   2.00   \n",
       "\n",
       "                                  50%    75%   max  \n",
       "categoria_idade passenger_class                     \n",
       "Adolescente     1                17.0  18.00  18.0  \n",
       "                2                17.5  18.00  18.0  \n",
       "                3                17.0  18.00  18.0  \n",
       "Adulto          1                39.0  50.00  80.0  \n",
       "                2                31.5  40.00  70.0  \n",
       "                3                28.0  35.00  74.0  \n",
       "Criança         1                 3.0   5.75  11.0  \n",
       "                2                 3.0   5.00   8.0  \n",
       "                3                 4.0   9.00  12.0  "
      ]
     },
     "execution_count": 195,
     "metadata": {},
     "output_type": "execute_result"
    }
   ],
   "source": [
    "# Descritiva da categoria de idade dos passageiros por classe.\n",
    "df_titanic_novo.groupby(['age_category', 'passenger_class'])['age'].describe().dropna()"
   ]
  },
  {
   "cell_type": "code",
   "execution_count": 343,
   "metadata": {},
   "outputs": [
    {
     "data": {
      "image/png": "[encoded data removed]",
      "text/plain": [
       "<Figure size 576x432 with 3 Axes>"
      ]
     },
     "metadata": {
      "needs_background": "light"
     },
     "output_type": "display_data"
    }
   ],
   "source": [
    "# Gráfico de caixa de categoria de idade por classe.\n",
    "g1 = sns.catplot(y=\"age_category\", x=\"age\", row=\"passenger_class\",\n",
    "                 orient=\"h\", height=2, aspect=4, kind=\"box\",\n",
    "                 data=df_titanic_novo.query('age_category != \"Desconhecido\"'))\n",
    "g1.set_ylabels('Categoria de Idade')\n",
    "g1.set_xlabels('Idade')\n",
    "g1.set_titles(\"{row_name}(a) classe\")\n",
    "sns.despine(offset=5, trim=True);"
   ]
  },
  {
   "cell_type": "code",
   "execution_count": 342,
   "metadata": {},
   "outputs": [
    {
     "data": {
      "image/png": "[encoded data removed]",
      "text/plain": [
       "<Figure size 576x576 with 1 Axes>"
      ]
     },
     "metadata": {
      "needs_background": "light"
     },
     "output_type": "display_data"
    }
   ],
   "source": [
    "# Gráfico de caixa entre idade de passageiros adultos e classe social.\n",
    "f, ax = plt.subplots(figsize=(8, 8))\n",
    "sns.boxplot(x=\"passenger_class\", y=\"age\", \n",
    "            data=df_titanic_novo.query('age_category != \"Desconhecido\" & age > 18'))\n",
    "plt.ylabel('Idade')\n",
    "plt.xlabel('Classe')\n",
    "plt.title(\"Idade dos adultos por classe\")\n",
    "sns.despine(offset=5, trim=True);"
   ]
  },
  {
   "cell_type": "code",
   "execution_count": 241,
   "metadata": {},
   "outputs": [
    {
     "data": {
      "text/plain": [
       "passenger_class\n",
       "1        136\n",
       "2         87\n",
       "3        119\n",
       "total    342\n",
       "Name: survived, dtype: int64"
      ]
     },
     "execution_count": 241,
     "metadata": {},
     "output_type": "execute_result"
    }
   ],
   "source": [
    "# Contagem de sobreviventes por classe\n",
    "df_total_survived = df_titanic_novo.query('survived == 1').groupby('passenger_class')['survived'].count()\n",
    "df_total_survived.loc['total'] = df_total_survived.sum()\n",
    "df_total_survived"
   ]
  },
  {
   "cell_type": "code",
   "execution_count": 240,
   "metadata": {},
   "outputs": [
    {
     "data": {
      "text/html": [
       "<div>\n",
       "<style scoped>\n",
       "    .dataframe tbody tr th:only-of-type {\n",
       "        vertical-align: middle;\n",
       "    }\n",
       "\n",
       "    .dataframe tbody tr th {\n",
       "        vertical-align: top;\n",
       "    }\n",
       "\n",
       "    .dataframe thead th {\n",
       "        text-align: right;\n",
       "    }\n",
       "</style>\n",
       "<table border=\"1\" class=\"dataframe\">\n",
       "  <thead>\n",
       "    <tr style=\"text-align: right;\">\n",
       "      <th></th>\n",
       "      <th>survived</th>\n",
       "      <th>name</th>\n",
       "      <th>sex</th>\n",
       "      <th>age</th>\n",
       "      <th>sibsp</th>\n",
       "      <th>parch</th>\n",
       "      <th>ticket</th>\n",
       "      <th>fare</th>\n",
       "      <th>cabin</th>\n",
       "      <th>embarked</th>\n",
       "      <th>categoria_idade</th>\n",
       "    </tr>\n",
       "    <tr>\n",
       "      <th>passenger_class</th>\n",
       "      <th></th>\n",
       "      <th></th>\n",
       "      <th></th>\n",
       "      <th></th>\n",
       "      <th></th>\n",
       "      <th></th>\n",
       "      <th></th>\n",
       "      <th></th>\n",
       "      <th></th>\n",
       "      <th></th>\n",
       "      <th></th>\n",
       "    </tr>\n",
       "  </thead>\n",
       "  <tbody>\n",
       "    <tr>\n",
       "      <th>1</th>\n",
       "      <td>216</td>\n",
       "      <td>216</td>\n",
       "      <td>216</td>\n",
       "      <td>186</td>\n",
       "      <td>216</td>\n",
       "      <td>216</td>\n",
       "      <td>216</td>\n",
       "      <td>216</td>\n",
       "      <td>176</td>\n",
       "      <td>214</td>\n",
       "      <td>216</td>\n",
       "    </tr>\n",
       "    <tr>\n",
       "      <th>2</th>\n",
       "      <td>184</td>\n",
       "      <td>184</td>\n",
       "      <td>184</td>\n",
       "      <td>173</td>\n",
       "      <td>184</td>\n",
       "      <td>184</td>\n",
       "      <td>184</td>\n",
       "      <td>184</td>\n",
       "      <td>16</td>\n",
       "      <td>184</td>\n",
       "      <td>184</td>\n",
       "    </tr>\n",
       "    <tr>\n",
       "      <th>3</th>\n",
       "      <td>491</td>\n",
       "      <td>491</td>\n",
       "      <td>491</td>\n",
       "      <td>355</td>\n",
       "      <td>491</td>\n",
       "      <td>491</td>\n",
       "      <td>491</td>\n",
       "      <td>491</td>\n",
       "      <td>12</td>\n",
       "      <td>491</td>\n",
       "      <td>491</td>\n",
       "    </tr>\n",
       "    <tr>\n",
       "      <th>total</th>\n",
       "      <td>891</td>\n",
       "      <td>891</td>\n",
       "      <td>891</td>\n",
       "      <td>714</td>\n",
       "      <td>891</td>\n",
       "      <td>891</td>\n",
       "      <td>891</td>\n",
       "      <td>891</td>\n",
       "      <td>204</td>\n",
       "      <td>889</td>\n",
       "      <td>891</td>\n",
       "    </tr>\n",
       "  </tbody>\n",
       "</table>\n",
       "</div>"
      ],
      "text/plain": [
       "                 survived  name  sex  age  sibsp  parch  ticket  fare  cabin  \\\n",
       "passenger_class                                                                \n",
       "1                     216   216  216  186    216    216     216   216    176   \n",
       "2                     184   184  184  173    184    184     184   184     16   \n",
       "3                     491   491  491  355    491    491     491   491     12   \n",
       "total                 891   891  891  714    891    891     891   891    204   \n",
       "\n",
       "                 embarked  categoria_idade  \n",
       "passenger_class                             \n",
       "1                     214              216  \n",
       "2                     184              184  \n",
       "3                     491              491  \n",
       "total                 889              891  "
      ]
     },
     "execution_count": 240,
     "metadata": {},
     "output_type": "execute_result"
    }
   ],
   "source": [
    "# totais das classes.\n",
    "df_class_total = df_titanic_novo.groupby('passenger_class').count()\n",
    "df_class_total.loc['total'] = df_class_total.sum()\n",
    "df_class_total"
   ]
  },
  {
   "cell_type": "code",
   "execution_count": 296,
   "metadata": {},
   "outputs": [
    {
     "name": "stdout",
     "output_type": "stream",
     "text": [
      "Total de pessoas da 1(a) classe no titanic: 216.\n",
      "Total de pessoas da 2(a) classe no titanic: 184.\n",
      "Total de pessoas da 3(a) classe no titanic: 491.\n",
      "Total de sobreviventes: 891.\n"
     ]
    }
   ],
   "source": [
    "# Total de passageiros por classe.\n",
    "for n in range(1,4):\n",
    "    print('Total de pessoas da {}(a) classe no titanic: {}.'.format(n, df_class_total.loc[n]['survived']))\n",
    "print('Total de sobreviventes: {}.'.format(df_class_total.loc['total']['survived']))"
   ]
  },
  {
   "cell_type": "code",
   "execution_count": 292,
   "metadata": {},
   "outputs": [
    {
     "name": "stdout",
     "output_type": "stream",
     "text": [
      "Porcentagem de sobreviventes da 1(a) classe: 62.96%.\n",
      "Porcentagem de sobreviventes da 2(a) classe: 47.28%.\n",
      "Porcentagem de sobreviventes da 3(a) classe: 24.24%.\n",
      "Porcentagem de sobreviventes do naufragio: 38.38%.\n"
     ]
    }
   ],
   "source": [
    "# Porcentagem de sobreviventes por classe.\n",
    "for n in range(1,4):   \n",
    "    print('Porcentagem de sobreviventes da {}(a) classe: {:.2%}.'.format(n,\n",
    "        df_total_survived.loc[n] / df_class_total.loc[n]['survived']))\n",
    "print('Porcentagem de sobreviventes do naufragio: {:.2%}.'.format(df_total_survived.loc['total'] / df_class_total.loc['total']['survived']))"
   ]
  },
  {
   "cell_type": "code",
   "execution_count": 344,
   "metadata": {},
   "outputs": [
    {
     "name": "stdout",
     "output_type": "stream",
     "text": [
      "Porcentagem por classes de sobreviventes.\n",
      "Porcentagem da 1(a) classe: 39.77%.\n",
      "Porcentagem da 2(a) classe: 25.44%.\n",
      "Porcentagem da 3(a) classe: 34.80%.\n",
      "Total de sobreviventes: 342.\n"
     ]
    }
   ],
   "source": [
    "# Porcentagem por classes de sobreviventes.\n",
    "print('Porcentagem por classes de sobreviventes.')\n",
    "for n in range(1,4):\n",
    "    print('Porcentagem da {}(a) classe: {:.2%}.'.format(n, df_total_survived.loc[n]/df_total_survived.loc['total']))\n",
    "\n",
    "print('Total de sobreviventes: {}.'.format(df_total_survived.loc['total']))"
   ]
  },
  {
   "cell_type": "code",
   "execution_count": 41,
   "metadata": {},
   "outputs": [
    {
     "data": {
      "text/plain": [
       "survived             2\n",
       "passenger_class      3\n",
       "name               891\n",
       "sex                  2\n",
       "age                 88\n",
       "sibsp                7\n",
       "parch                7\n",
       "ticket             681\n",
       "fare               248\n",
       "cabin              147\n",
       "embarked             3\n",
       "categoria_idade      4\n",
       "dtype: int64"
      ]
     },
     "execution_count": 41,
     "metadata": {},
     "output_type": "execute_result"
    }
   ],
   "source": [
    "df_titanic_novo.nunique()"
   ]
  },
  {
   "cell_type": "code",
   "execution_count": 43,
   "metadata": {},
   "outputs": [
    {
     "data": {
      "text/plain": [
       "count    891.000000\n",
       "mean      32.204208\n",
       "std       49.693429\n",
       "min        0.000000\n",
       "25%        7.910400\n",
       "50%       14.454200\n",
       "75%       31.000000\n",
       "max      512.329200\n",
       "Name: fare, dtype: float64"
      ]
     },
     "execution_count": 43,
     "metadata": {},
     "output_type": "execute_result"
    }
   ],
   "source": [
    "df_titanic_novo['fare'].describe()"
   ]
  },
  {
   "cell_type": "code",
   "execution_count": 45,
   "metadata": {},
   "outputs": [
    {
     "data": {
      "text/plain": [
       "count    876.000000\n",
       "mean      32.755650\n",
       "std       49.936826\n",
       "min        4.012500\n",
       "25%        7.925000\n",
       "50%       14.500000\n",
       "75%       31.275000\n",
       "max      512.329200\n",
       "Name: fare, dtype: float64"
      ]
     },
     "execution_count": 45,
     "metadata": {},
     "output_type": "execute_result"
    }
   ],
   "source": [
    "temp = df_titanic_novo.query('fare != 0')\n",
    "temp['fare'].describe()"
   ]
  },
  {
   "cell_type": "code",
   "execution_count": 437,
   "metadata": {},
   "outputs": [
    {
     "data": {
      "text/plain": [
       "count    681.000000\n",
       "mean       1.308370\n",
       "std        0.792652\n",
       "min        1.000000\n",
       "25%        1.000000\n",
       "50%        1.000000\n",
       "75%        1.000000\n",
       "max        7.000000\n",
       "Name: name, dtype: float64"
      ]
     },
     "execution_count": 437,
     "metadata": {},
     "output_type": "execute_result"
    }
   ],
   "source": [
    "# Mostra os grupos de passageiros que compraram passagens juntos e que ficaram em cabines iguais.\n",
    "# df_titanic_novo.groupby(['ticket', 'cabin', 'fare']).apply(lambda x: x.head()).head(20)\n",
    "df_group = df_titanic_novo.groupby(['ticket', 'passenger_class'])\n",
    "# df_group['fare'].mean()\n",
    "df_group.apply(lambda x: x.head()).head(20)\n",
    "\n",
    "df_group['name'].count().describe()\n",
    "# df_group.mean()['fare']"
   ]
  },
  {
   "cell_type": "code",
   "execution_count": 439,
   "metadata": {},
   "outputs": [
    {
     "data": {
      "text/html": [
       "<div>\n",
       "<style scoped>\n",
       "    .dataframe tbody tr th:only-of-type {\n",
       "        vertical-align: middle;\n",
       "    }\n",
       "\n",
       "    .dataframe tbody tr th {\n",
       "        vertical-align: top;\n",
       "    }\n",
       "\n",
       "    .dataframe thead th {\n",
       "        text-align: right;\n",
       "    }\n",
       "</style>\n",
       "<table border=\"1\" class=\"dataframe\">\n",
       "  <thead>\n",
       "    <tr style=\"text-align: right;\">\n",
       "      <th></th>\n",
       "      <th>survived</th>\n",
       "      <th>passenger_class</th>\n",
       "      <th>name</th>\n",
       "      <th>sex</th>\n",
       "      <th>age</th>\n",
       "      <th>sibsp</th>\n",
       "      <th>parch</th>\n",
       "      <th>ticket</th>\n",
       "      <th>fare</th>\n",
       "      <th>cabin</th>\n",
       "      <th>embarked</th>\n",
       "      <th>categoria_idade</th>\n",
       "      <th>freq</th>\n",
       "    </tr>\n",
       "  </thead>\n",
       "  <tbody>\n",
       "    <tr>\n",
       "      <th>380</th>\n",
       "      <td>1</td>\n",
       "      <td>1</td>\n",
       "      <td>Bidois, Miss. Rosalie</td>\n",
       "      <td>female</td>\n",
       "      <td>42.0</td>\n",
       "      <td>0</td>\n",
       "      <td>0</td>\n",
       "      <td>PC 17757</td>\n",
       "      <td>227.525</td>\n",
       "      <td>NaN</td>\n",
       "      <td>C</td>\n",
       "      <td>Adulto</td>\n",
       "      <td>4</td>\n",
       "    </tr>\n",
       "    <tr>\n",
       "      <th>557</th>\n",
       "      <td>0</td>\n",
       "      <td>1</td>\n",
       "      <td>Robbins, Mr. Victor</td>\n",
       "      <td>male</td>\n",
       "      <td>NaN</td>\n",
       "      <td>0</td>\n",
       "      <td>0</td>\n",
       "      <td>PC 17757</td>\n",
       "      <td>227.525</td>\n",
       "      <td>NaN</td>\n",
       "      <td>C</td>\n",
       "      <td>Desconhecido</td>\n",
       "      <td>4</td>\n",
       "    </tr>\n",
       "    <tr>\n",
       "      <th>700</th>\n",
       "      <td>1</td>\n",
       "      <td>1</td>\n",
       "      <td>Astor, Mrs. John Jacob (Madeleine Talmadge Force)</td>\n",
       "      <td>female</td>\n",
       "      <td>18.0</td>\n",
       "      <td>1</td>\n",
       "      <td>0</td>\n",
       "      <td>PC 17757</td>\n",
       "      <td>227.525</td>\n",
       "      <td>C62 C64</td>\n",
       "      <td>C</td>\n",
       "      <td>Adolescente</td>\n",
       "      <td>4</td>\n",
       "    </tr>\n",
       "    <tr>\n",
       "      <th>716</th>\n",
       "      <td>1</td>\n",
       "      <td>1</td>\n",
       "      <td>Endres, Miss. Caroline Louise</td>\n",
       "      <td>female</td>\n",
       "      <td>38.0</td>\n",
       "      <td>0</td>\n",
       "      <td>0</td>\n",
       "      <td>PC 17757</td>\n",
       "      <td>227.525</td>\n",
       "      <td>C45</td>\n",
       "      <td>C</td>\n",
       "      <td>Adulto</td>\n",
       "      <td>4</td>\n",
       "    </tr>\n",
       "    <tr>\n",
       "      <th>27</th>\n",
       "      <td>0</td>\n",
       "      <td>1</td>\n",
       "      <td>Fortune, Mr. Charles Alexander</td>\n",
       "      <td>male</td>\n",
       "      <td>19.0</td>\n",
       "      <td>3</td>\n",
       "      <td>2</td>\n",
       "      <td>19950</td>\n",
       "      <td>263.000</td>\n",
       "      <td>C23 C25 C27</td>\n",
       "      <td>S</td>\n",
       "      <td>Adulto</td>\n",
       "      <td>4</td>\n",
       "    </tr>\n",
       "  </tbody>\n",
       "</table>\n",
       "</div>"
      ],
      "text/plain": [
       "     survived  passenger_class  \\\n",
       "380         1                1   \n",
       "557         0                1   \n",
       "700         1                1   \n",
       "716         1                1   \n",
       "27          0                1   \n",
       "\n",
       "                                                  name     sex   age  sibsp  \\\n",
       "380                              Bidois, Miss. Rosalie  female  42.0      0   \n",
       "557                                Robbins, Mr. Victor    male   NaN      0   \n",
       "700  Astor, Mrs. John Jacob (Madeleine Talmadge Force)  female  18.0      1   \n",
       "716                      Endres, Miss. Caroline Louise  female  38.0      0   \n",
       "27                      Fortune, Mr. Charles Alexander    male  19.0      3   \n",
       "\n",
       "     parch    ticket     fare        cabin embarked categoria_idade  freq  \n",
       "380      0  PC 17757  227.525          NaN        C          Adulto     4  \n",
       "557      0  PC 17757  227.525          NaN        C    Desconhecido     4  \n",
       "700      0  PC 17757  227.525      C62 C64        C     Adolescente     4  \n",
       "716      0  PC 17757  227.525          C45        C          Adulto     4  \n",
       "27       2     19950  263.000  C23 C25 C27        S          Adulto     4  "
      ]
     },
     "execution_count": 439,
     "metadata": {},
     "output_type": "execute_result"
    }
   ],
   "source": [
    "# Passagens com maior número de passageiros da primeira classe.\n",
    "df_titanic_novo['freq'] = df_titanic_novo.groupby('ticket')['ticket'].transform('count')\n",
    "df_titanic_novo.sort_values(by=['freq', 'ticket'], ascending=False).query('passenger_class == 1').head()"
   ]
  },
  {
   "cell_type": "code",
   "execution_count": 440,
   "metadata": {},
   "outputs": [
    {
     "data": {
      "text/html": [
       "<div>\n",
       "<style scoped>\n",
       "    .dataframe tbody tr th:only-of-type {\n",
       "        vertical-align: middle;\n",
       "    }\n",
       "\n",
       "    .dataframe tbody tr th {\n",
       "        vertical-align: top;\n",
       "    }\n",
       "\n",
       "    .dataframe thead th {\n",
       "        text-align: right;\n",
       "    }\n",
       "</style>\n",
       "<table border=\"1\" class=\"dataframe\">\n",
       "  <thead>\n",
       "    <tr style=\"text-align: right;\">\n",
       "      <th></th>\n",
       "      <th>survived</th>\n",
       "      <th>passenger_class</th>\n",
       "      <th>name</th>\n",
       "      <th>sex</th>\n",
       "      <th>age</th>\n",
       "      <th>sibsp</th>\n",
       "      <th>parch</th>\n",
       "      <th>ticket</th>\n",
       "      <th>fare</th>\n",
       "      <th>cabin</th>\n",
       "      <th>embarked</th>\n",
       "      <th>categoria_idade</th>\n",
       "      <th>freq</th>\n",
       "    </tr>\n",
       "  </thead>\n",
       "  <tbody>\n",
       "    <tr>\n",
       "      <th>72</th>\n",
       "      <td>0</td>\n",
       "      <td>2</td>\n",
       "      <td>Hood, Mr. Ambrose Jr</td>\n",
       "      <td>male</td>\n",
       "      <td>21.0</td>\n",
       "      <td>0</td>\n",
       "      <td>0</td>\n",
       "      <td>S.O.C. 14879</td>\n",
       "      <td>73.5</td>\n",
       "      <td>NaN</td>\n",
       "      <td>S</td>\n",
       "      <td>Adulto</td>\n",
       "      <td>5</td>\n",
       "    </tr>\n",
       "    <tr>\n",
       "      <th>120</th>\n",
       "      <td>0</td>\n",
       "      <td>2</td>\n",
       "      <td>Hickman, Mr. Stanley George</td>\n",
       "      <td>male</td>\n",
       "      <td>21.0</td>\n",
       "      <td>2</td>\n",
       "      <td>0</td>\n",
       "      <td>S.O.C. 14879</td>\n",
       "      <td>73.5</td>\n",
       "      <td>NaN</td>\n",
       "      <td>S</td>\n",
       "      <td>Adulto</td>\n",
       "      <td>5</td>\n",
       "    </tr>\n",
       "    <tr>\n",
       "      <th>385</th>\n",
       "      <td>0</td>\n",
       "      <td>2</td>\n",
       "      <td>Davies, Mr. Charles Henry</td>\n",
       "      <td>male</td>\n",
       "      <td>18.0</td>\n",
       "      <td>0</td>\n",
       "      <td>0</td>\n",
       "      <td>S.O.C. 14879</td>\n",
       "      <td>73.5</td>\n",
       "      <td>NaN</td>\n",
       "      <td>S</td>\n",
       "      <td>Adolescente</td>\n",
       "      <td>5</td>\n",
       "    </tr>\n",
       "    <tr>\n",
       "      <th>655</th>\n",
       "      <td>0</td>\n",
       "      <td>2</td>\n",
       "      <td>Hickman, Mr. Leonard Mark</td>\n",
       "      <td>male</td>\n",
       "      <td>24.0</td>\n",
       "      <td>2</td>\n",
       "      <td>0</td>\n",
       "      <td>S.O.C. 14879</td>\n",
       "      <td>73.5</td>\n",
       "      <td>NaN</td>\n",
       "      <td>S</td>\n",
       "      <td>Adulto</td>\n",
       "      <td>5</td>\n",
       "    </tr>\n",
       "    <tr>\n",
       "      <th>665</th>\n",
       "      <td>0</td>\n",
       "      <td>2</td>\n",
       "      <td>Hickman, Mr. Lewis</td>\n",
       "      <td>male</td>\n",
       "      <td>32.0</td>\n",
       "      <td>2</td>\n",
       "      <td>0</td>\n",
       "      <td>S.O.C. 14879</td>\n",
       "      <td>73.5</td>\n",
       "      <td>NaN</td>\n",
       "      <td>S</td>\n",
       "      <td>Adulto</td>\n",
       "      <td>5</td>\n",
       "    </tr>\n",
       "  </tbody>\n",
       "</table>\n",
       "</div>"
      ],
      "text/plain": [
       "     survived  passenger_class                         name   sex   age  \\\n",
       "72          0                2         Hood, Mr. Ambrose Jr  male  21.0   \n",
       "120         0                2  Hickman, Mr. Stanley George  male  21.0   \n",
       "385         0                2    Davies, Mr. Charles Henry  male  18.0   \n",
       "655         0                2    Hickman, Mr. Leonard Mark  male  24.0   \n",
       "665         0                2           Hickman, Mr. Lewis  male  32.0   \n",
       "\n",
       "     sibsp  parch        ticket  fare cabin embarked categoria_idade  freq  \n",
       "72       0      0  S.O.C. 14879  73.5   NaN        S          Adulto     5  \n",
       "120      2      0  S.O.C. 14879  73.5   NaN        S          Adulto     5  \n",
       "385      0      0  S.O.C. 14879  73.5   NaN        S     Adolescente     5  \n",
       "655      2      0  S.O.C. 14879  73.5   NaN        S          Adulto     5  \n",
       "665      2      0  S.O.C. 14879  73.5   NaN        S          Adulto     5  "
      ]
     },
     "execution_count": 440,
     "metadata": {},
     "output_type": "execute_result"
    }
   ],
   "source": [
    "# Passagens com maior número de passageiros da segunda classe.\n",
    "df_titanic_novo['freq'] = df_titanic_novo.groupby('ticket')['ticket'].transform('count')\n",
    "df_titanic_novo.sort_values(by=['freq', 'ticket'], ascending=False).query('passenger_class == 2').head()"
   ]
  },
  {
   "cell_type": "code",
   "execution_count": 441,
   "metadata": {},
   "outputs": [
    {
     "data": {
      "text/html": [
       "<div>\n",
       "<style scoped>\n",
       "    .dataframe tbody tr th:only-of-type {\n",
       "        vertical-align: middle;\n",
       "    }\n",
       "\n",
       "    .dataframe tbody tr th {\n",
       "        vertical-align: top;\n",
       "    }\n",
       "\n",
       "    .dataframe thead th {\n",
       "        text-align: right;\n",
       "    }\n",
       "</style>\n",
       "<table border=\"1\" class=\"dataframe\">\n",
       "  <thead>\n",
       "    <tr style=\"text-align: right;\">\n",
       "      <th></th>\n",
       "      <th>survived</th>\n",
       "      <th>passenger_class</th>\n",
       "      <th>name</th>\n",
       "      <th>sex</th>\n",
       "      <th>age</th>\n",
       "      <th>sibsp</th>\n",
       "      <th>parch</th>\n",
       "      <th>ticket</th>\n",
       "      <th>fare</th>\n",
       "      <th>cabin</th>\n",
       "      <th>embarked</th>\n",
       "      <th>categoria_idade</th>\n",
       "      <th>freq</th>\n",
       "    </tr>\n",
       "  </thead>\n",
       "  <tbody>\n",
       "    <tr>\n",
       "      <th>159</th>\n",
       "      <td>0</td>\n",
       "      <td>3</td>\n",
       "      <td>Sage, Master. Thomas Henry</td>\n",
       "      <td>male</td>\n",
       "      <td>NaN</td>\n",
       "      <td>8</td>\n",
       "      <td>2</td>\n",
       "      <td>CA. 2343</td>\n",
       "      <td>69.55</td>\n",
       "      <td>NaN</td>\n",
       "      <td>S</td>\n",
       "      <td>Desconhecido</td>\n",
       "      <td>7</td>\n",
       "    </tr>\n",
       "    <tr>\n",
       "      <th>180</th>\n",
       "      <td>0</td>\n",
       "      <td>3</td>\n",
       "      <td>Sage, Miss. Constance Gladys</td>\n",
       "      <td>female</td>\n",
       "      <td>NaN</td>\n",
       "      <td>8</td>\n",
       "      <td>2</td>\n",
       "      <td>CA. 2343</td>\n",
       "      <td>69.55</td>\n",
       "      <td>NaN</td>\n",
       "      <td>S</td>\n",
       "      <td>Desconhecido</td>\n",
       "      <td>7</td>\n",
       "    </tr>\n",
       "    <tr>\n",
       "      <th>201</th>\n",
       "      <td>0</td>\n",
       "      <td>3</td>\n",
       "      <td>Sage, Mr. Frederick</td>\n",
       "      <td>male</td>\n",
       "      <td>NaN</td>\n",
       "      <td>8</td>\n",
       "      <td>2</td>\n",
       "      <td>CA. 2343</td>\n",
       "      <td>69.55</td>\n",
       "      <td>NaN</td>\n",
       "      <td>S</td>\n",
       "      <td>Desconhecido</td>\n",
       "      <td>7</td>\n",
       "    </tr>\n",
       "    <tr>\n",
       "      <th>324</th>\n",
       "      <td>0</td>\n",
       "      <td>3</td>\n",
       "      <td>Sage, Mr. George John Jr</td>\n",
       "      <td>male</td>\n",
       "      <td>NaN</td>\n",
       "      <td>8</td>\n",
       "      <td>2</td>\n",
       "      <td>CA. 2343</td>\n",
       "      <td>69.55</td>\n",
       "      <td>NaN</td>\n",
       "      <td>S</td>\n",
       "      <td>Desconhecido</td>\n",
       "      <td>7</td>\n",
       "    </tr>\n",
       "    <tr>\n",
       "      <th>792</th>\n",
       "      <td>0</td>\n",
       "      <td>3</td>\n",
       "      <td>Sage, Miss. Stella Anna</td>\n",
       "      <td>female</td>\n",
       "      <td>NaN</td>\n",
       "      <td>8</td>\n",
       "      <td>2</td>\n",
       "      <td>CA. 2343</td>\n",
       "      <td>69.55</td>\n",
       "      <td>NaN</td>\n",
       "      <td>S</td>\n",
       "      <td>Desconhecido</td>\n",
       "      <td>7</td>\n",
       "    </tr>\n",
       "  </tbody>\n",
       "</table>\n",
       "</div>"
      ],
      "text/plain": [
       "     survived  passenger_class                          name     sex  age  \\\n",
       "159         0                3    Sage, Master. Thomas Henry    male  NaN   \n",
       "180         0                3  Sage, Miss. Constance Gladys  female  NaN   \n",
       "201         0                3           Sage, Mr. Frederick    male  NaN   \n",
       "324         0                3      Sage, Mr. George John Jr    male  NaN   \n",
       "792         0                3       Sage, Miss. Stella Anna  female  NaN   \n",
       "\n",
       "     sibsp  parch    ticket   fare cabin embarked categoria_idade  freq  \n",
       "159      8      2  CA. 2343  69.55   NaN        S    Desconhecido     7  \n",
       "180      8      2  CA. 2343  69.55   NaN        S    Desconhecido     7  \n",
       "201      8      2  CA. 2343  69.55   NaN        S    Desconhecido     7  \n",
       "324      8      2  CA. 2343  69.55   NaN        S    Desconhecido     7  \n",
       "792      8      2  CA. 2343  69.55   NaN        S    Desconhecido     7  "
      ]
     },
     "execution_count": 441,
     "metadata": {},
     "output_type": "execute_result"
    }
   ],
   "source": [
    "# Passagens com maior número de passageiros da primeira classe.\n",
    "df_titanic_novo['freq'] = df_titanic_novo.groupby('ticket')['ticket'].transform('count')\n",
    "df_titanic_novo.sort_values(by=['freq', 'ticket'], ascending=False).query('passenger_class == 3').head()"
   ]
  },
  {
   "cell_type": "code",
   "execution_count": 108,
   "metadata": {},
   "outputs": [
    {
     "data": {
      "text/html": [
       "<div>\n",
       "<style scoped>\n",
       "    .dataframe tbody tr th:only-of-type {\n",
       "        vertical-align: middle;\n",
       "    }\n",
       "\n",
       "    .dataframe tbody tr th {\n",
       "        vertical-align: top;\n",
       "    }\n",
       "\n",
       "    .dataframe thead th {\n",
       "        text-align: right;\n",
       "    }\n",
       "</style>\n",
       "<table border=\"1\" class=\"dataframe\">\n",
       "  <thead>\n",
       "    <tr style=\"text-align: right;\">\n",
       "      <th></th>\n",
       "      <th>survived</th>\n",
       "      <th>age</th>\n",
       "      <th>sibsp</th>\n",
       "      <th>parch</th>\n",
       "      <th>fare</th>\n",
       "    </tr>\n",
       "  </thead>\n",
       "  <tbody>\n",
       "    <tr>\n",
       "      <th>count</th>\n",
       "      <td>133.000000</td>\n",
       "      <td>116.000000</td>\n",
       "      <td>133.000000</td>\n",
       "      <td>133.000000</td>\n",
       "      <td>133.000000</td>\n",
       "    </tr>\n",
       "    <tr>\n",
       "      <th>mean</th>\n",
       "      <td>0.593358</td>\n",
       "      <td>40.925833</td>\n",
       "      <td>0.307644</td>\n",
       "      <td>0.215539</td>\n",
       "      <td>54.632393</td>\n",
       "    </tr>\n",
       "    <tr>\n",
       "      <th>std</th>\n",
       "      <td>0.458625</td>\n",
       "      <td>13.907157</td>\n",
       "      <td>0.464681</td>\n",
       "      <td>0.492273</td>\n",
       "      <td>32.073502</td>\n",
       "    </tr>\n",
       "    <tr>\n",
       "      <th>min</th>\n",
       "      <td>0.000000</td>\n",
       "      <td>4.000000</td>\n",
       "      <td>0.000000</td>\n",
       "      <td>0.000000</td>\n",
       "      <td>25.587500</td>\n",
       "    </tr>\n",
       "    <tr>\n",
       "      <th>25%</th>\n",
       "      <td>0.000000</td>\n",
       "      <td>30.750000</td>\n",
       "      <td>0.000000</td>\n",
       "      <td>0.000000</td>\n",
       "      <td>29.700000</td>\n",
       "    </tr>\n",
       "    <tr>\n",
       "      <th>50%</th>\n",
       "      <td>1.000000</td>\n",
       "      <td>40.000000</td>\n",
       "      <td>0.000000</td>\n",
       "      <td>0.000000</td>\n",
       "      <td>49.500000</td>\n",
       "    </tr>\n",
       "    <tr>\n",
       "      <th>75%</th>\n",
       "      <td>1.000000</td>\n",
       "      <td>50.000000</td>\n",
       "      <td>0.666667</td>\n",
       "      <td>0.000000</td>\n",
       "      <td>76.291700</td>\n",
       "    </tr>\n",
       "    <tr>\n",
       "      <th>max</th>\n",
       "      <td>1.000000</td>\n",
       "      <td>80.000000</td>\n",
       "      <td>2.000000</td>\n",
       "      <td>2.000000</td>\n",
       "      <td>164.866700</td>\n",
       "    </tr>\n",
       "  </tbody>\n",
       "</table>\n",
       "</div>"
      ],
      "text/plain": [
       "         survived         age       sibsp       parch        fare\n",
       "count  133.000000  116.000000  133.000000  133.000000  133.000000\n",
       "mean     0.593358   40.925833    0.307644    0.215539   54.632393\n",
       "std      0.458625   13.907157    0.464681    0.492273   32.073502\n",
       "min      0.000000    4.000000    0.000000    0.000000   25.587500\n",
       "25%      0.000000   30.750000    0.000000    0.000000   29.700000\n",
       "50%      1.000000   40.000000    0.000000    0.000000   49.500000\n",
       "75%      1.000000   50.000000    0.666667    0.000000   76.291700\n",
       "max      1.000000   80.000000    2.000000    2.000000  164.866700"
      ]
     },
     "execution_count": 108,
     "metadata": {},
     "output_type": "execute_result"
    }
   ],
   "source": [
    "# Descritiva da primeira classe.\n",
    "df_group_first_class = df_titanic_novo.query('passenger_class == 1 & 20 < fare < 200').groupby(['ticket','passenger_class'])\n",
    "df_group_first_class.mean().describe()"
   ]
  },
  {
   "cell_type": "code",
   "execution_count": 356,
   "metadata": {},
   "outputs": [
    {
     "data": {
      "text/html": [
       "<div>\n",
       "<style scoped>\n",
       "    .dataframe tbody tr th:only-of-type {\n",
       "        vertical-align: middle;\n",
       "    }\n",
       "\n",
       "    .dataframe tbody tr th {\n",
       "        vertical-align: top;\n",
       "    }\n",
       "\n",
       "    .dataframe thead th {\n",
       "        text-align: right;\n",
       "    }\n",
       "</style>\n",
       "<table border=\"1\" class=\"dataframe\">\n",
       "  <thead>\n",
       "    <tr style=\"text-align: right;\">\n",
       "      <th></th>\n",
       "      <th>survived</th>\n",
       "      <th>age</th>\n",
       "      <th>sibsp</th>\n",
       "      <th>parch</th>\n",
       "      <th>fare</th>\n",
       "    </tr>\n",
       "  </thead>\n",
       "  <tbody>\n",
       "    <tr>\n",
       "      <th>count</th>\n",
       "      <td>136.000000</td>\n",
       "      <td>132.000000</td>\n",
       "      <td>136.000000</td>\n",
       "      <td>136.000000</td>\n",
       "      <td>136.000000</td>\n",
       "    </tr>\n",
       "    <tr>\n",
       "      <th>mean</th>\n",
       "      <td>0.466912</td>\n",
       "      <td>31.345783</td>\n",
       "      <td>0.309069</td>\n",
       "      <td>0.256127</td>\n",
       "      <td>18.024693</td>\n",
       "    </tr>\n",
       "    <tr>\n",
       "      <th>std</th>\n",
       "      <td>0.473504</td>\n",
       "      <td>12.123868</td>\n",
       "      <td>0.507791</td>\n",
       "      <td>0.576604</td>\n",
       "      <td>9.810122</td>\n",
       "    </tr>\n",
       "    <tr>\n",
       "      <th>min</th>\n",
       "      <td>0.000000</td>\n",
       "      <td>2.500000</td>\n",
       "      <td>0.000000</td>\n",
       "      <td>0.000000</td>\n",
       "      <td>10.500000</td>\n",
       "    </tr>\n",
       "    <tr>\n",
       "      <th>25%</th>\n",
       "      <td>0.000000</td>\n",
       "      <td>24.000000</td>\n",
       "      <td>0.000000</td>\n",
       "      <td>0.000000</td>\n",
       "      <td>12.818750</td>\n",
       "    </tr>\n",
       "    <tr>\n",
       "      <th>50%</th>\n",
       "      <td>0.500000</td>\n",
       "      <td>29.000000</td>\n",
       "      <td>0.000000</td>\n",
       "      <td>0.000000</td>\n",
       "      <td>13.000000</td>\n",
       "    </tr>\n",
       "    <tr>\n",
       "      <th>75%</th>\n",
       "      <td>1.000000</td>\n",
       "      <td>36.125000</td>\n",
       "      <td>0.750000</td>\n",
       "      <td>0.000000</td>\n",
       "      <td>26.000000</td>\n",
       "    </tr>\n",
       "    <tr>\n",
       "      <th>max</th>\n",
       "      <td>1.000000</td>\n",
       "      <td>70.000000</td>\n",
       "      <td>2.000000</td>\n",
       "      <td>3.000000</td>\n",
       "      <td>73.500000</td>\n",
       "    </tr>\n",
       "  </tbody>\n",
       "</table>\n",
       "</div>"
      ],
      "text/plain": [
       "         survived         age       sibsp       parch        fare\n",
       "count  136.000000  132.000000  136.000000  136.000000  136.000000\n",
       "mean     0.466912   31.345783    0.309069    0.256127   18.024693\n",
       "std      0.473504   12.123868    0.507791    0.576604    9.810122\n",
       "min      0.000000    2.500000    0.000000    0.000000   10.500000\n",
       "25%      0.000000   24.000000    0.000000    0.000000   12.818750\n",
       "50%      0.500000   29.000000    0.000000    0.000000   13.000000\n",
       "75%      1.000000   36.125000    0.750000    0.000000   26.000000\n",
       "max      1.000000   70.000000    2.000000    3.000000   73.500000"
      ]
     },
     "execution_count": 356,
     "metadata": {},
     "output_type": "execute_result"
    }
   ],
   "source": [
    "# Descritiva da segunda classe.\n",
    "df_group_first_class = df_titanic_novo.query('passenger_class == 2 & 5 < fare < 100').groupby(['ticket','passenger_class'])\n",
    "df_group_first_class.mean().describe()"
   ]
  },
  {
   "cell_type": "code",
   "execution_count": 357,
   "metadata": {},
   "outputs": [
    {
     "data": {
      "text/html": [
       "<div>\n",
       "<style scoped>\n",
       "    .dataframe tbody tr th:only-of-type {\n",
       "        vertical-align: middle;\n",
       "    }\n",
       "\n",
       "    .dataframe tbody tr th {\n",
       "        vertical-align: top;\n",
       "    }\n",
       "\n",
       "    .dataframe thead th {\n",
       "        text-align: right;\n",
       "    }\n",
       "</style>\n",
       "<table border=\"1\" class=\"dataframe\">\n",
       "  <thead>\n",
       "    <tr style=\"text-align: right;\">\n",
       "      <th></th>\n",
       "      <th>survived</th>\n",
       "      <th>age</th>\n",
       "      <th>sibsp</th>\n",
       "      <th>parch</th>\n",
       "      <th>fare</th>\n",
       "    </tr>\n",
       "  </thead>\n",
       "  <tbody>\n",
       "    <tr>\n",
       "      <th>count</th>\n",
       "      <td>393.000000</td>\n",
       "      <td>282.000000</td>\n",
       "      <td>393.000000</td>\n",
       "      <td>393.000000</td>\n",
       "      <td>393.000000</td>\n",
       "    </tr>\n",
       "    <tr>\n",
       "      <th>mean</th>\n",
       "      <td>0.230189</td>\n",
       "      <td>26.745009</td>\n",
       "      <td>0.271017</td>\n",
       "      <td>0.167067</td>\n",
       "      <td>10.102177</td>\n",
       "    </tr>\n",
       "    <tr>\n",
       "      <th>std</th>\n",
       "      <td>0.412819</td>\n",
       "      <td>11.018428</td>\n",
       "      <td>0.742287</td>\n",
       "      <td>0.512951</td>\n",
       "      <td>6.315086</td>\n",
       "    </tr>\n",
       "    <tr>\n",
       "      <th>min</th>\n",
       "      <td>0.000000</td>\n",
       "      <td>0.420000</td>\n",
       "      <td>0.000000</td>\n",
       "      <td>0.000000</td>\n",
       "      <td>4.012500</td>\n",
       "    </tr>\n",
       "    <tr>\n",
       "      <th>25%</th>\n",
       "      <td>0.000000</td>\n",
       "      <td>20.000000</td>\n",
       "      <td>0.000000</td>\n",
       "      <td>0.000000</td>\n",
       "      <td>7.750000</td>\n",
       "    </tr>\n",
       "    <tr>\n",
       "      <th>50%</th>\n",
       "      <td>0.000000</td>\n",
       "      <td>25.000000</td>\n",
       "      <td>0.000000</td>\n",
       "      <td>0.000000</td>\n",
       "      <td>7.895800</td>\n",
       "    </tr>\n",
       "    <tr>\n",
       "      <th>75%</th>\n",
       "      <td>0.000000</td>\n",
       "      <td>32.000000</td>\n",
       "      <td>0.000000</td>\n",
       "      <td>0.000000</td>\n",
       "      <td>8.850000</td>\n",
       "    </tr>\n",
       "    <tr>\n",
       "      <th>max</th>\n",
       "      <td>1.000000</td>\n",
       "      <td>74.000000</td>\n",
       "      <td>8.000000</td>\n",
       "      <td>2.857143</td>\n",
       "      <td>69.550000</td>\n",
       "    </tr>\n",
       "  </tbody>\n",
       "</table>\n",
       "</div>"
      ],
      "text/plain": [
       "         survived         age       sibsp       parch        fare\n",
       "count  393.000000  282.000000  393.000000  393.000000  393.000000\n",
       "mean     0.230189   26.745009    0.271017    0.167067   10.102177\n",
       "std      0.412819   11.018428    0.742287    0.512951    6.315086\n",
       "min      0.000000    0.420000    0.000000    0.000000    4.012500\n",
       "25%      0.000000   20.000000    0.000000    0.000000    7.750000\n",
       "50%      0.000000   25.000000    0.000000    0.000000    7.895800\n",
       "75%      0.000000   32.000000    0.000000    0.000000    8.850000\n",
       "max      1.000000   74.000000    8.000000    2.857143   69.550000"
      ]
     },
     "execution_count": 357,
     "metadata": {},
     "output_type": "execute_result"
    }
   ],
   "source": [
    "# Descritiva da terceira classe.\n",
    "df_group_first_class = df_titanic_novo.query('passenger_class == 3 & 4 < fare < 100').groupby(['ticket','passenger_class'])\n",
    "df_group_first_class.mean().describe()"
   ]
  },
  {
   "cell_type": "code",
   "execution_count": 120,
   "metadata": {},
   "outputs": [
    {
     "data": {
      "image/png": "[encoded data removed]",
      "text/plain": [
       "<Figure size 720x720 with 1 Axes>"
      ]
     },
     "metadata": {
      "needs_background": "light"
     },
     "output_type": "display_data"
    }
   ],
   "source": [
    "f, ax = plt.subplots(figsize=(10, 10))\n",
    "sns.boxplot(x=\"passenger_class\", y=\"fare\", data=df_titanic_novo)\n",
    "sns.despine(offset=5, trim=True);"
   ]
  },
  {
   "cell_type": "code",
   "execution_count": 179,
   "metadata": {},
   "outputs": [
    {
     "data": {
      "image/png": "[encoded data removed]",
      "text/plain": [
       "<Figure size 720x720 with 1 Axes>"
      ]
     },
     "metadata": {
      "needs_background": "light"
     },
     "output_type": "display_data"
    }
   ],
   "source": [
    "f, ax = plt.subplots(figsize=(10, 10))\n",
    "sns.boxplot(x=\"passenger_class\", y=\"fare\", data=df_titanic_novo.query('fare != 0'))\n",
    "sns.despine(offset=5, trim=True);"
   ]
  },
  {
   "cell_type": "code",
   "execution_count": 181,
   "metadata": {
    "scrolled": true
   },
   "outputs": [
    {
     "data": {
      "text/plain": [
       "count    491.000000\n",
       "mean      13.675550\n",
       "std       11.778142\n",
       "min        0.000000\n",
       "25%        7.750000\n",
       "50%        8.050000\n",
       "75%       15.500000\n",
       "max       69.550000\n",
       "Name: fare, dtype: float64"
      ]
     },
     "execution_count": 181,
     "metadata": {},
     "output_type": "execute_result"
    }
   ],
   "source": [
    "# Média\n",
    "df_titanic_novo.query('passenger_class == 3')['fare'].describe()"
   ]
  },
  {
   "cell_type": "code",
   "execution_count": null,
   "metadata": {},
   "outputs": [],
   "source": []
  }
 ],
 "metadata": {
  "kernelspec": {
   "display_name": "Python 3",
   "language": "python",
   "name": "python3"
  },
  "language_info": {
   "codemirror_mode": {
    "name": "ipython",
    "version": 3
   },
   "file_extension": ".py",
   "mimetype": "text/x-python",
   "name": "python",
   "nbconvert_exporter": "python",
   "pygments_lexer": "ipython3",
   "version": "3.6.5"
  }
 },
 "nbformat": 4,
 "nbformat_minor": 2
}
