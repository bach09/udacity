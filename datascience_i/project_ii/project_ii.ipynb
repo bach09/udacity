{
 "cells": [
  {
   "cell_type": "markdown",
   "metadata": {},
   "source": [
    "# 1. Projeto II - Fundamentos Data Science I"
   ]
  },
  {
   "cell_type": "markdown",
   "metadata": {},
   "source": [
    "## 1.1. Notas\n",
    "\n",
    "Todas as analises aqui presentes são resultados do dataset disponibilizado pelo curso de Fundamentos de Data Science I da Udacity. Essas analises são feitas de forma descritiva, apenas para estudo e não devem ser considerados como resultados fieis, para tal devem serem feitas outras analises e recomenda-se a utilização do método baseados em deep learning para definir corretamente os valores faltantes, que podem ser oriundos de erros humanos.\n",
    "\n",
    "- O dataset utilizado foi titanic-data-6.csv e sua versão editada titanic_edited.csv\n",
    "- As [perguntas feitas](#12-perguntas-feitas) estão na seção seguinte.\n",
    "- As informações sobre a limpeza dos dados estão na seção [1.3](#13-limpeza-dos-dados).\n",
    "- As análises e resultados finais se encontram na seção [1.4](#14-analises).\n",
    "- A seção [1.5](#15-conclusoes-e-resultados) contem os resultados e conclusões tiradas a partir do dataset.\n",
    "- A ultima seção [1.6](#16-links-uteis) contem links uteis de sites com informações que me ajudaram a completar o projeto."
   ]
  },
  {
   "cell_type": "markdown",
   "metadata": {},
   "source": [
    "## 1.2. Perguntas Feitas\n",
    "\n",
    "- De que forma é composto o banco de dados. Quais são as classes das variáveis? Existem informações faltantes?\n",
    "    + Para o tratamento dos dados e fazer a analise é necessário obter essas informações e saber a existem de valores discrepantes.\n",
    "\n",
    "- Quais são as medidas descritivas? Qual é a contagem total para os dois gêneros? Qual é a contagem dos gêneros por classe? Como são distribuídos os passageiros por classe e por categoria de idade? Qual é a idade média dos passageiros por classe? Existem diferenças entre as idades médias dos passageiros por categoria de idade para cada classe?  Existem diferenças entre as categorias de idade? Qual foi o preço médio pago por passagem, por classe e por porto de embarcação?\n",
    "    + Essas perguntas são importantes para analisar o perfil dos passageiros. Espera-se que existam diferenças significativas entre as classes, principalmente entre as classes extremas, primeira e terceira. É sabido que o Titanic foi de grande sucesso devido a propaganda luxuosa feita pela mídia e que essa fatídica viagem era a primeira com ele, devido a isso, espera-se que houvessem muitos passageiros da primeira classe embarcados.\n",
    "\n",
    "- Será que mulheres e crianças possuem a maior taxa de sobrevivência no naufrágio? Por classe, qual foi a diferença de frequência da categoria de idade entre os sobreviventes e qual a relação disso pelo número total de passageiros, por classe e geral?\n",
    "    + Como é esperado em acidentes, mulheres e crianças possuem preferencial no momento de fuga. Historicamente, sabe-se que muitos barcos de fuga foram lançados ao mar com pouquíssimas pessoas neles, portanto há interesse em saber se houve alguma diferença no número de sobreviventes entre cada classe e quantas pessoas sobreviveram no geral.\n",
    "\n",
    "- A quantidade de adulto em cada classe?\n",
    "    + Com a separação entre as três classes de passageiro e as categorias de idade, é possível investigar qual a probabilidade de se estar em qualquer uma das classes.\n",
    "\n",
    "- A frequência de pessoas de diversas idades no Titanic e sua classe.\n",
    "\n",
    "- A frequência de adultos em comparação as demais categorias de idade no barco.\n",
    "    + A possibilidade de que existem mais adultos que as demais categorias é clara, mas e sua frequência em comparação as demais.\n",
    "\n",
    "- Quais portos tem maior taxa de embarque e quais portos tem as menores taxas.\n",
    "    + Agrupando as passagens, seus valores e o local de embarque é possível se ter a media dos portos que tiveram maior e menor taxa de embarque, como também a contagem de passageiros que cada porto recebeu no embarque do Titanic.\n",
    "\n",
    "- Quais classes sociais tem os maiores números de pessoas por passagem.\n",
    "    + Um agrupamento das passagens e contagem de nomes que fazem parte pode permitir descobrir quais passagens possuem uma maior quantidade de pessoas."
   ]
  },
  {
   "cell_type": "markdown",
   "metadata": {},
   "source": [
    "## 1.3. Limpeza dos dados\n",
    "\n",
    "O programa responsável por fazer a limpeza dos dados é o arquivo `titanic_dataset_edit.py`, ele é responsável por fazer a maioria das modificações. Algumas modificações o programa não irá fazer pois foi necessário manter os dados no estado correto.\n",
    "\n",
    "- Primeiro o programa apresenta as colunas, seus tipos e quantidade de dados que cada coluna possui. Com isso podemos analisar colunas com valores faltantes e colunas que não irão ser uteis para o projeto;\n",
    "- Em seguida e verificada quantos itens únicos cada coluna tem;\n",
    "- As colunas `PassengerId` e `Cabin` são removidas. A primeira contém apenas um índice que já é gerado ao se carregar o csv, a segunda tem apenas o código de cada cabine onde o passageiro dormiu e não é útil para as analises;\n",
    "- A coluna `Pclass` é renomeada para `passenger_class` para melhorar a visualização, demais nomes são mantidos;\n",
    "- Todas as colunas são renomeadas para ficaram em letras em minúsculo e alterar a separação entre palavras para sublinhado. Em seguida os nomes são revisados para verificar se estão corretos;\n",
    "- É contado quantos valores de idade nulos existem por classe de passagem, é feito o calculo da média e aplicada a esses valores em branco para terem uma estimativa da idade;\n",
    "- É criada uma nova coluna com a categoria da idade de cada passageiro, sendo: `Crianças` para pessoas com menos de 12 anos, `Adolescente` para pessoas com mais de 12 anos e menos de 18 anos e `Adulto` para todos que tiverem idade maior que 18 anos;\n",
    "- Ao final é gerado um novo dataset contendo os registros editados.\n",
    "- No programa que gera as tabelas, uma nova coluna temporária foi adiciona representando a frequência de indivíduos em uma passagem."
   ]
  },
  {
   "cell_type": "code",
   "execution_count": 1,
   "metadata": {},
   "outputs": [],
   "source": [
    "import numpy as np\n",
    "import pandas as pd\n",
    "\n",
    "\"\"\" Transformação do Data Set do Titanic oferencido no curso de fundamentos de\n",
    "Data Science I (Udacity).\n",
    "\"\"\"\n",
    "df_titanic = pd.read_csv('titanic-data-6.csv')"
   ]
  },
  {
   "cell_type": "code",
   "execution_count": 2,
   "metadata": {},
   "outputs": [
    {
     "name": "stdout",
     "output_type": "stream",
     "text": [
      "   PassengerId  Survived  Pclass                     Name   Sex   Age  SibSp  \\\n",
      "0            1         0       3  Braund, Mr. Owen Harris  male  22.0      1   \n",
      "\n",
      "   Parch     Ticket  Fare Cabin Embarked  \n",
      "0      0  A/5 21171  7.25   NaN        S   \n",
      "\n",
      "<class 'pandas.core.frame.DataFrame'>\n",
      "RangeIndex: 891 entries, 0 to 890\n",
      "Data columns (total 12 columns):\n",
      "PassengerId    891 non-null int64\n",
      "Survived       891 non-null int64\n",
      "Pclass         891 non-null int64\n",
      "Name           891 non-null object\n",
      "Sex            891 non-null object\n",
      "Age            714 non-null float64\n",
      "SibSp          891 non-null int64\n",
      "Parch          891 non-null int64\n",
      "Ticket         891 non-null object\n",
      "Fare           891 non-null float64\n",
      "Cabin          204 non-null object\n",
      "Embarked       889 non-null object\n",
      "dtypes: float64(2), int64(5), object(5)\n",
      "memory usage: 83.6+ KB\n",
      "None \n",
      "\n",
      "PassengerId    891\n",
      "Survived         2\n",
      "Pclass           3\n",
      "Name           891\n",
      "Sex              2\n",
      "Age             88\n",
      "SibSp            7\n",
      "Parch            7\n",
      "Ticket         681\n",
      "Fare           248\n",
      "Cabin          147\n",
      "Embarked         3\n",
      "dtype: int64 \n",
      "\n"
     ]
    }
   ],
   "source": [
    "print(df_titanic.head(1), '\\n')\n",
    "# Tipos mantigos:\n",
    "# - Idade foi mantida como float devido a possibilidade de calcular a idade de\n",
    "# crianças com menos de 1 ano.\n",
    "print(df_titanic.info(), '\\n')\n",
    "print(df_titanic.nunique(), '\\n')"
   ]
  },
  {
   "cell_type": "code",
   "execution_count": 3,
   "metadata": {},
   "outputs": [
    {
     "data": {
      "text/plain": [
       "Index(['survived', 'passenger_class', 'name', 'sex', 'age', 'sibsp', 'parch',\n",
       "       'ticket', 'fare', 'embarked'],\n",
       "      dtype='object')"
      ]
     },
     "execution_count": 3,
     "metadata": {},
     "output_type": "execute_result"
    }
   ],
   "source": [
    "# Coluna de id de passageiros removida, pois é igual ao index.\n",
    "# Cabines não tem importancia, então estão sendo removidas.\n",
    "# Nome está sendo mantido apenas para estudo de parentesco, ao se agrupar os \n",
    "# tickets retornar\n",
    "# o nome das pessoas que possuem mesmo valor, assim é possível estudar se os \n",
    "# passageiros tinham\n",
    "# relações de parentesco ou possívelmente trabalho.\n",
    "df_titanic.drop(columns=['PassengerId', 'Cabin'], inplace=True)\n",
    "\n",
    "# Renomeia Pclass para Passenger Class.\n",
    "df_titanic.rename(columns={'Pclass':'Passenger Class'}, inplace=True)\n",
    "\n",
    "# Renomeia colunas.\n",
    "def rename_cols(df:pd.DataFrame, sep:str='_', lowcase:bool=True):\n",
    "    \"\"\" Renomeia as colunas em um DataFrame\n",
    "    Utilizando de um separador, renomeia as colunas de um DataFrame\n",
    "    \n",
    "    :param df: DataFrame para renomear as colunas.\n",
    "    :param sep: String com o caracter de separação das colunas.\n",
    "    :param lowcase: Booleano para definir se os nomes devem ficar em minusculo.\n",
    "    \"\"\"\n",
    "    if lowcase:\n",
    "        df.rename(\n",
    "            columns=lambda x: x.strip().lower().replace(' ', sep), inplace=True)\n",
    "    else:\n",
    "        df.rename(\n",
    "            columns=lambda x: x.strip().replace(' ', sep), inplace=True)\n",
    "\n",
    "\n",
    "rename_cols(df_titanic)\n",
    "# Verifica se colunas foram alteradas corretamente\n",
    "df_titanic.columns"
   ]
  },
  {
   "cell_type": "code",
   "execution_count": 4,
   "metadata": {},
   "outputs": [
    {
     "name": "stdout",
     "output_type": "stream",
     "text": [
      "Pessoas da primeira classe sem idade definida: 30\n",
      "Pessoas da segunda classe sem idade definida: 0\n",
      "Pessoas da terceira classe sem idade definida: 0\n"
     ]
    }
   ],
   "source": [
    "# Contagem de valores nulos na idade da primeira classe.\n",
    "print('Pessoas da primeira classe sem idade definida: {}'\n",
    "    .format(df_titanic.query(\n",
    "    'passenger_class == 1')['age'].isnull().sum()))\n",
    "df_mean_firstclass_age = df_titanic.query(\n",
    "    'passenger_class == 1')['age'].dropna().mean()\n",
    "# print(df_mean_firstclass_age)\n",
    "df_titanic['age'].fillna(df_mean_firstclass_age, inplace=True)\n",
    "# print(df_titanic.query('passenger_class == 1')['age'].isnull().sum())\n",
    "\n",
    "# Contagem de valores nulos na idade da segunda classe.\n",
    "print('Pessoas da segunda classe sem idade definida: {}'\n",
    "    .format(df_titanic.query(\n",
    "    'passenger_class == 2')['age'].isnull().sum()))\n",
    "# df_mean_second_age = df_titanic.query(\n",
    "# 'passenger_class == 2')['age'].dropna().mean()\n",
    "# print(df_mean_second_age)\n",
    "# df_titanic['age'].fillna(df_mean_second_age, inplace=True)\n",
    "# print(df_titanic.query('passenger_class == 2')['age'].isnull().sum())\n",
    "\n",
    "# Contagem de valores nulos na idade da terceira classe.\n",
    "print('Pessoas da terceira classe sem idade definida: {}'\n",
    "    .format(df_titanic.query(\n",
    "    'passenger_class == 3')['age'].isnull().sum()))\n",
    "# df_mean_third_age = df_titanic.query(\n",
    "# 'passenger_class == 3')['age'].dropna().mean()\n",
    "# print(df_mean_third_age)\n",
    "# df_titanic['age'].fillna(df_mean_third_age, inplace=True)\n",
    "# print(df_titanic.query('passenger_class == 3')['age'].isnull().sum())"
   ]
  },
  {
   "cell_type": "code",
   "execution_count": 5,
   "metadata": {},
   "outputs": [],
   "source": [
    "# Cria nova coluna com categoria de idade.\n",
    "# \n",
    "df_criancas = df_titanic.query('age <= 12').copy()\n",
    "df_adolescente = df_titanic.query('12 < age <= 18').copy()\n",
    "df_adulto = df_titanic.query('age > 18').copy()\n",
    "df_sem_idade = df_titanic[df_titanic['age'].isnull()].copy()\n",
    "\n",
    "idade_crianca = np.repeat('Criança', df_criancas.shape[0])\n",
    "idade_adolescente = np.repeat('Adolescente', df_adolescente.shape[0])\n",
    "idade_adulto = np.repeat('Adulto', df_adulto.shape[0])\n",
    "idade_desconhecido = np.repeat('Desconhecido', df_sem_idade.shape[0])\n",
    "\n",
    "df_criancas['age_category'] = idade_crianca\n",
    "df_adolescente['age_category'] = idade_adolescente\n",
    "df_adulto['age_category'] = idade_adulto\n",
    "df_sem_idade['age_category'] = idade_desconhecido\n",
    "\n",
    "df_titanic_edited = df_criancas.append(\n",
    "    [df_adolescente, df_adulto, df_sem_idade])\n",
    "df_titanic_edited.sort_index(inplace=True)"
   ]
  },
  {
   "cell_type": "code",
   "execution_count": 6,
   "metadata": {},
   "outputs": [],
   "source": [
    "# Local de embarque esta sendo removido os nulos para calculos, pois como são \n",
    "# letras, não é possível ter uma média.\n",
    "# Teria de ser utilizados um modelo de predição para avaliar um valor mais pró-\n",
    "# ximo do correto.\n",
    "\n",
    "df_titanic_edited.to_csv('titanic_edited.csv', index=False)"
   ]
  },
  {
   "cell_type": "markdown",
   "metadata": {},
   "source": [
    "## 1.4. Analises"
   ]
  },
  {
   "cell_type": "code",
   "execution_count": 7,
   "metadata": {},
   "outputs": [
    {
     "data": {
      "text/html": [
       "<div>\n",
       "<style scoped>\n",
       "    .dataframe tbody tr th:only-of-type {\n",
       "        vertical-align: middle;\n",
       "    }\n",
       "\n",
       "    .dataframe tbody tr th {\n",
       "        vertical-align: top;\n",
       "    }\n",
       "\n",
       "    .dataframe thead th {\n",
       "        text-align: right;\n",
       "    }\n",
       "</style>\n",
       "<table border=\"1\" class=\"dataframe\">\n",
       "  <thead>\n",
       "    <tr style=\"text-align: right;\">\n",
       "      <th></th>\n",
       "      <th>survived</th>\n",
       "      <th>passenger_class</th>\n",
       "      <th>name</th>\n",
       "      <th>sex</th>\n",
       "      <th>age</th>\n",
       "      <th>sibsp</th>\n",
       "      <th>parch</th>\n",
       "      <th>ticket</th>\n",
       "      <th>fare</th>\n",
       "      <th>embarked</th>\n",
       "      <th>age_category</th>\n",
       "    </tr>\n",
       "  </thead>\n",
       "  <tbody>\n",
       "    <tr>\n",
       "      <th>0</th>\n",
       "      <td>0</td>\n",
       "      <td>3</td>\n",
       "      <td>Braund, Mr. Owen Harris</td>\n",
       "      <td>male</td>\n",
       "      <td>22.0000</td>\n",
       "      <td>1</td>\n",
       "      <td>0</td>\n",
       "      <td>A/5 21171</td>\n",
       "      <td>7.2500</td>\n",
       "      <td>S</td>\n",
       "      <td>Adulto</td>\n",
       "    </tr>\n",
       "    <tr>\n",
       "      <th>1</th>\n",
       "      <td>1</td>\n",
       "      <td>1</td>\n",
       "      <td>Cumings, Mrs. John Bradley (Florence Briggs Th...</td>\n",
       "      <td>female</td>\n",
       "      <td>38.0000</td>\n",
       "      <td>1</td>\n",
       "      <td>0</td>\n",
       "      <td>PC 17599</td>\n",
       "      <td>71.2833</td>\n",
       "      <td>C</td>\n",
       "      <td>Adulto</td>\n",
       "    </tr>\n",
       "    <tr>\n",
       "      <th>2</th>\n",
       "      <td>1</td>\n",
       "      <td>3</td>\n",
       "      <td>Heikkinen, Miss. Laina</td>\n",
       "      <td>female</td>\n",
       "      <td>26.0000</td>\n",
       "      <td>0</td>\n",
       "      <td>0</td>\n",
       "      <td>STON/O2. 3101282</td>\n",
       "      <td>7.9250</td>\n",
       "      <td>S</td>\n",
       "      <td>Adulto</td>\n",
       "    </tr>\n",
       "    <tr>\n",
       "      <th>3</th>\n",
       "      <td>1</td>\n",
       "      <td>1</td>\n",
       "      <td>Futrelle, Mrs. Jacques Heath (Lily May Peel)</td>\n",
       "      <td>female</td>\n",
       "      <td>35.0000</td>\n",
       "      <td>1</td>\n",
       "      <td>0</td>\n",
       "      <td>113803</td>\n",
       "      <td>53.1000</td>\n",
       "      <td>S</td>\n",
       "      <td>Adulto</td>\n",
       "    </tr>\n",
       "    <tr>\n",
       "      <th>4</th>\n",
       "      <td>0</td>\n",
       "      <td>3</td>\n",
       "      <td>Allen, Mr. William Henry</td>\n",
       "      <td>male</td>\n",
       "      <td>35.0000</td>\n",
       "      <td>0</td>\n",
       "      <td>0</td>\n",
       "      <td>373450</td>\n",
       "      <td>8.0500</td>\n",
       "      <td>S</td>\n",
       "      <td>Adulto</td>\n",
       "    </tr>\n",
       "  </tbody>\n",
       "</table>\n",
       "</div>"
      ],
      "text/plain": [
       "   survived  passenger_class  \\\n",
       "0         0                3   \n",
       "1         1                1   \n",
       "2         1                3   \n",
       "3         1                1   \n",
       "4         0                3   \n",
       "\n",
       "                                                name     sex     age  sibsp  \\\n",
       "0                            Braund, Mr. Owen Harris    male 22.0000      1   \n",
       "1  Cumings, Mrs. John Bradley (Florence Briggs Th...  female 38.0000      1   \n",
       "2                             Heikkinen, Miss. Laina  female 26.0000      0   \n",
       "3       Futrelle, Mrs. Jacques Heath (Lily May Peel)  female 35.0000      1   \n",
       "4                           Allen, Mr. William Henry    male 35.0000      0   \n",
       "\n",
       "   parch            ticket    fare embarked age_category  \n",
       "0      0         A/5 21171  7.2500        S       Adulto  \n",
       "1      0          PC 17599 71.2833        C       Adulto  \n",
       "2      0  STON/O2. 3101282  7.9250        S       Adulto  \n",
       "3      0            113803 53.1000        S       Adulto  \n",
       "4      0            373450  8.0500        S       Adulto  "
      ]
     },
     "execution_count": 7,
     "metadata": {},
     "output_type": "execute_result"
    }
   ],
   "source": [
    "import numpy as np\n",
    "import pandas as pd\n",
    "import matplotlib.pyplot as plt\n",
    "import seaborn as sns\n",
    "\n",
    "% matplotlib inline\n",
    "\n",
    "\"\"\" Geração de tabelas e gráficos e outros elementos usando do Data Set do Titanic editado\n",
    "oferencido no curso de fundamentos de Data Science I (Udacity).\n",
    "\"\"\"\n",
    "\n",
    "# Algumas analises não foram feitas devido ao banco de dados ser cortado, onde\n",
    "# poderiamos verificar as informação familiares pelas colunas SibSp e Parch,\n",
    "# existem informações de pessoas com acompanhantes mas não existem estes acompa-\n",
    "# nhantes no banco de dados.\n",
    "\n",
    "# Formata os ponto flutuantes para quatro casas decimais.\n",
    "pd.set_option('display.float_format', '{:.4f}'.format)\n",
    "\n",
    "df_titanic = pd.read_csv('titanic_edited.csv')\n",
    "# Cabeçalho.\n",
    "df_titanic.head(5)"
   ]
  },
  {
   "cell_type": "code",
   "execution_count": 8,
   "metadata": {},
   "outputs": [
    {
     "name": "stdout",
     "output_type": "stream",
     "text": [
      "Colunas:  | passenger_class | name | sex | age | sibsp | parch | ticket | fare | embarked | age_category\n"
     ]
    }
   ],
   "source": [
    "# Nomes das colunas.\n",
    "print('Colunas: ', *(x for x in df_titanic.columns[1:]), sep=' | ')"
   ]
  },
  {
   "cell_type": "code",
   "execution_count": 9,
   "metadata": {},
   "outputs": [
    {
     "name": "stdout",
     "output_type": "stream",
     "text": [
      "Tabela1: Passageiros por classe social, total de indivíduos por categoria de idade e sobreviventes da categoria.\n"
     ]
    },
    {
     "data": {
      "text/html": [
       "<div>\n",
       "<style scoped>\n",
       "    .dataframe tbody tr th:only-of-type {\n",
       "        vertical-align: middle;\n",
       "    }\n",
       "\n",
       "    .dataframe tbody tr th {\n",
       "        vertical-align: top;\n",
       "    }\n",
       "\n",
       "    .dataframe thead th {\n",
       "        text-align: right;\n",
       "    }\n",
       "</style>\n",
       "<table border=\"1\" class=\"dataframe\">\n",
       "  <thead>\n",
       "    <tr style=\"text-align: right;\">\n",
       "      <th></th>\n",
       "      <th>passenger_class</th>\n",
       "      <th>age_category</th>\n",
       "      <th>survived</th>\n",
       "    </tr>\n",
       "  </thead>\n",
       "  <tbody>\n",
       "    <tr>\n",
       "      <th>0</th>\n",
       "      <td>1</td>\n",
       "      <td>Adolescente</td>\n",
       "      <td>11</td>\n",
       "    </tr>\n",
       "    <tr>\n",
       "      <th>1</th>\n",
       "      <td>1</td>\n",
       "      <td>Adulto</td>\n",
       "      <td>122</td>\n",
       "    </tr>\n",
       "    <tr>\n",
       "      <th>2</th>\n",
       "      <td>1</td>\n",
       "      <td>Criança</td>\n",
       "      <td>3</td>\n",
       "    </tr>\n",
       "    <tr>\n",
       "      <th>3</th>\n",
       "      <td>2</td>\n",
       "      <td>Adolescente</td>\n",
       "      <td>6</td>\n",
       "    </tr>\n",
       "    <tr>\n",
       "      <th>4</th>\n",
       "      <td>2</td>\n",
       "      <td>Adulto</td>\n",
       "      <td>64</td>\n",
       "    </tr>\n",
       "    <tr>\n",
       "      <th>5</th>\n",
       "      <td>2</td>\n",
       "      <td>Criança</td>\n",
       "      <td>17</td>\n",
       "    </tr>\n",
       "    <tr>\n",
       "      <th>6</th>\n",
       "      <td>3</td>\n",
       "      <td>Adolescente</td>\n",
       "      <td>13</td>\n",
       "    </tr>\n",
       "    <tr>\n",
       "      <th>7</th>\n",
       "      <td>3</td>\n",
       "      <td>Adulto</td>\n",
       "      <td>86</td>\n",
       "    </tr>\n",
       "    <tr>\n",
       "      <th>8</th>\n",
       "      <td>3</td>\n",
       "      <td>Criança</td>\n",
       "      <td>20</td>\n",
       "    </tr>\n",
       "    <tr>\n",
       "      <th>total</th>\n",
       "      <td>-</td>\n",
       "      <td>-</td>\n",
       "      <td>342</td>\n",
       "    </tr>\n",
       "  </tbody>\n",
       "</table>\n",
       "</div>"
      ],
      "text/plain": [
       "      passenger_class age_category  survived\n",
       "0                   1  Adolescente        11\n",
       "1                   1       Adulto       122\n",
       "2                   1      Criança         3\n",
       "3                   2  Adolescente         6\n",
       "4                   2       Adulto        64\n",
       "5                   2      Criança        17\n",
       "6                   3  Adolescente        13\n",
       "7                   3       Adulto        86\n",
       "8                   3      Criança        20\n",
       "total               -            -       342"
      ]
     },
     "execution_count": 9,
     "metadata": {},
     "output_type": "execute_result"
    }
   ],
   "source": [
    "# Tabela 1: Passageiros por classe social, total de indivíduos por categoria de\n",
    "# idade e sobreviventes da categoria.\n",
    "df_1 = df_titanic.query('survived == 1').groupby(\n",
    "    ['passenger_class', 'age_category'])['survived'].count().reset_index()\n",
    "class_sum = df_1['survived'].sum()\n",
    "df_1.loc['total'] = np.array(['-','-',class_sum])\n",
    "df_1['survived'] = df_1['survived'].astype(int)\n",
    "df_1.to_csv('tables/t_1.csv', index=False)\n",
    "print('Tabela1: Passageiros por classe social, total de indivíduos por categoria de idade e sobreviventes da categoria.')\n",
    "df_1"
   ]
  },
  {
   "cell_type": "markdown",
   "metadata": {},
   "source": [
    "A *Tabela 1* demonstra que a grande maioria dos sobreviventes do naufrágio do Titanic, em todas as classes de passageiros, são adultos, sendo a grande maioria pertencentes a primeira classe. Esses dados consideram que 30 pessoas não identificadas da primeira classe são da categoria adulta, por intermédio da substituição dos Nas pela de média entre a quantidade de passageiros dessa classe. Ainda sabemos que o total desses sobreviventes somam 342 passageiros."
   ]
  },
  {
   "cell_type": "code",
   "execution_count": 10,
   "metadata": {},
   "outputs": [
    {
     "name": "stderr",
     "output_type": "stream",
     "text": [
      "/home/trprado/.local/share/virtualenvs/udacity-WaEjM5--/lib/python3.6/site-packages/scipy/stats/stats.py:1713: FutureWarning: Using a non-tuple sequence for multidimensional indexing is deprecated; use `arr[tuple(seq)]` instead of `arr[seq]`. In the future this will be interpreted as an array index, `arr[np.array(seq)]`, which will result either in an error or a different result.\n",
      "  return np.add.reduce(sorted[indexer] * weights, axis=axis) / sumval\n"
     ]
    },
    {
     "data": {
      "image/png": "[encoded data removed]",
      "text/plain": [
       "<Figure size 457.5x360 with 1 Axes>"
      ]
     },
     "metadata": {
      "needs_background": "light"
     },
     "output_type": "display_data"
    }
   ],
   "source": [
    "# Gráfico de Sobreviventes por classe e categoria de idade.\n",
    "# Existe um warning nesse gráfico, mas não entendi como resolver.\n",
    "g1 = sns.catplot(data=df_titanic, x='passenger_class', y='survived',\n",
    "    kind='bar', hue='age_category')\n",
    "g1._legend.set_title('Categoria de Idade')\n",
    "plt.xlabel('Classe')\n",
    "plt.ylabel('Sobreviventes')\n",
    "plt.title('Sobreviventes por classe e categoria de idade')\n",
    "sns.despine(offset=5, trim=True)\n",
    "g1.savefig('imgs/g1-survived-class-by-age-cotegory.png')\n"
   ]
  },
  {
   "cell_type": "markdown",
   "metadata": {},
   "source": [
    "A *Figura 1* ajuda a esclarecer visualmente a porcentagem de sobreviventes entre cada categoria e sua classe de passageiro. Por ela pode-se verificar claramente que a grande maioria dos sobreviventes são da primeira classe, sendo que na segunda classe quase todas as crianças sobreviveram."
   ]
  },
  {
   "cell_type": "code",
   "execution_count": 11,
   "metadata": {},
   "outputs": [
    {
     "data": {
      "image/png": "[encoded data removed]",
      "text/plain": [
       "<Figure size 457.5x360 with 1 Axes>"
      ]
     },
     "metadata": {
      "needs_background": "light"
     },
     "output_type": "display_data"
    }
   ],
   "source": [
    "# Gráfico de contagem de passageiros por classe e categoria de idade.\n",
    "g2 = sns.catplot(data=df_titanic, x='passenger_class',\n",
    "    kind='count', hue='age_category')\n",
    "g2._legend.set_title('Categoria de Idade')\n",
    "plt.xlabel('Classe')\n",
    "plt.ylabel('Contagem')\n",
    "plt.title('Contagem por classe e categoria de idade')\n",
    "sns.despine(offset=5, trim=True)\n",
    "g2.savefig('imgs/g2-count-class-by-age-cotegory.png')"
   ]
  },
  {
   "cell_type": "markdown",
   "metadata": {},
   "source": [
    "Na *Figura 2* observa-se que a população de passageiros era constituída, na maior parte, por adultos. Para todas as categorias de idade, observa-se maior discrepância de valores na terceira classe em relação as demais. Observa-se ainda que a população de crianças na primeira classe foi a menor entre as classes."
   ]
  },
  {
   "cell_type": "code",
   "execution_count": 12,
   "metadata": {},
   "outputs": [
    {
     "data": {
      "image/png": "[encoded data removed]",
      "text/plain": [
       "<Figure size 576x432 with 3 Axes>"
      ]
     },
     "metadata": {
      "needs_background": "light"
     },
     "output_type": "display_data"
    }
   ],
   "source": [
    "# Gráfico de caixa de categoria de idade por classe.\n",
    "g3 = sns.catplot(y=\"age_category\", x=\"age\", row=\"passenger_class\",\n",
    "                 orient=\"h\", height=2, aspect=4, kind=\"box\",\n",
    "                 data=df_titanic.query('age_category != \"Desconhecido\"'))\n",
    "g3.set_ylabels('Categoria de Idade')\n",
    "g3.set_xlabels('Idade')\n",
    "g3.set_titles(\"{row_name}(a) classe\")\n",
    "sns.despine(offset=5, trim=True)\n",
    "g3.savefig('imgs/g3-box-class-by-age-cotegory.png')"
   ]
  },
  {
   "cell_type": "markdown",
   "metadata": {},
   "source": [
    "O mesmo é observado na *Figura 3*, com informações adicionais de que existem outliers na categoria adultos em todas as classes (*Figura 4*). Observa-se também que existe pouca variabilidade dentro das categorias, exceto para criança na primeira e terceira classe, adolescente na segunda classe e adultos na terceira classe."
   ]
  },
  {
   "cell_type": "code",
   "execution_count": 13,
   "metadata": {},
   "outputs": [
    {
     "data": {
      "image/png": "[encoded data removed]",
      "text/plain": [
       "<Figure size 432x432 with 1 Axes>"
      ]
     },
     "metadata": {
      "needs_background": "light"
     },
     "output_type": "display_data"
    }
   ],
   "source": [
    "# Gráfico de caixa entre idade de passageiros adultos e classe social.\n",
    "f, g8 = plt.subplots(figsize=(6, 6))\n",
    "sns.boxplot(x=\"passenger_class\", y=\"age\",\n",
    "            data=df_titanic.query('age_category != \"Desconhecido\" & age > 18'))\n",
    "plt.ylabel('Idade')\n",
    "plt.xlabel('Classe')\n",
    "plt.title(\"Idade dos adultos por classe\")\n",
    "sns.despine(offset=5, trim=True);\n",
    "g8.figure.savefig('imgs/g8-box-adult-age-by-social.png')"
   ]
  },
  {
   "cell_type": "markdown",
   "metadata": {},
   "source": [
    "A *Figura 4* demonstra um gráfico de caixa com dados dos passageiros adultos em diferentes classes. É possível ver que existem outliers em todas as categorias."
   ]
  },
  {
   "cell_type": "code",
   "execution_count": 14,
   "metadata": {},
   "outputs": [
    {
     "data": {
      "image/png": "[encoded data removed]",
      "text/plain": [
       "<Figure size 1080x360 with 3 Axes>"
      ]
     },
     "metadata": {
      "needs_background": "light"
     },
     "output_type": "display_data"
    }
   ],
   "source": [
    "# Histograma idade por classe social\n",
    "\n",
    "g = sns.FacetGrid(df_titanic_edited, col=\"passenger_class\", height=5)\n",
    "g.set_ylabels('Frequência')\n",
    "g.map(plt.hist, \"age\")\n",
    "g.set_ylabels('Frequência')\n",
    "g.set_xlabels('Idade')\n",
    "g.set(xticks=np.arange(0, 85, 5),\n",
    "      xticklabels=['0', '', '10', '', '20', '', '30', '', \n",
    "                   '40', '', '50', '', '60', '', '70', '', '80'])\n",
    "sns.despine(offset=5, trim=True);\n",
    "g.savefig('imgs/g11-hist-age-first-to-third-class.png')"
   ]
  },
  {
   "cell_type": "markdown",
   "metadata": {},
   "source": [
    "O primeiro gráfico de frequência na *Figura 5* representando a primeira classe apresenta uma distribuição simétrica e a maior frequência observada é de adultos com idade variando de 35 a 40 anos. No segundo e terceiro gráficos de frequência da *Figura 5* observam-se assimetrias positivas, sendo que no terceiro gráfico a maior frequência de idade varia de 40 a 45 anos e pertence a categoria adulta."
   ]
  },
  {
   "cell_type": "code",
   "execution_count": 15,
   "metadata": {},
   "outputs": [
    {
     "data": {
      "image/png": "[encoded data removed]",
      "text/plain": [
       "<Figure size 430.5x360 with 1 Axes>"
      ]
     },
     "metadata": {
      "needs_background": "light"
     },
     "output_type": "display_data"
    }
   ],
   "source": [
    "# Gráfico de contagem de passageiros por classe e gênero.\n",
    "g4 = sns.catplot(data=df_titanic, x='passenger_class', kind='count', hue='sex')\n",
    "g4._legend.set_title('Gênero')\n",
    "plt.xlabel('Classe')\n",
    "plt.ylabel('Contagem')\n",
    "plt.title('Contagem de pessoas por classe e gênero')\n",
    "sns.despine(offset=5, trim=True)\n",
    "g4.savefig('imgs/g4-count-passengers-class.png')"
   ]
  },
  {
   "cell_type": "markdown",
   "metadata": {},
   "source": [
    "A *Figura 6* demonstra que a contagem de homens a bordo em todas as classes é maior que de de mulheres idependente da idade. Ainda há discrepância de passageiros do gênero masculino na terceira classe"
   ]
  },
  {
   "cell_type": "code",
   "execution_count": 16,
   "metadata": {},
   "outputs": [
    {
     "name": "stdout",
     "output_type": "stream",
     "text": [
      "Tabela 2: Passageiros por classe com total de indivíduos por classe e sobreviventes.\n"
     ]
    },
    {
     "data": {
      "text/html": [
       "<div>\n",
       "<style scoped>\n",
       "    .dataframe tbody tr th:only-of-type {\n",
       "        vertical-align: middle;\n",
       "    }\n",
       "\n",
       "    .dataframe tbody tr th {\n",
       "        vertical-align: top;\n",
       "    }\n",
       "\n",
       "    .dataframe thead th {\n",
       "        text-align: right;\n",
       "    }\n",
       "</style>\n",
       "<table border=\"1\" class=\"dataframe\">\n",
       "  <thead>\n",
       "    <tr style=\"text-align: right;\">\n",
       "      <th></th>\n",
       "      <th></th>\n",
       "      <th>total</th>\n",
       "      <th>survived</th>\n",
       "    </tr>\n",
       "    <tr>\n",
       "      <th>passenger_class</th>\n",
       "      <th>sex</th>\n",
       "      <th></th>\n",
       "      <th></th>\n",
       "    </tr>\n",
       "  </thead>\n",
       "  <tbody>\n",
       "    <tr>\n",
       "      <th rowspan=\"2\" valign=\"top\">1</th>\n",
       "      <th>female</th>\n",
       "      <td>94</td>\n",
       "      <td>91</td>\n",
       "    </tr>\n",
       "    <tr>\n",
       "      <th>male</th>\n",
       "      <td>122</td>\n",
       "      <td>45</td>\n",
       "    </tr>\n",
       "    <tr>\n",
       "      <th rowspan=\"2\" valign=\"top\">2</th>\n",
       "      <th>female</th>\n",
       "      <td>76</td>\n",
       "      <td>70</td>\n",
       "    </tr>\n",
       "    <tr>\n",
       "      <th>male</th>\n",
       "      <td>108</td>\n",
       "      <td>17</td>\n",
       "    </tr>\n",
       "    <tr>\n",
       "      <th rowspan=\"2\" valign=\"top\">3</th>\n",
       "      <th>female</th>\n",
       "      <td>144</td>\n",
       "      <td>72</td>\n",
       "    </tr>\n",
       "    <tr>\n",
       "      <th>male</th>\n",
       "      <td>347</td>\n",
       "      <td>47</td>\n",
       "    </tr>\n",
       "  </tbody>\n",
       "</table>\n",
       "</div>"
      ],
      "text/plain": [
       "                        total  survived\n",
       "passenger_class sex                    \n",
       "1               female     94        91\n",
       "                male      122        45\n",
       "2               female     76        70\n",
       "                male      108        17\n",
       "3               female    144        72\n",
       "                male      347        47"
      ]
     },
     "execution_count": 16,
     "metadata": {},
     "output_type": "execute_result"
    }
   ],
   "source": [
    "# Tabela 2: Passageiros por classe, total de indivíduos por sexo e\n",
    "# sobrevivementes da categoria.\n",
    "df_2 = df_titanic.groupby(['passenger_class', 'sex']).agg(\n",
    "    {'name':'count', 'survived':'sum'}).rename(\n",
    "    columns={'name':'total'})\n",
    "df_2.to_csv('tables/t_2.csv')\n",
    "print('Tabela 2: Passageiros por classe com total de indivíduos por classe e sobreviventes.')\n",
    "df_2"
   ]
  },
  {
   "cell_type": "markdown",
   "metadata": {},
   "source": [
    "A *Tabela 2* mostra que existe mais homens e mulheres na terceira classe, como observado anteriormente nas *Figuras 6*. A maioria dos sobreviventes são do gênero feminino, *Tabela 4*, sendo que a primeira e segunda classe quase todas as passageiras sobreviveram. Esses dados podem ser reafirmados pela *Figura 6*, que mostra a contagem de passageiros a bordo, com uma discrepância de passageiros do gênero masculino na terceira classe."
   ]
  },
  {
   "cell_type": "code",
   "execution_count": 17,
   "metadata": {},
   "outputs": [
    {
     "name": "stdout",
     "output_type": "stream",
     "text": [
      "Tabela 3: Total de passageiros por classe e sobreviventes.\n"
     ]
    },
    {
     "data": {
      "text/html": [
       "<div>\n",
       "<style scoped>\n",
       "    .dataframe tbody tr th:only-of-type {\n",
       "        vertical-align: middle;\n",
       "    }\n",
       "\n",
       "    .dataframe tbody tr th {\n",
       "        vertical-align: top;\n",
       "    }\n",
       "\n",
       "    .dataframe thead th {\n",
       "        text-align: right;\n",
       "    }\n",
       "</style>\n",
       "<table border=\"1\" class=\"dataframe\">\n",
       "  <thead>\n",
       "    <tr style=\"text-align: right;\">\n",
       "      <th></th>\n",
       "      <th>total</th>\n",
       "      <th>survived</th>\n",
       "    </tr>\n",
       "    <tr>\n",
       "      <th>passenger_class</th>\n",
       "      <th></th>\n",
       "      <th></th>\n",
       "    </tr>\n",
       "  </thead>\n",
       "  <tbody>\n",
       "    <tr>\n",
       "      <th>1</th>\n",
       "      <td>216</td>\n",
       "      <td>136</td>\n",
       "    </tr>\n",
       "    <tr>\n",
       "      <th>2</th>\n",
       "      <td>184</td>\n",
       "      <td>87</td>\n",
       "    </tr>\n",
       "    <tr>\n",
       "      <th>3</th>\n",
       "      <td>491</td>\n",
       "      <td>119</td>\n",
       "    </tr>\n",
       "  </tbody>\n",
       "</table>\n",
       "</div>"
      ],
      "text/plain": [
       "                 total  survived\n",
       "passenger_class                 \n",
       "1                  216       136\n",
       "2                  184        87\n",
       "3                  491       119"
      ]
     },
     "execution_count": 17,
     "metadata": {},
     "output_type": "execute_result"
    }
   ],
   "source": [
    "# Tabela 3: Contagem de passageiros por classe e sobreviventes.\n",
    "df_3 = df_titanic.groupby('passenger_class').agg(\n",
    "    {'name':'count', 'survived': 'sum'}).rename(\n",
    "    columns={'name':'total'})\n",
    "df_3.to_csv('tables/t_3.csv')\n",
    "print('Tabela 3: Total de passageiros por classe e sobreviventes.')\n",
    "df_3"
   ]
  },
  {
   "cell_type": "markdown",
   "metadata": {},
   "source": [
    "A *Tabela 3* demonstra que a grande maioria, com o dobro de passageiros da primeira classe pertencia a terceira classe, porém aproximadamente 1/4 sobreviveu, enquanto a primeira classe teve uma sobrevivência maior que 50%."
   ]
  },
  {
   "cell_type": "code",
   "execution_count": 18,
   "metadata": {},
   "outputs": [
    {
     "data": {
      "image/png": "[encoded data removed]",
      "text/plain": [
       "<Figure size 360x360 with 1 Axes>"
      ]
     },
     "metadata": {
      "needs_background": "light"
     },
     "output_type": "display_data"
    }
   ],
   "source": [
    "# Contagem de passageiros por classe.\n",
    "g5 = sns.catplot(data=df_titanic, x='passenger_class', kind='count')\n",
    "plt.xlabel('Classe')\n",
    "plt.ylabel('Contagem')\n",
    "plt.title('Contagem de passageiros por classe social.')\n",
    "sns.despine(offset=5, trim=True)\n",
    "g5.savefig('imgs/g5-count-passenger-class.png')"
   ]
  },
  {
   "cell_type": "markdown",
   "metadata": {},
   "source": [
    "A *Figura 9* mostra o número de passageiros por classe. A classe com maior número de passageiros é a terceira classe, a segunda classe foi a com menor número de passageiros."
   ]
  },
  {
   "cell_type": "code",
   "execution_count": 19,
   "metadata": {},
   "outputs": [
    {
     "data": {
      "image/png": "[encoded data removed]",
      "text/plain": [
       "<Figure size 360x360 with 1 Axes>"
      ]
     },
     "metadata": {
      "needs_background": "light"
     },
     "output_type": "display_data"
    }
   ],
   "source": [
    "# Contagem de pessoas por gênero.\n",
    "g6 = sns.catplot(data=df_titanic, x='sex', kind='count')\n",
    "plt.xlabel('Gênero')\n",
    "plt.ylabel('Contagem')\n",
    "plt.title('Contagem de pessoas por gênero')\n",
    "sns.despine(offset=5, trim=True)\n",
    "g6.savefig('imgs/g6-count-people-by-gender.png')"
   ]
  },
  {
   "cell_type": "markdown",
   "metadata": {},
   "source": [
    "A *Figura 10* mostra que quase tinha-se o dobre de pessoas a bordo do gênero masculino em comparação ao gênero feminino. "
   ]
  },
  {
   "cell_type": "code",
   "execution_count": 20,
   "metadata": {},
   "outputs": [
    {
     "name": "stdout",
     "output_type": "stream",
     "text": [
      "Tabela 4: Total de indivíduos por gênero e sobreviventes.\n"
     ]
    },
    {
     "data": {
      "text/html": [
       "<div>\n",
       "<style scoped>\n",
       "    .dataframe tbody tr th:only-of-type {\n",
       "        vertical-align: middle;\n",
       "    }\n",
       "\n",
       "    .dataframe tbody tr th {\n",
       "        vertical-align: top;\n",
       "    }\n",
       "\n",
       "    .dataframe thead th {\n",
       "        text-align: right;\n",
       "    }\n",
       "</style>\n",
       "<table border=\"1\" class=\"dataframe\">\n",
       "  <thead>\n",
       "    <tr style=\"text-align: right;\">\n",
       "      <th></th>\n",
       "      <th>total</th>\n",
       "      <th>survived</th>\n",
       "    </tr>\n",
       "    <tr>\n",
       "      <th>sex</th>\n",
       "      <th></th>\n",
       "      <th></th>\n",
       "    </tr>\n",
       "  </thead>\n",
       "  <tbody>\n",
       "    <tr>\n",
       "      <th>female</th>\n",
       "      <td>314</td>\n",
       "      <td>233</td>\n",
       "    </tr>\n",
       "    <tr>\n",
       "      <th>male</th>\n",
       "      <td>577</td>\n",
       "      <td>109</td>\n",
       "    </tr>\n",
       "  </tbody>\n",
       "</table>\n",
       "</div>"
      ],
      "text/plain": [
       "        total  survived\n",
       "sex                    \n",
       "female    314       233\n",
       "male      577       109"
      ]
     },
     "execution_count": 20,
     "metadata": {},
     "output_type": "execute_result"
    }
   ],
   "source": [
    "# Tabela 4: Total de indivíduos por gênero e sobreviventes.\n",
    "df_4 = df_titanic.groupby('sex').agg(\n",
    "    {'name':'count', 'survived':'sum'}).rename(columns={'name':'total'})\n",
    "df_4.to_csv('tables/t_4.csv')\n",
    "print('Tabela 4: Total de indivíduos por gênero e sobreviventes.')\n",
    "df_4"
   ]
  },
  {
   "cell_type": "markdown",
   "metadata": {},
   "source": [
    "A *Tabela 4* demonstra que os passageiros eram majoritariamente do gênero masculino, como também é observado na *Figura 10*, com maior sobrevivência de pessoas do gênero feminino. O que indica que mulheres tiveram uma maior taxa de sobrevivência comparado a homens, o que é esperado em um acidente dessas proporções."
   ]
  },
  {
   "cell_type": "code",
   "execution_count": 21,
   "metadata": {},
   "outputs": [
    {
     "name": "stdout",
     "output_type": "stream",
     "text": [
      "Tabela 5: Contagem de pessoas por categoria de idade e sobreviventes.\n"
     ]
    },
    {
     "data": {
      "text/html": [
       "<div>\n",
       "<style scoped>\n",
       "    .dataframe tbody tr th:only-of-type {\n",
       "        vertical-align: middle;\n",
       "    }\n",
       "\n",
       "    .dataframe tbody tr th {\n",
       "        vertical-align: top;\n",
       "    }\n",
       "\n",
       "    .dataframe thead th {\n",
       "        text-align: right;\n",
       "    }\n",
       "</style>\n",
       "<table border=\"1\" class=\"dataframe\">\n",
       "  <thead>\n",
       "    <tr style=\"text-align: right;\">\n",
       "      <th></th>\n",
       "      <th>total</th>\n",
       "      <th>survived</th>\n",
       "    </tr>\n",
       "    <tr>\n",
       "      <th>age_category</th>\n",
       "      <th></th>\n",
       "      <th></th>\n",
       "    </tr>\n",
       "  </thead>\n",
       "  <tbody>\n",
       "    <tr>\n",
       "      <th>Adolescente</th>\n",
       "      <td>70</td>\n",
       "      <td>30</td>\n",
       "    </tr>\n",
       "    <tr>\n",
       "      <th>Adulto</th>\n",
       "      <td>752</td>\n",
       "      <td>272</td>\n",
       "    </tr>\n",
       "    <tr>\n",
       "      <th>Criança</th>\n",
       "      <td>69</td>\n",
       "      <td>40</td>\n",
       "    </tr>\n",
       "  </tbody>\n",
       "</table>\n",
       "</div>"
      ],
      "text/plain": [
       "              total  survived\n",
       "age_category                 \n",
       "Adolescente      70        30\n",
       "Adulto          752       272\n",
       "Criança          69        40"
      ]
     },
     "execution_count": 21,
     "metadata": {},
     "output_type": "execute_result"
    }
   ],
   "source": [
    "# Tabela 5: Contagem de pessoas por categoria de idade e sobreviventes.\n",
    "df_5 = df_titanic.groupby('age_category').agg(\n",
    "    {'name':'count', 'survived':'sum'}).rename(columns={'name':'total'})\n",
    "df_5.to_csv('tables/t_5.csv')\n",
    "print('Tabela 5: Contagem de pessoas por categoria de idade e sobreviventes.')\n",
    "df_5"
   ]
  },
  {
   "cell_type": "markdown",
   "metadata": {},
   "source": [
    "A *Tabela 5* mostra que a grande maioria dos passageiros eram adultos, com uma contagem quase igual de adolescentes e crianças."
   ]
  },
  {
   "cell_type": "code",
   "execution_count": 22,
   "metadata": {},
   "outputs": [
    {
     "data": {
      "image/png": "[encoded data removed]",
      "text/plain": [
       "<Figure size 360x360 with 1 Axes>"
      ]
     },
     "metadata": {
      "needs_background": "light"
     },
     "output_type": "display_data"
    }
   ],
   "source": [
    "# Contagem de pessoas por categoria de idade.\n",
    "g7 = sns.catplot(data=df_titanic, x='age_category', kind='count')\n",
    "plt.xlabel('Categoria de Idade')\n",
    "plt.ylabel('Contagem')\n",
    "plt.title('Contagem de pessoas por categoria de idade')\n",
    "sns.despine(offset=5, trim=True)\n",
    "g7.savefig('imgs/g7-count-pearson-by-age-category.png')"
   ]
  },
  {
   "cell_type": "markdown",
   "metadata": {},
   "source": [
    "A grande maioria dos passageiros era da categoria adulta, com a minoria sendo de crianças e adolescentes (*Figura 11*). Os adultos tiveram a maior taxa de morte devido seu maior número, porém mais de 50% dos adolescentes faleceram no naufrágio, no total 57,97% das crianças, 37,52% dos adultos e 42,86% dos adolescentes sobreviveram como pode ser observado na *Tabela 5*. Assim a maior taxa de sobrevivência não é de adultos e sim de crianças, com quase 58% de sobrevivência."
   ]
  },
  {
   "cell_type": "code",
   "execution_count": 23,
   "metadata": {},
   "outputs": [
    {
     "name": "stdout",
     "output_type": "stream",
     "text": [
      "Tabela 6: Descritiva da categoria de idade dos passageiros.\n"
     ]
    },
    {
     "data": {
      "text/html": [
       "<div>\n",
       "<style scoped>\n",
       "    .dataframe tbody tr th:only-of-type {\n",
       "        vertical-align: middle;\n",
       "    }\n",
       "\n",
       "    .dataframe tbody tr th {\n",
       "        vertical-align: top;\n",
       "    }\n",
       "\n",
       "    .dataframe thead th {\n",
       "        text-align: right;\n",
       "    }\n",
       "</style>\n",
       "<table border=\"1\" class=\"dataframe\">\n",
       "  <thead>\n",
       "    <tr style=\"text-align: right;\">\n",
       "      <th></th>\n",
       "      <th>count</th>\n",
       "      <th>mean</th>\n",
       "      <th>std</th>\n",
       "      <th>min</th>\n",
       "      <th>25%</th>\n",
       "      <th>50%</th>\n",
       "      <th>75%</th>\n",
       "      <th>max</th>\n",
       "    </tr>\n",
       "    <tr>\n",
       "      <th>age_category</th>\n",
       "      <th></th>\n",
       "      <th></th>\n",
       "      <th></th>\n",
       "      <th></th>\n",
       "      <th></th>\n",
       "      <th></th>\n",
       "      <th></th>\n",
       "      <th></th>\n",
       "    </tr>\n",
       "  </thead>\n",
       "  <tbody>\n",
       "    <tr>\n",
       "      <th>Adolescente</th>\n",
       "      <td>70.0000</td>\n",
       "      <td>16.5786</td>\n",
       "      <td>1.4387</td>\n",
       "      <td>13.0000</td>\n",
       "      <td>16.0000</td>\n",
       "      <td>17.0000</td>\n",
       "      <td>18.0000</td>\n",
       "      <td>18.0000</td>\n",
       "    </tr>\n",
       "    <tr>\n",
       "      <th>Adulto</th>\n",
       "      <td>752.0000</td>\n",
       "      <td>35.2165</td>\n",
       "      <td>10.6138</td>\n",
       "      <td>19.0000</td>\n",
       "      <td>27.0000</td>\n",
       "      <td>36.0000</td>\n",
       "      <td>38.2334</td>\n",
       "      <td>80.0000</td>\n",
       "    </tr>\n",
       "    <tr>\n",
       "      <th>Criança</th>\n",
       "      <td>69.0000</td>\n",
       "      <td>4.7706</td>\n",
       "      <td>3.3904</td>\n",
       "      <td>0.4200</td>\n",
       "      <td>2.0000</td>\n",
       "      <td>4.0000</td>\n",
       "      <td>8.0000</td>\n",
       "      <td>12.0000</td>\n",
       "    </tr>\n",
       "  </tbody>\n",
       "</table>\n",
       "</div>"
      ],
      "text/plain": [
       "                count    mean     std     min     25%     50%     75%     max\n",
       "age_category                                                                 \n",
       "Adolescente   70.0000 16.5786  1.4387 13.0000 16.0000 17.0000 18.0000 18.0000\n",
       "Adulto       752.0000 35.2165 10.6138 19.0000 27.0000 36.0000 38.2334 80.0000\n",
       "Criança       69.0000  4.7706  3.3904  0.4200  2.0000  4.0000  8.0000 12.0000"
      ]
     },
     "execution_count": 23,
     "metadata": {},
     "output_type": "execute_result"
    }
   ],
   "source": [
    "# Tabela 6: Descritiva da categoria de idade dos passageiros.\n",
    "df_7 = df_titanic.groupby('age_category')['age'].describe().dropna()\n",
    "df_7.to_csv('tables/t_7.csv')\n",
    "print('Tabela 6: Descritiva da categoria de idade dos passageiros.')\n",
    "df_7"
   ]
  },
  {
   "cell_type": "markdown",
   "metadata": {},
   "source": [
    "A *Tabela 6* mostra a descritiva das categorias de idade, No geral, a idade média dos adolescentes é de, aproximadamente, 17 anos (desvio de 1.44), mínimo de 13 anos e máximo de 18 anos; os adultos possuem, aproximadamente, 35 anos (desvio de 10.61), com mínimo de 19 anos e máximo de 80 anos; e as crianças possuem a idade média de, aproximadamente, 5 anos (desvio de 3.39), com mínimo de 0.42 meses e máximo de 12 anos."
   ]
  },
  {
   "cell_type": "code",
   "execution_count": 24,
   "metadata": {},
   "outputs": [
    {
     "name": "stdout",
     "output_type": "stream",
     "text": [
      "Tabela 7: Descritiva da categoria de idade dos passageiros por classe.\n"
     ]
    },
    {
     "data": {
      "text/html": [
       "<div>\n",
       "<style scoped>\n",
       "    .dataframe tbody tr th:only-of-type {\n",
       "        vertical-align: middle;\n",
       "    }\n",
       "\n",
       "    .dataframe tbody tr th {\n",
       "        vertical-align: top;\n",
       "    }\n",
       "\n",
       "    .dataframe thead th {\n",
       "        text-align: right;\n",
       "    }\n",
       "</style>\n",
       "<table border=\"1\" class=\"dataframe\">\n",
       "  <thead>\n",
       "    <tr style=\"text-align: right;\">\n",
       "      <th></th>\n",
       "      <th></th>\n",
       "      <th>count</th>\n",
       "      <th>mean</th>\n",
       "      <th>std</th>\n",
       "      <th>min</th>\n",
       "      <th>25%</th>\n",
       "      <th>50%</th>\n",
       "      <th>75%</th>\n",
       "      <th>max</th>\n",
       "    </tr>\n",
       "    <tr>\n",
       "      <th>age_category</th>\n",
       "      <th>passenger_class</th>\n",
       "      <th></th>\n",
       "      <th></th>\n",
       "      <th></th>\n",
       "      <th></th>\n",
       "      <th></th>\n",
       "      <th></th>\n",
       "      <th></th>\n",
       "      <th></th>\n",
       "    </tr>\n",
       "  </thead>\n",
       "  <tbody>\n",
       "    <tr>\n",
       "      <th rowspan=\"3\" valign=\"top\">Adolescente</th>\n",
       "      <th>1</th>\n",
       "      <td>12.0000</td>\n",
       "      <td>16.6667</td>\n",
       "      <td>1.3027</td>\n",
       "      <td>14.0000</td>\n",
       "      <td>16.0000</td>\n",
       "      <td>17.0000</td>\n",
       "      <td>18.0000</td>\n",
       "      <td>18.0000</td>\n",
       "    </tr>\n",
       "    <tr>\n",
       "      <th>2</th>\n",
       "      <td>12.0000</td>\n",
       "      <td>16.7500</td>\n",
       "      <td>1.7123</td>\n",
       "      <td>13.0000</td>\n",
       "      <td>16.0000</td>\n",
       "      <td>17.5000</td>\n",
       "      <td>18.0000</td>\n",
       "      <td>18.0000</td>\n",
       "    </tr>\n",
       "    <tr>\n",
       "      <th>3</th>\n",
       "      <td>46.0000</td>\n",
       "      <td>16.5109</td>\n",
       "      <td>1.4240</td>\n",
       "      <td>13.0000</td>\n",
       "      <td>16.0000</td>\n",
       "      <td>17.0000</td>\n",
       "      <td>18.0000</td>\n",
       "      <td>18.0000</td>\n",
       "    </tr>\n",
       "    <tr>\n",
       "      <th rowspan=\"3\" valign=\"top\">Adulto</th>\n",
       "      <th>1</th>\n",
       "      <td>200.0000</td>\n",
       "      <td>40.2025</td>\n",
       "      <td>12.1844</td>\n",
       "      <td>19.0000</td>\n",
       "      <td>31.7500</td>\n",
       "      <td>38.2334</td>\n",
       "      <td>48.0000</td>\n",
       "      <td>80.0000</td>\n",
       "    </tr>\n",
       "    <tr>\n",
       "      <th>2</th>\n",
       "      <td>155.0000</td>\n",
       "      <td>34.3811</td>\n",
       "      <td>10.5997</td>\n",
       "      <td>19.0000</td>\n",
       "      <td>27.0000</td>\n",
       "      <td>32.5000</td>\n",
       "      <td>39.0000</td>\n",
       "      <td>70.0000</td>\n",
       "    </tr>\n",
       "    <tr>\n",
       "      <th>3</th>\n",
       "      <td>397.0000</td>\n",
       "      <td>33.0309</td>\n",
       "      <td>8.8163</td>\n",
       "      <td>19.0000</td>\n",
       "      <td>25.0000</td>\n",
       "      <td>36.0000</td>\n",
       "      <td>38.2334</td>\n",
       "      <td>74.0000</td>\n",
       "    </tr>\n",
       "    <tr>\n",
       "      <th rowspan=\"3\" valign=\"top\">Criança</th>\n",
       "      <th>1</th>\n",
       "      <td>4.0000</td>\n",
       "      <td>4.4800</td>\n",
       "      <td>4.5301</td>\n",
       "      <td>0.9200</td>\n",
       "      <td>1.7300</td>\n",
       "      <td>3.0000</td>\n",
       "      <td>5.7500</td>\n",
       "      <td>11.0000</td>\n",
       "    </tr>\n",
       "    <tr>\n",
       "      <th>2</th>\n",
       "      <td>17.0000</td>\n",
       "      <td>3.4900</td>\n",
       "      <td>2.5220</td>\n",
       "      <td>0.6700</td>\n",
       "      <td>1.0000</td>\n",
       "      <td>3.0000</td>\n",
       "      <td>5.0000</td>\n",
       "      <td>8.0000</td>\n",
       "    </tr>\n",
       "    <tr>\n",
       "      <th>3</th>\n",
       "      <td>48.0000</td>\n",
       "      <td>5.2483</td>\n",
       "      <td>3.5103</td>\n",
       "      <td>0.4200</td>\n",
       "      <td>2.0000</td>\n",
       "      <td>4.0000</td>\n",
       "      <td>9.0000</td>\n",
       "      <td>12.0000</td>\n",
       "    </tr>\n",
       "  </tbody>\n",
       "</table>\n",
       "</div>"
      ],
      "text/plain": [
       "                                count    mean     std     min     25%     50%  \\\n",
       "age_category passenger_class                                                    \n",
       "Adolescente  1                12.0000 16.6667  1.3027 14.0000 16.0000 17.0000   \n",
       "             2                12.0000 16.7500  1.7123 13.0000 16.0000 17.5000   \n",
       "             3                46.0000 16.5109  1.4240 13.0000 16.0000 17.0000   \n",
       "Adulto       1               200.0000 40.2025 12.1844 19.0000 31.7500 38.2334   \n",
       "             2               155.0000 34.3811 10.5997 19.0000 27.0000 32.5000   \n",
       "             3               397.0000 33.0309  8.8163 19.0000 25.0000 36.0000   \n",
       "Criança      1                 4.0000  4.4800  4.5301  0.9200  1.7300  3.0000   \n",
       "             2                17.0000  3.4900  2.5220  0.6700  1.0000  3.0000   \n",
       "             3                48.0000  5.2483  3.5103  0.4200  2.0000  4.0000   \n",
       "\n",
       "                                 75%     max  \n",
       "age_category passenger_class                  \n",
       "Adolescente  1               18.0000 18.0000  \n",
       "             2               18.0000 18.0000  \n",
       "             3               18.0000 18.0000  \n",
       "Adulto       1               48.0000 80.0000  \n",
       "             2               39.0000 70.0000  \n",
       "             3               38.2334 74.0000  \n",
       "Criança      1                5.7500 11.0000  \n",
       "             2                5.0000  8.0000  \n",
       "             3                9.0000 12.0000  "
      ]
     },
     "execution_count": 24,
     "metadata": {},
     "output_type": "execute_result"
    }
   ],
   "source": [
    "# Tabela 7: Descritiva da categoria de idade dos passageiros por classe.\n",
    "df_8 = df_titanic.groupby(\n",
    "    ['age_category', 'passenger_class'])['age'].describe().dropna()\n",
    "df_8.to_csv('tables/t_8.csv')\n",
    "print('Tabela 7: Descritiva da categoria de idade dos passageiros por classe.')\n",
    "df_8"
   ]
  },
  {
   "cell_type": "markdown",
   "metadata": {},
   "source": [
    "A *Tabela 7* separa a descritiva das categorias de idade entre as classes de passageiro, por ela é possível verificar que adultos da primeira classe são os mais velhos, com idade media de 40 anos, já adolescentes tem pouca variação na média de idade por classe, assim como na categoria infantil."
   ]
  },
  {
   "cell_type": "code",
   "execution_count": 25,
   "metadata": {},
   "outputs": [
    {
     "name": "stdout",
     "output_type": "stream",
     "text": [
      "Tabela 8: Média de valor da passagem por local de embarque e sua classe:\n"
     ]
    },
    {
     "data": {
      "text/html": [
       "<div>\n",
       "<style scoped>\n",
       "    .dataframe tbody tr th:only-of-type {\n",
       "        vertical-align: middle;\n",
       "    }\n",
       "\n",
       "    .dataframe tbody tr th {\n",
       "        vertical-align: top;\n",
       "    }\n",
       "\n",
       "    .dataframe thead th {\n",
       "        text-align: right;\n",
       "    }\n",
       "</style>\n",
       "<table border=\"1\" class=\"dataframe\">\n",
       "  <thead>\n",
       "    <tr style=\"text-align: right;\">\n",
       "      <th></th>\n",
       "      <th></th>\n",
       "      <th>fare_mean</th>\n",
       "      <th>total</th>\n",
       "    </tr>\n",
       "    <tr>\n",
       "      <th>passenger_class</th>\n",
       "      <th>embarked</th>\n",
       "      <th></th>\n",
       "      <th></th>\n",
       "    </tr>\n",
       "  </thead>\n",
       "  <tbody>\n",
       "    <tr>\n",
       "      <th rowspan=\"3\" valign=\"top\">1</th>\n",
       "      <th>C</th>\n",
       "      <td>104.7185</td>\n",
       "      <td>85</td>\n",
       "    </tr>\n",
       "    <tr>\n",
       "      <th>Q</th>\n",
       "      <td>90.0000</td>\n",
       "      <td>2</td>\n",
       "    </tr>\n",
       "    <tr>\n",
       "      <th>S</th>\n",
       "      <td>70.3649</td>\n",
       "      <td>127</td>\n",
       "    </tr>\n",
       "    <tr>\n",
       "      <th rowspan=\"3\" valign=\"top\">2</th>\n",
       "      <th>C</th>\n",
       "      <td>25.3583</td>\n",
       "      <td>17</td>\n",
       "    </tr>\n",
       "    <tr>\n",
       "      <th>Q</th>\n",
       "      <td>12.3500</td>\n",
       "      <td>3</td>\n",
       "    </tr>\n",
       "    <tr>\n",
       "      <th>S</th>\n",
       "      <td>20.3274</td>\n",
       "      <td>164</td>\n",
       "    </tr>\n",
       "    <tr>\n",
       "      <th rowspan=\"3\" valign=\"top\">3</th>\n",
       "      <th>C</th>\n",
       "      <td>11.2141</td>\n",
       "      <td>66</td>\n",
       "    </tr>\n",
       "    <tr>\n",
       "      <th>Q</th>\n",
       "      <td>11.1834</td>\n",
       "      <td>72</td>\n",
       "    </tr>\n",
       "    <tr>\n",
       "      <th>S</th>\n",
       "      <td>14.6441</td>\n",
       "      <td>353</td>\n",
       "    </tr>\n",
       "  </tbody>\n",
       "</table>\n",
       "</div>"
      ],
      "text/plain": [
       "                          fare_mean  total\n",
       "passenger_class embarked                  \n",
       "1               C          104.7185     85\n",
       "                Q           90.0000      2\n",
       "                S           70.3649    127\n",
       "2               C           25.3583     17\n",
       "                Q           12.3500      3\n",
       "                S           20.3274    164\n",
       "3               C           11.2141     66\n",
       "                Q           11.1834     72\n",
       "                S           14.6441    353"
      ]
     },
     "execution_count": 25,
     "metadata": {},
     "output_type": "execute_result"
    }
   ],
   "source": [
    "# Tabela 8: Média de valor da passagem por local de embarque e sua classe.\n",
    "df_9 = df_titanic.groupby(['passenger_class', 'embarked']).agg(\n",
    "    {'fare':'mean', 'name':'count'}).rename(\n",
    "    columns={'fare':'fare_mean','name':'total'})\n",
    "df_9.to_csv('tables/t_9.csv')\n",
    "print('Tabela 8: Média de valor da passagem por local de embarque e sua classe:')\n",
    "df_9"
   ]
  },
  {
   "cell_type": "markdown",
   "metadata": {},
   "source": [
    "Na *Tabela 8* podemos ver uma separação dos valores médios das passagens em cada posto de embarque do Titanic. Sendo C (Cherbourg), Q (Queenstown) e S (Southampton). As passagens mais caras da primeira classe foram compradas em Cherbourg (*Figura 13*), totalizando 168 passageiros sendo a maioria da primeira classe (Figura 12), sendo que em Southampton apresentou um maior movimento de passageiros. Houve pouquíssimos embarques da primeira e segunda classe em Queenstown, cinco passageiros apenas."
   ]
  },
  {
   "cell_type": "code",
   "execution_count": 26,
   "metadata": {},
   "outputs": [
    {
     "data": {
      "image/png": "[encoded data removed]",
      "text/plain": [
       "<Figure size 576x576 with 1 Axes>"
      ]
     },
     "metadata": {
      "needs_background": "light"
     },
     "output_type": "display_data"
    }
   ],
   "source": [
    "# Gráfico de caixa entre classe de passageiros e taxa da passagem.\n",
    "f, g9 = plt.subplots(figsize=(8, 8))\n",
    "sns.boxplot(x=\"passenger_class\", y=\"fare\", data=df_titanic)\n",
    "plt.ylabel('Preço Passagem')\n",
    "plt.xlabel('Classe')\n",
    "plt.title(\"Classe do passageiro por preço da passagem\")\n",
    "sns.despine(offset=5, trim=True)\n",
    "g9.figure.savefig('imgs/g9-box-class-by-ticket-fare.png')"
   ]
  },
  {
   "cell_type": "markdown",
   "metadata": {},
   "source": [
    "Pela *Figura 12* pode-se observar que existem outliers com relação ao valor da passagem, como existem passagens com valores altos que permitiam entrada de mais de um passageiro. Como o banco de dados possuía dados faltantes, suspeita-se que esses outliers sejam passagens que abrangem mais passageiros que não estavam contidos no dataset."
   ]
  },
  {
   "cell_type": "code",
   "execution_count": 27,
   "metadata": {},
   "outputs": [
    {
     "name": "stderr",
     "output_type": "stream",
     "text": [
      "/home/trprado/.local/share/virtualenvs/udacity-WaEjM5--/lib/python3.6/site-packages/scipy/stats/stats.py:1713: FutureWarning: Using a non-tuple sequence for multidimensional indexing is deprecated; use `arr[tuple(seq)]` instead of `arr[seq]`. In the future this will be interpreted as an array index, `arr[np.array(seq)]`, which will result either in an error or a different result.\n",
      "  return np.add.reduce(sorted[indexer] * weights, axis=axis) / sumval\n"
     ]
    },
    {
     "data": {
      "image/png": "[encoded data removed]",
      "text/plain": [
       "<Figure size 418.5x360 with 1 Axes>"
      ]
     },
     "metadata": {
      "needs_background": "light"
     },
     "output_type": "display_data"
    }
   ],
   "source": [
    "# Gráfico de barra com local de embarque e classe do passageiro.\n",
    "g10 = sns.catplot(data=df_titanic, x='passenger_class',\n",
    "    y='fare', kind='bar', hue='embarked')\n",
    "g10._legend.set_title('Locais de Embarque')\n",
    "plt.xlabel('Classe')\n",
    "plt.ylabel('Tarifa Passagem')\n",
    "plt.title('Tarifa da passagem por local de embarque e classe social.')\n",
    "sns.despine(offset=5, trim=True)\n",
    "g10.savefig('imgs/g10-bar-embarked-by-class.png')"
   ]
  },
  {
   "cell_type": "markdown",
   "metadata": {},
   "source": [
    "A *Figura 13* contem a visualização da média das tarifas por classe, sendo C (Cherbourg), Q (Queenstown) e S (Southampton). Por ela podemos ver que as passagens em Cherbourg eram as que custavam mais caras tanto para a primeira quanto para a segunda classe. Em Queenstown o valor da passagem entre a terceira classe não tinha grande diferença de preço."
   ]
  },
  {
   "cell_type": "code",
   "execution_count": 28,
   "metadata": {},
   "outputs": [
    {
     "name": "stdout",
     "output_type": "stream",
     "text": [
      "Tabela 9 - Passagens com maior número de passageiros da primeira classe.\n"
     ]
    },
    {
     "data": {
      "text/html": [
       "<div>\n",
       "<style scoped>\n",
       "    .dataframe tbody tr th:only-of-type {\n",
       "        vertical-align: middle;\n",
       "    }\n",
       "\n",
       "    .dataframe tbody tr th {\n",
       "        vertical-align: top;\n",
       "    }\n",
       "\n",
       "    .dataframe thead th {\n",
       "        text-align: right;\n",
       "    }\n",
       "</style>\n",
       "<table border=\"1\" class=\"dataframe\">\n",
       "  <thead>\n",
       "    <tr style=\"text-align: right;\">\n",
       "      <th></th>\n",
       "      <th>survived</th>\n",
       "      <th>passenger_class</th>\n",
       "      <th>name</th>\n",
       "      <th>sex</th>\n",
       "      <th>age</th>\n",
       "      <th>sibsp</th>\n",
       "      <th>parch</th>\n",
       "      <th>ticket</th>\n",
       "      <th>fare</th>\n",
       "      <th>embarked</th>\n",
       "      <th>age_category</th>\n",
       "      <th>freq</th>\n",
       "    </tr>\n",
       "  </thead>\n",
       "  <tbody>\n",
       "    <tr>\n",
       "      <th>380</th>\n",
       "      <td>1</td>\n",
       "      <td>1</td>\n",
       "      <td>Bidois, Miss. Rosalie</td>\n",
       "      <td>female</td>\n",
       "      <td>42.0000</td>\n",
       "      <td>0</td>\n",
       "      <td>0</td>\n",
       "      <td>PC 17757</td>\n",
       "      <td>227.5250</td>\n",
       "      <td>C</td>\n",
       "      <td>Adulto</td>\n",
       "      <td>4</td>\n",
       "    </tr>\n",
       "    <tr>\n",
       "      <th>557</th>\n",
       "      <td>0</td>\n",
       "      <td>1</td>\n",
       "      <td>Robbins, Mr. Victor</td>\n",
       "      <td>male</td>\n",
       "      <td>38.2334</td>\n",
       "      <td>0</td>\n",
       "      <td>0</td>\n",
       "      <td>PC 17757</td>\n",
       "      <td>227.5250</td>\n",
       "      <td>C</td>\n",
       "      <td>Adulto</td>\n",
       "      <td>4</td>\n",
       "    </tr>\n",
       "    <tr>\n",
       "      <th>700</th>\n",
       "      <td>1</td>\n",
       "      <td>1</td>\n",
       "      <td>Astor, Mrs. John Jacob (Madeleine Talmadge Force)</td>\n",
       "      <td>female</td>\n",
       "      <td>18.0000</td>\n",
       "      <td>1</td>\n",
       "      <td>0</td>\n",
       "      <td>PC 17757</td>\n",
       "      <td>227.5250</td>\n",
       "      <td>C</td>\n",
       "      <td>Adolescente</td>\n",
       "      <td>4</td>\n",
       "    </tr>\n",
       "    <tr>\n",
       "      <th>716</th>\n",
       "      <td>1</td>\n",
       "      <td>1</td>\n",
       "      <td>Endres, Miss. Caroline Louise</td>\n",
       "      <td>female</td>\n",
       "      <td>38.0000</td>\n",
       "      <td>0</td>\n",
       "      <td>0</td>\n",
       "      <td>PC 17757</td>\n",
       "      <td>227.5250</td>\n",
       "      <td>C</td>\n",
       "      <td>Adulto</td>\n",
       "      <td>4</td>\n",
       "    </tr>\n",
       "    <tr>\n",
       "      <th>27</th>\n",
       "      <td>0</td>\n",
       "      <td>1</td>\n",
       "      <td>Fortune, Mr. Charles Alexander</td>\n",
       "      <td>male</td>\n",
       "      <td>19.0000</td>\n",
       "      <td>3</td>\n",
       "      <td>2</td>\n",
       "      <td>19950</td>\n",
       "      <td>263.0000</td>\n",
       "      <td>S</td>\n",
       "      <td>Adulto</td>\n",
       "      <td>4</td>\n",
       "    </tr>\n",
       "    <tr>\n",
       "      <th>88</th>\n",
       "      <td>1</td>\n",
       "      <td>1</td>\n",
       "      <td>Fortune, Miss. Mabel Helen</td>\n",
       "      <td>female</td>\n",
       "      <td>23.0000</td>\n",
       "      <td>3</td>\n",
       "      <td>2</td>\n",
       "      <td>19950</td>\n",
       "      <td>263.0000</td>\n",
       "      <td>S</td>\n",
       "      <td>Adulto</td>\n",
       "      <td>4</td>\n",
       "    </tr>\n",
       "    <tr>\n",
       "      <th>341</th>\n",
       "      <td>1</td>\n",
       "      <td>1</td>\n",
       "      <td>Fortune, Miss. Alice Elizabeth</td>\n",
       "      <td>female</td>\n",
       "      <td>24.0000</td>\n",
       "      <td>3</td>\n",
       "      <td>2</td>\n",
       "      <td>19950</td>\n",
       "      <td>263.0000</td>\n",
       "      <td>S</td>\n",
       "      <td>Adulto</td>\n",
       "      <td>4</td>\n",
       "    </tr>\n",
       "    <tr>\n",
       "      <th>438</th>\n",
       "      <td>0</td>\n",
       "      <td>1</td>\n",
       "      <td>Fortune, Mr. Mark</td>\n",
       "      <td>male</td>\n",
       "      <td>64.0000</td>\n",
       "      <td>1</td>\n",
       "      <td>4</td>\n",
       "      <td>19950</td>\n",
       "      <td>263.0000</td>\n",
       "      <td>S</td>\n",
       "      <td>Adulto</td>\n",
       "      <td>4</td>\n",
       "    </tr>\n",
       "    <tr>\n",
       "      <th>306</th>\n",
       "      <td>1</td>\n",
       "      <td>1</td>\n",
       "      <td>Fleming, Miss. Margaret</td>\n",
       "      <td>female</td>\n",
       "      <td>38.2334</td>\n",
       "      <td>0</td>\n",
       "      <td>0</td>\n",
       "      <td>17421</td>\n",
       "      <td>110.8833</td>\n",
       "      <td>C</td>\n",
       "      <td>Adulto</td>\n",
       "      <td>4</td>\n",
       "    </tr>\n",
       "    <tr>\n",
       "      <th>550</th>\n",
       "      <td>1</td>\n",
       "      <td>1</td>\n",
       "      <td>Thayer, Mr. John Borland Jr</td>\n",
       "      <td>male</td>\n",
       "      <td>17.0000</td>\n",
       "      <td>0</td>\n",
       "      <td>2</td>\n",
       "      <td>17421</td>\n",
       "      <td>110.8833</td>\n",
       "      <td>C</td>\n",
       "      <td>Adolescente</td>\n",
       "      <td>4</td>\n",
       "    </tr>\n",
       "  </tbody>\n",
       "</table>\n",
       "</div>"
      ],
      "text/plain": [
       "     survived  passenger_class  \\\n",
       "380         1                1   \n",
       "557         0                1   \n",
       "700         1                1   \n",
       "716         1                1   \n",
       "27          0                1   \n",
       "88          1                1   \n",
       "341         1                1   \n",
       "438         0                1   \n",
       "306         1                1   \n",
       "550         1                1   \n",
       "\n",
       "                                                  name     sex     age  sibsp  \\\n",
       "380                              Bidois, Miss. Rosalie  female 42.0000      0   \n",
       "557                                Robbins, Mr. Victor    male 38.2334      0   \n",
       "700  Astor, Mrs. John Jacob (Madeleine Talmadge Force)  female 18.0000      1   \n",
       "716                      Endres, Miss. Caroline Louise  female 38.0000      0   \n",
       "27                      Fortune, Mr. Charles Alexander    male 19.0000      3   \n",
       "88                          Fortune, Miss. Mabel Helen  female 23.0000      3   \n",
       "341                     Fortune, Miss. Alice Elizabeth  female 24.0000      3   \n",
       "438                                  Fortune, Mr. Mark    male 64.0000      1   \n",
       "306                            Fleming, Miss. Margaret  female 38.2334      0   \n",
       "550                        Thayer, Mr. John Borland Jr    male 17.0000      0   \n",
       "\n",
       "     parch    ticket     fare embarked age_category  freq  \n",
       "380      0  PC 17757 227.5250        C       Adulto     4  \n",
       "557      0  PC 17757 227.5250        C       Adulto     4  \n",
       "700      0  PC 17757 227.5250        C  Adolescente     4  \n",
       "716      0  PC 17757 227.5250        C       Adulto     4  \n",
       "27       2     19950 263.0000        S       Adulto     4  \n",
       "88       2     19950 263.0000        S       Adulto     4  \n",
       "341      2     19950 263.0000        S       Adulto     4  \n",
       "438      4     19950 263.0000        S       Adulto     4  \n",
       "306      0     17421 110.8833        C       Adulto     4  \n",
       "550      2     17421 110.8833        C  Adolescente     4  "
      ]
     },
     "execution_count": 28,
     "metadata": {},
     "output_type": "execute_result"
    }
   ],
   "source": [
    "# Passagens com maior número de passageiros da primeira classe.\n",
    "df_titanic['freq'] = df_titanic.groupby('ticket')['ticket'].transform('count')\n",
    "# print('Passagens com maior número de passageiros da primeira classe:')\n",
    "df_titanic_most_pc = df_titanic.sort_values(by=['freq', 'ticket'], ascending=False).query(\n",
    "    'passenger_class == 1').head(10)\n",
    "df_titanic_most_pc.to_csv('tables/t_10.csv', index=False)\n",
    "print('Tabela 9 - Passagens com maior número de passageiros da primeira classe.')\n",
    "df_titanic_most_pc"
   ]
  },
  {
   "cell_type": "markdown",
   "metadata": {},
   "source": []
  },
  {
   "cell_type": "code",
   "execution_count": 29,
   "metadata": {},
   "outputs": [
    {
     "name": "stdout",
     "output_type": "stream",
     "text": [
      "Tabela 10 - Passagens com maior número de passageiros da segunda classe:\n"
     ]
    },
    {
     "data": {
      "text/html": [
       "<div>\n",
       "<style scoped>\n",
       "    .dataframe tbody tr th:only-of-type {\n",
       "        vertical-align: middle;\n",
       "    }\n",
       "\n",
       "    .dataframe tbody tr th {\n",
       "        vertical-align: top;\n",
       "    }\n",
       "\n",
       "    .dataframe thead th {\n",
       "        text-align: right;\n",
       "    }\n",
       "</style>\n",
       "<table border=\"1\" class=\"dataframe\">\n",
       "  <thead>\n",
       "    <tr style=\"text-align: right;\">\n",
       "      <th></th>\n",
       "      <th>survived</th>\n",
       "      <th>passenger_class</th>\n",
       "      <th>name</th>\n",
       "      <th>sex</th>\n",
       "      <th>age</th>\n",
       "      <th>sibsp</th>\n",
       "      <th>parch</th>\n",
       "      <th>ticket</th>\n",
       "      <th>fare</th>\n",
       "      <th>embarked</th>\n",
       "      <th>age_category</th>\n",
       "      <th>freq</th>\n",
       "    </tr>\n",
       "  </thead>\n",
       "  <tbody>\n",
       "    <tr>\n",
       "      <th>72</th>\n",
       "      <td>0</td>\n",
       "      <td>2</td>\n",
       "      <td>Hood, Mr. Ambrose Jr</td>\n",
       "      <td>male</td>\n",
       "      <td>21.0000</td>\n",
       "      <td>0</td>\n",
       "      <td>0</td>\n",
       "      <td>S.O.C. 14879</td>\n",
       "      <td>73.5000</td>\n",
       "      <td>S</td>\n",
       "      <td>Adulto</td>\n",
       "      <td>5</td>\n",
       "    </tr>\n",
       "    <tr>\n",
       "      <th>120</th>\n",
       "      <td>0</td>\n",
       "      <td>2</td>\n",
       "      <td>Hickman, Mr. Stanley George</td>\n",
       "      <td>male</td>\n",
       "      <td>21.0000</td>\n",
       "      <td>2</td>\n",
       "      <td>0</td>\n",
       "      <td>S.O.C. 14879</td>\n",
       "      <td>73.5000</td>\n",
       "      <td>S</td>\n",
       "      <td>Adulto</td>\n",
       "      <td>5</td>\n",
       "    </tr>\n",
       "    <tr>\n",
       "      <th>385</th>\n",
       "      <td>0</td>\n",
       "      <td>2</td>\n",
       "      <td>Davies, Mr. Charles Henry</td>\n",
       "      <td>male</td>\n",
       "      <td>18.0000</td>\n",
       "      <td>0</td>\n",
       "      <td>0</td>\n",
       "      <td>S.O.C. 14879</td>\n",
       "      <td>73.5000</td>\n",
       "      <td>S</td>\n",
       "      <td>Adolescente</td>\n",
       "      <td>5</td>\n",
       "    </tr>\n",
       "    <tr>\n",
       "      <th>655</th>\n",
       "      <td>0</td>\n",
       "      <td>2</td>\n",
       "      <td>Hickman, Mr. Leonard Mark</td>\n",
       "      <td>male</td>\n",
       "      <td>24.0000</td>\n",
       "      <td>2</td>\n",
       "      <td>0</td>\n",
       "      <td>S.O.C. 14879</td>\n",
       "      <td>73.5000</td>\n",
       "      <td>S</td>\n",
       "      <td>Adulto</td>\n",
       "      <td>5</td>\n",
       "    </tr>\n",
       "    <tr>\n",
       "      <th>665</th>\n",
       "      <td>0</td>\n",
       "      <td>2</td>\n",
       "      <td>Hickman, Mr. Lewis</td>\n",
       "      <td>male</td>\n",
       "      <td>32.0000</td>\n",
       "      <td>2</td>\n",
       "      <td>0</td>\n",
       "      <td>S.O.C. 14879</td>\n",
       "      <td>73.5000</td>\n",
       "      <td>S</td>\n",
       "      <td>Adulto</td>\n",
       "      <td>5</td>\n",
       "    </tr>\n",
       "    <tr>\n",
       "      <th>43</th>\n",
       "      <td>1</td>\n",
       "      <td>2</td>\n",
       "      <td>Laroche, Miss. Simonne Marie Anne Andree</td>\n",
       "      <td>female</td>\n",
       "      <td>3.0000</td>\n",
       "      <td>1</td>\n",
       "      <td>2</td>\n",
       "      <td>SC/Paris 2123</td>\n",
       "      <td>41.5792</td>\n",
       "      <td>C</td>\n",
       "      <td>Criança</td>\n",
       "      <td>3</td>\n",
       "    </tr>\n",
       "    <tr>\n",
       "      <th>608</th>\n",
       "      <td>1</td>\n",
       "      <td>2</td>\n",
       "      <td>Laroche, Mrs. Joseph (Juliette Marie Louise La...</td>\n",
       "      <td>female</td>\n",
       "      <td>22.0000</td>\n",
       "      <td>1</td>\n",
       "      <td>2</td>\n",
       "      <td>SC/Paris 2123</td>\n",
       "      <td>41.5792</td>\n",
       "      <td>C</td>\n",
       "      <td>Adulto</td>\n",
       "      <td>3</td>\n",
       "    </tr>\n",
       "    <tr>\n",
       "      <th>685</th>\n",
       "      <td>0</td>\n",
       "      <td>2</td>\n",
       "      <td>Laroche, Mr. Joseph Philippe Lemercier</td>\n",
       "      <td>male</td>\n",
       "      <td>25.0000</td>\n",
       "      <td>1</td>\n",
       "      <td>2</td>\n",
       "      <td>SC/Paris 2123</td>\n",
       "      <td>41.5792</td>\n",
       "      <td>C</td>\n",
       "      <td>Adulto</td>\n",
       "      <td>3</td>\n",
       "    </tr>\n",
       "    <tr>\n",
       "      <th>314</th>\n",
       "      <td>0</td>\n",
       "      <td>2</td>\n",
       "      <td>Hart, Mr. Benjamin</td>\n",
       "      <td>male</td>\n",
       "      <td>43.0000</td>\n",
       "      <td>1</td>\n",
       "      <td>1</td>\n",
       "      <td>F.C.C. 13529</td>\n",
       "      <td>26.2500</td>\n",
       "      <td>S</td>\n",
       "      <td>Adulto</td>\n",
       "      <td>3</td>\n",
       "    </tr>\n",
       "    <tr>\n",
       "      <th>440</th>\n",
       "      <td>1</td>\n",
       "      <td>2</td>\n",
       "      <td>Hart, Mrs. Benjamin (Esther Ada Bloomfield)</td>\n",
       "      <td>female</td>\n",
       "      <td>45.0000</td>\n",
       "      <td>1</td>\n",
       "      <td>1</td>\n",
       "      <td>F.C.C. 13529</td>\n",
       "      <td>26.2500</td>\n",
       "      <td>S</td>\n",
       "      <td>Adulto</td>\n",
       "      <td>3</td>\n",
       "    </tr>\n",
       "  </tbody>\n",
       "</table>\n",
       "</div>"
      ],
      "text/plain": [
       "     survived  passenger_class  \\\n",
       "72          0                2   \n",
       "120         0                2   \n",
       "385         0                2   \n",
       "655         0                2   \n",
       "665         0                2   \n",
       "43          1                2   \n",
       "608         1                2   \n",
       "685         0                2   \n",
       "314         0                2   \n",
       "440         1                2   \n",
       "\n",
       "                                                  name     sex     age  sibsp  \\\n",
       "72                                Hood, Mr. Ambrose Jr    male 21.0000      0   \n",
       "120                        Hickman, Mr. Stanley George    male 21.0000      2   \n",
       "385                          Davies, Mr. Charles Henry    male 18.0000      0   \n",
       "655                          Hickman, Mr. Leonard Mark    male 24.0000      2   \n",
       "665                                 Hickman, Mr. Lewis    male 32.0000      2   \n",
       "43            Laroche, Miss. Simonne Marie Anne Andree  female  3.0000      1   \n",
       "608  Laroche, Mrs. Joseph (Juliette Marie Louise La...  female 22.0000      1   \n",
       "685             Laroche, Mr. Joseph Philippe Lemercier    male 25.0000      1   \n",
       "314                                 Hart, Mr. Benjamin    male 43.0000      1   \n",
       "440        Hart, Mrs. Benjamin (Esther Ada Bloomfield)  female 45.0000      1   \n",
       "\n",
       "     parch         ticket    fare embarked age_category  freq  \n",
       "72       0   S.O.C. 14879 73.5000        S       Adulto     5  \n",
       "120      0   S.O.C. 14879 73.5000        S       Adulto     5  \n",
       "385      0   S.O.C. 14879 73.5000        S  Adolescente     5  \n",
       "655      0   S.O.C. 14879 73.5000        S       Adulto     5  \n",
       "665      0   S.O.C. 14879 73.5000        S       Adulto     5  \n",
       "43       2  SC/Paris 2123 41.5792        C      Criança     3  \n",
       "608      2  SC/Paris 2123 41.5792        C       Adulto     3  \n",
       "685      2  SC/Paris 2123 41.5792        C       Adulto     3  \n",
       "314      1   F.C.C. 13529 26.2500        S       Adulto     3  \n",
       "440      1   F.C.C. 13529 26.2500        S       Adulto     3  "
      ]
     },
     "execution_count": 29,
     "metadata": {},
     "output_type": "execute_result"
    }
   ],
   "source": [
    "# Passagens com maior número de passageiros da segunda classe.\n",
    "df_titanic['freq'] = df_titanic.groupby('ticket')['ticket'].transform('count')\n",
    "print('Tabela 10 - Passagens com maior número de passageiros da segunda classe:')\n",
    "df_titanic_most_sc = df_titanic.sort_values(by=['freq', 'ticket'], ascending=False).query(\n",
    "    'passenger_class == 2').head(10)\n",
    "df_titanic_most_sc.to_csv('tables/t_11.csv', index=False)\n",
    "df_titanic_most_sc"
   ]
  },
  {
   "cell_type": "markdown",
   "metadata": {},
   "source": []
  },
  {
   "cell_type": "code",
   "execution_count": 30,
   "metadata": {},
   "outputs": [
    {
     "name": "stdout",
     "output_type": "stream",
     "text": [
      "Tabela 11 - Passagens com maior número de passageiros da terceira classe:\n"
     ]
    },
    {
     "data": {
      "text/html": [
       "<div>\n",
       "<style scoped>\n",
       "    .dataframe tbody tr th:only-of-type {\n",
       "        vertical-align: middle;\n",
       "    }\n",
       "\n",
       "    .dataframe tbody tr th {\n",
       "        vertical-align: top;\n",
       "    }\n",
       "\n",
       "    .dataframe thead th {\n",
       "        text-align: right;\n",
       "    }\n",
       "</style>\n",
       "<table border=\"1\" class=\"dataframe\">\n",
       "  <thead>\n",
       "    <tr style=\"text-align: right;\">\n",
       "      <th></th>\n",
       "      <th>survived</th>\n",
       "      <th>passenger_class</th>\n",
       "      <th>name</th>\n",
       "      <th>sex</th>\n",
       "      <th>age</th>\n",
       "      <th>sibsp</th>\n",
       "      <th>parch</th>\n",
       "      <th>ticket</th>\n",
       "      <th>fare</th>\n",
       "      <th>embarked</th>\n",
       "      <th>age_category</th>\n",
       "      <th>freq</th>\n",
       "    </tr>\n",
       "  </thead>\n",
       "  <tbody>\n",
       "    <tr>\n",
       "      <th>159</th>\n",
       "      <td>0</td>\n",
       "      <td>3</td>\n",
       "      <td>Sage, Master. Thomas Henry</td>\n",
       "      <td>male</td>\n",
       "      <td>38.2334</td>\n",
       "      <td>8</td>\n",
       "      <td>2</td>\n",
       "      <td>CA. 2343</td>\n",
       "      <td>69.5500</td>\n",
       "      <td>S</td>\n",
       "      <td>Adulto</td>\n",
       "      <td>7</td>\n",
       "    </tr>\n",
       "    <tr>\n",
       "      <th>180</th>\n",
       "      <td>0</td>\n",
       "      <td>3</td>\n",
       "      <td>Sage, Miss. Constance Gladys</td>\n",
       "      <td>female</td>\n",
       "      <td>38.2334</td>\n",
       "      <td>8</td>\n",
       "      <td>2</td>\n",
       "      <td>CA. 2343</td>\n",
       "      <td>69.5500</td>\n",
       "      <td>S</td>\n",
       "      <td>Adulto</td>\n",
       "      <td>7</td>\n",
       "    </tr>\n",
       "    <tr>\n",
       "      <th>201</th>\n",
       "      <td>0</td>\n",
       "      <td>3</td>\n",
       "      <td>Sage, Mr. Frederick</td>\n",
       "      <td>male</td>\n",
       "      <td>38.2334</td>\n",
       "      <td>8</td>\n",
       "      <td>2</td>\n",
       "      <td>CA. 2343</td>\n",
       "      <td>69.5500</td>\n",
       "      <td>S</td>\n",
       "      <td>Adulto</td>\n",
       "      <td>7</td>\n",
       "    </tr>\n",
       "    <tr>\n",
       "      <th>324</th>\n",
       "      <td>0</td>\n",
       "      <td>3</td>\n",
       "      <td>Sage, Mr. George John Jr</td>\n",
       "      <td>male</td>\n",
       "      <td>38.2334</td>\n",
       "      <td>8</td>\n",
       "      <td>2</td>\n",
       "      <td>CA. 2343</td>\n",
       "      <td>69.5500</td>\n",
       "      <td>S</td>\n",
       "      <td>Adulto</td>\n",
       "      <td>7</td>\n",
       "    </tr>\n",
       "    <tr>\n",
       "      <th>792</th>\n",
       "      <td>0</td>\n",
       "      <td>3</td>\n",
       "      <td>Sage, Miss. Stella Anna</td>\n",
       "      <td>female</td>\n",
       "      <td>38.2334</td>\n",
       "      <td>8</td>\n",
       "      <td>2</td>\n",
       "      <td>CA. 2343</td>\n",
       "      <td>69.5500</td>\n",
       "      <td>S</td>\n",
       "      <td>Adulto</td>\n",
       "      <td>7</td>\n",
       "    </tr>\n",
       "    <tr>\n",
       "      <th>846</th>\n",
       "      <td>0</td>\n",
       "      <td>3</td>\n",
       "      <td>Sage, Mr. Douglas Bullen</td>\n",
       "      <td>male</td>\n",
       "      <td>38.2334</td>\n",
       "      <td>8</td>\n",
       "      <td>2</td>\n",
       "      <td>CA. 2343</td>\n",
       "      <td>69.5500</td>\n",
       "      <td>S</td>\n",
       "      <td>Adulto</td>\n",
       "      <td>7</td>\n",
       "    </tr>\n",
       "    <tr>\n",
       "      <th>863</th>\n",
       "      <td>0</td>\n",
       "      <td>3</td>\n",
       "      <td>Sage, Miss. Dorothy Edith \"Dolly\"</td>\n",
       "      <td>female</td>\n",
       "      <td>38.2334</td>\n",
       "      <td>8</td>\n",
       "      <td>2</td>\n",
       "      <td>CA. 2343</td>\n",
       "      <td>69.5500</td>\n",
       "      <td>S</td>\n",
       "      <td>Adulto</td>\n",
       "      <td>7</td>\n",
       "    </tr>\n",
       "    <tr>\n",
       "      <th>13</th>\n",
       "      <td>0</td>\n",
       "      <td>3</td>\n",
       "      <td>Andersson, Mr. Anders Johan</td>\n",
       "      <td>male</td>\n",
       "      <td>39.0000</td>\n",
       "      <td>1</td>\n",
       "      <td>5</td>\n",
       "      <td>347082</td>\n",
       "      <td>31.2750</td>\n",
       "      <td>S</td>\n",
       "      <td>Adulto</td>\n",
       "      <td>7</td>\n",
       "    </tr>\n",
       "    <tr>\n",
       "      <th>119</th>\n",
       "      <td>0</td>\n",
       "      <td>3</td>\n",
       "      <td>Andersson, Miss. Ellis Anna Maria</td>\n",
       "      <td>female</td>\n",
       "      <td>2.0000</td>\n",
       "      <td>4</td>\n",
       "      <td>2</td>\n",
       "      <td>347082</td>\n",
       "      <td>31.2750</td>\n",
       "      <td>S</td>\n",
       "      <td>Criança</td>\n",
       "      <td>7</td>\n",
       "    </tr>\n",
       "    <tr>\n",
       "      <th>541</th>\n",
       "      <td>0</td>\n",
       "      <td>3</td>\n",
       "      <td>Andersson, Miss. Ingeborg Constanzia</td>\n",
       "      <td>female</td>\n",
       "      <td>9.0000</td>\n",
       "      <td>4</td>\n",
       "      <td>2</td>\n",
       "      <td>347082</td>\n",
       "      <td>31.2750</td>\n",
       "      <td>S</td>\n",
       "      <td>Criança</td>\n",
       "      <td>7</td>\n",
       "    </tr>\n",
       "  </tbody>\n",
       "</table>\n",
       "</div>"
      ],
      "text/plain": [
       "     survived  passenger_class                                  name     sex  \\\n",
       "159         0                3            Sage, Master. Thomas Henry    male   \n",
       "180         0                3          Sage, Miss. Constance Gladys  female   \n",
       "201         0                3                   Sage, Mr. Frederick    male   \n",
       "324         0                3              Sage, Mr. George John Jr    male   \n",
       "792         0                3               Sage, Miss. Stella Anna  female   \n",
       "846         0                3              Sage, Mr. Douglas Bullen    male   \n",
       "863         0                3     Sage, Miss. Dorothy Edith \"Dolly\"  female   \n",
       "13          0                3           Andersson, Mr. Anders Johan    male   \n",
       "119         0                3     Andersson, Miss. Ellis Anna Maria  female   \n",
       "541         0                3  Andersson, Miss. Ingeborg Constanzia  female   \n",
       "\n",
       "        age  sibsp  parch    ticket    fare embarked age_category  freq  \n",
       "159 38.2334      8      2  CA. 2343 69.5500        S       Adulto     7  \n",
       "180 38.2334      8      2  CA. 2343 69.5500        S       Adulto     7  \n",
       "201 38.2334      8      2  CA. 2343 69.5500        S       Adulto     7  \n",
       "324 38.2334      8      2  CA. 2343 69.5500        S       Adulto     7  \n",
       "792 38.2334      8      2  CA. 2343 69.5500        S       Adulto     7  \n",
       "846 38.2334      8      2  CA. 2343 69.5500        S       Adulto     7  \n",
       "863 38.2334      8      2  CA. 2343 69.5500        S       Adulto     7  \n",
       "13  39.0000      1      5    347082 31.2750        S       Adulto     7  \n",
       "119  2.0000      4      2    347082 31.2750        S      Criança     7  \n",
       "541  9.0000      4      2    347082 31.2750        S      Criança     7  "
      ]
     },
     "execution_count": 30,
     "metadata": {},
     "output_type": "execute_result"
    }
   ],
   "source": [
    "# Passagens com maior número de passageiros da terceira classe.\n",
    "df_titanic['freq'] = df_titanic.groupby('ticket')['ticket'].transform('count')\n",
    "print('Tabela 11 - Passagens com maior número de passageiros da terceira classe:')\n",
    "df_titanic_most_tc = df_titanic.sort_values(by=['freq', 'ticket'], ascending=False).query(\n",
    "    'passenger_class == 3').head(10)\n",
    "df_titanic_most_tc.to_csv('tables/t_12.csv', index=False)\n",
    "df_titanic_most_tc"
   ]
  },
  {
   "cell_type": "markdown",
   "metadata": {},
   "source": [
    "Nas *Tabelas 9 a 11* mostram as passagens com maior número de passageiros por classe. A primeira classe a passagem com o maior número de pessoas tem 4, a grande maioria sobreviveu ao naufrágio. A terceira classe, possuíam mais de uma passagem com 7 passageiros sendo que todos faleceram, porém em pesquisas online pelo nome de família consta que o banco de dados não contem todo o registro da família Sage, sendo que o total eram de 11 passageiros na mesma passagem."
   ]
  },
  {
   "cell_type": "markdown",
   "metadata": {},
   "source": [
    "# 1.5. Conclusões e Resultados"
   ]
  },
  {
   "cell_type": "markdown",
   "metadata": {},
   "source": [
    "## 1.5. Links uteis\n",
    "\n",
    "- [Change Figure Size](https://stackoverflow.com/questions/31594549/how-do-i-change-the-figure-size-for-a-seaborn-plot/31597278)\n",
    "- [Save Figure in Seaborn](https://stackoverflow.com/questions/33616557/barplot-savefig-returning-an-attributeerror)\n",
    "- [Ploting with Seaborn](https://www.kaggle.com/princeashburton/plotting-with-seaborn)\n",
    "- [Histograms and Density Plots in Python](https://towardsdatascience.com/histograms-and-density-plots-in-python-f6bda88f5ac0)\n",
    "- [Adjust Ticks in Seaborn](https://github.com/mwaskom/seaborn/issues/568)\n",
    "- [CSV to Markdown](https://donatstudios.com/CsvToMarkdownTable)\n",
    "- [Seaborn Tutorial](https://seaborn.pydata.org/tutorial.html)\n",
    "- [Matplotlib Docs](https://matplotlib.org/contents.html)\n",
    "- [Pandas Doc](https://pandas.pydata.org/pandas-docs/stable/)\n",
    "- [Numpy Docs](https://docs.scipy.org/doc/numpy/)\n",
    "- [Encyclopedia Titanica](https://www.encyclopedia-titanica.org/)"
   ]
  },
  {
   "cell_type": "code",
   "execution_count": null,
   "metadata": {},
   "outputs": [],
   "source": []
  }
 ],
 "metadata": {
  "kernelspec": {
   "display_name": "Python 3",
   "language": "python",
   "name": "python3"
  },
  "language_info": {
   "codemirror_mode": {
    "name": "ipython",
    "version": 3
   },
   "file_extension": ".py",
   "mimetype": "text/x-python",
   "name": "python",
   "nbconvert_exporter": "python",
   "pygments_lexer": "ipython3",
   "version": "3.6.5"
  }
 },
 "nbformat": 4,
 "nbformat_minor": 2
}
