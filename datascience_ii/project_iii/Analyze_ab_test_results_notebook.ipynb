{
  "nbformat": 4,
  "nbformat_minor": 0,
  "metadata": {
    "colab": {
      "name": "Analyze_ab_test_results_notebook.ipynb",
      "version": "0.3.2",
      "provenance": [],
      "toc_visible": true,
      "include_colab_link": true
    },
    "kernelspec": {
      "display_name": "Python 3",
      "language": "python",
      "name": "python3"
    }
  },
  "cells": [
    {
      "cell_type": "markdown",
      "metadata": {
        "id": "view-in-github",
        "colab_type": "text"
      },
      "source": [
        "<a href=\"https://colab.research.google.com/github/trprado/udacity/blob/master/datascience_ii/project_iii/Analyze_ab_test_results_notebook.ipynb\" target=\"_parent\"><img src=\"https://colab.research.google.com/assets/colab-badge.svg\" alt=\"Open In Colab\"/></a>"
      ]
    },
    {
      "metadata": {
        "colab_type": "text",
        "id": "tcpEZBO7Lx5a"
      },
      "cell_type": "markdown",
      "source": [
        "## Analyze A/B Test Results\n",
        "\n",
        "This project will assure you have mastered the subjects covered in the statistics lessons.  The hope is to have this project be as comprehensive of these topics as possible.  Good luck!\n",
        "\n",
        "## Table of Contents\n",
        "- [Introduction](#intro)\n",
        "- [Part I - Probability](#probability)\n",
        "- [Part II - A/B Test](#ab_test)\n",
        "- [Part III - Regression](#regression)\n",
        "\n",
        "\n",
        "<a id='intro'></a>\n",
        "### Introduction\n",
        "\n",
        "A/B tests are very commonly performed by data analysts and data scientists.  It is important that you get some practice working with the difficulties of these \n",
        "\n",
        "For this project, you will be working to understand the results of an A/B test run by an e-commerce website.  Your goal is to work through this notebook to help the company understand if they should implement the new page, keep the old page, or perhaps run the experiment longer to make their decision.\n",
        "\n",
        "**As you work through this notebook, follow along in the classroom and answer the corresponding quiz questions associated with each question.** The labels for each classroom concept are provided for each question.  This will assure you are on the right track as you work through the project, and you can feel more confident in your final submission meeting the criteria.  As a final check, assure you meet all the criteria on the [RUBRIC](https://review.udacity.com/#!/projects/37e27304-ad47-4eb0-a1ab-8c12f60e43d0/rubric).\n",
        "\n",
        "<a id='probability'></a>\n",
        "#### Part I - Probability\n",
        "\n",
        "To get started, let's import our libraries."
      ]
    },
    {
      "metadata": {
        "colab_type": "code",
        "id": "Wfx1fy94Lx5e",
        "colab": {}
      },
      "cell_type": "code",
      "source": [
        "import pandas as pd\n",
        "import numpy as np\n",
        "import random\n",
        "import matplotlib.pyplot as plt\n",
        "%matplotlib inline\n",
        "#We are setting the seed to assure you get the same answers on quizzes as we set up\n",
        "random.seed(42)"
      ],
      "execution_count": 0,
      "outputs": []
    },
    {
      "metadata": {
        "colab_type": "text",
        "id": "8JkJXXysLx5l"
      },
      "cell_type": "markdown",
      "source": [
        "`1.` Now, read in the `ab_data.csv` data. Store it in `df`.  **Use your dataframe to answer the questions in Quiz 1 of the classroom.**\n",
        "\n",
        "a. Read in the dataset and take a look at the top few rows here:"
      ]
    },
    {
      "metadata": {
        "colab_type": "code",
        "id": "93elbVXZOocD",
        "outputId": "58b60f2f-919d-4d77-8552-6dca3aabda69",
        "colab": {
          "base_uri": "https://localhost:8080/",
          "height": 388
        }
      },
      "cell_type": "code",
      "source": [
        "# Load dataset\n",
        "df = pd.read_csv('ab_data.csv')\n",
        "df.timestamp = pd.to_datetime(df.timestamp)\n",
        "df.info()\n",
        "df.head()"
      ],
      "execution_count": 5,
      "outputs": [
        {
          "output_type": "stream",
          "text": [
            "<class 'pandas.core.frame.DataFrame'>\n",
            "RangeIndex: 294478 entries, 0 to 294477\n",
            "Data columns (total 5 columns):\n",
            "user_id         294478 non-null int64\n",
            "timestamp       294478 non-null datetime64[ns]\n",
            "group           294478 non-null object\n",
            "landing_page    294478 non-null object\n",
            "converted       294478 non-null int64\n",
            "dtypes: datetime64[ns](1), int64(2), object(2)\n",
            "memory usage: 11.2+ MB\n"
          ],
          "name": "stdout"
        },
        {
          "output_type": "execute_result",
          "data": {
            "text/html": [
              "<div>\n",
              "<style scoped>\n",
              "    .dataframe tbody tr th:only-of-type {\n",
              "        vertical-align: middle;\n",
              "    }\n",
              "\n",
              "    .dataframe tbody tr th {\n",
              "        vertical-align: top;\n",
              "    }\n",
              "\n",
              "    .dataframe thead th {\n",
              "        text-align: right;\n",
              "    }\n",
              "</style>\n",
              "<table border=\"1\" class=\"dataframe\">\n",
              "  <thead>\n",
              "    <tr style=\"text-align: right;\">\n",
              "      <th></th>\n",
              "      <th>user_id</th>\n",
              "      <th>timestamp</th>\n",
              "      <th>group</th>\n",
              "      <th>landing_page</th>\n",
              "      <th>converted</th>\n",
              "    </tr>\n",
              "  </thead>\n",
              "  <tbody>\n",
              "    <tr>\n",
              "      <th>0</th>\n",
              "      <td>851104</td>\n",
              "      <td>2017-01-21 22:11:48.556739</td>\n",
              "      <td>control</td>\n",
              "      <td>old_page</td>\n",
              "      <td>0</td>\n",
              "    </tr>\n",
              "    <tr>\n",
              "      <th>1</th>\n",
              "      <td>804228</td>\n",
              "      <td>2017-01-12 08:01:45.159739</td>\n",
              "      <td>control</td>\n",
              "      <td>old_page</td>\n",
              "      <td>0</td>\n",
              "    </tr>\n",
              "    <tr>\n",
              "      <th>2</th>\n",
              "      <td>661590</td>\n",
              "      <td>2017-01-11 16:55:06.154213</td>\n",
              "      <td>treatment</td>\n",
              "      <td>new_page</td>\n",
              "      <td>0</td>\n",
              "    </tr>\n",
              "    <tr>\n",
              "      <th>3</th>\n",
              "      <td>853541</td>\n",
              "      <td>2017-01-08 18:28:03.143765</td>\n",
              "      <td>treatment</td>\n",
              "      <td>new_page</td>\n",
              "      <td>0</td>\n",
              "    </tr>\n",
              "    <tr>\n",
              "      <th>4</th>\n",
              "      <td>864975</td>\n",
              "      <td>2017-01-21 01:52:26.210827</td>\n",
              "      <td>control</td>\n",
              "      <td>old_page</td>\n",
              "      <td>1</td>\n",
              "    </tr>\n",
              "  </tbody>\n",
              "</table>\n",
              "</div>"
            ],
            "text/plain": [
              "   user_id                  timestamp      group landing_page  converted\n",
              "0   851104 2017-01-21 22:11:48.556739    control     old_page          0\n",
              "1   804228 2017-01-12 08:01:45.159739    control     old_page          0\n",
              "2   661590 2017-01-11 16:55:06.154213  treatment     new_page          0\n",
              "3   853541 2017-01-08 18:28:03.143765  treatment     new_page          0\n",
              "4   864975 2017-01-21 01:52:26.210827    control     old_page          1"
            ]
          },
          "metadata": {
            "tags": []
          },
          "execution_count": 5
        }
      ]
    },
    {
      "metadata": {
        "colab_type": "text",
        "id": "xUJpz4qcLx5r"
      },
      "cell_type": "markdown",
      "source": [
        "b. Use the below cell to find the number of rows in the dataset."
      ]
    },
    {
      "metadata": {
        "colab_type": "code",
        "id": "-ZTpIGd2Lx5s",
        "outputId": "04b2054e-0c34-494f-cdaa-33cc3ec1430d",
        "colab": {
          "base_uri": "https://localhost:8080/",
          "height": 51
        }
      },
      "cell_type": "code",
      "source": [
        "print(df.shape[0])"
      ],
      "execution_count": 0,
      "outputs": [
        {
          "output_type": "stream",
          "text": [
            "294478\n"
          ],
          "name": "stdout"
        }
      ]
    },
    {
      "metadata": {
        "colab_type": "text",
        "id": "TAyZ90iiLx5w"
      },
      "cell_type": "markdown",
      "source": [
        "c. The number of unique users in the dataset."
      ]
    },
    {
      "metadata": {
        "colab_type": "code",
        "id": "gWAekf1aLx5x",
        "outputId": "c9c53d02-673b-448c-f8d5-50912f5c6668",
        "colab": {
          "base_uri": "https://localhost:8080/",
          "height": 51
        }
      },
      "cell_type": "code",
      "source": [
        "print(df.user_id.nunique())"
      ],
      "execution_count": 0,
      "outputs": [
        {
          "output_type": "stream",
          "text": [
            "290584\n"
          ],
          "name": "stdout"
        }
      ]
    },
    {
      "metadata": {
        "colab_type": "text",
        "collapsed": true,
        "id": "FVELTsm8Lx51"
      },
      "cell_type": "markdown",
      "source": [
        "d. The proportion of users converted."
      ]
    },
    {
      "metadata": {
        "colab_type": "code",
        "id": "rxZa_aJ_Lx52",
        "colab": {},
        "outputId": "f4985087-1ae0-449a-e8b9-8412240bf676"
      },
      "cell_type": "code",
      "source": [
        "df.converted.sum() / df.shape[0]"
      ],
      "execution_count": 0,
      "outputs": [
        {
          "output_type": "execute_result",
          "data": {
            "text/plain": [
              "0.11965919355605512"
            ]
          },
          "metadata": {
            "tags": []
          },
          "execution_count": 5
        }
      ]
    },
    {
      "metadata": {
        "colab_type": "text",
        "collapsed": true,
        "id": "5hKMYM1lLx57"
      },
      "cell_type": "markdown",
      "source": [
        "e. The number of times the `new_page` and `treatment` don't line up."
      ]
    },
    {
      "metadata": {
        "colab_type": "code",
        "id": "y9VQW2--Lx57",
        "colab": {},
        "outputId": "c5abd971-9fc2-4122-f2b9-0ad601ec658c"
      },
      "cell_type": "code",
      "source": [
        "df.query('group == \"treatment\" and landing_page == \"old_page\"').count()[0] + df.query('group == \"control\" and landing_page == \"new_page\"').count()[0]"
      ],
      "execution_count": 0,
      "outputs": [
        {
          "output_type": "execute_result",
          "data": {
            "text/plain": [
              "3893"
            ]
          },
          "metadata": {
            "tags": []
          },
          "execution_count": 6
        }
      ]
    },
    {
      "metadata": {
        "colab_type": "text",
        "id": "eOI9qiWDLx6B"
      },
      "cell_type": "markdown",
      "source": [
        "f. Do any of the rows have missing values?"
      ]
    },
    {
      "metadata": {
        "colab_type": "code",
        "id": "QEGH7cMdLx6C",
        "colab": {},
        "outputId": "4f629b49-4062-4ebc-c7ed-b0c81a0a6f1a"
      },
      "cell_type": "code",
      "source": [
        "print(df.isnull().sum())"
      ],
      "execution_count": 0,
      "outputs": [
        {
          "output_type": "stream",
          "text": [
            "user_id         0\n",
            "timestamp       0\n",
            "group           0\n",
            "landing_page    0\n",
            "converted       0\n",
            "dtype: int64\n"
          ],
          "name": "stdout"
        }
      ]
    },
    {
      "metadata": {
        "colab_type": "text",
        "id": "E-6HYyRmLx6H"
      },
      "cell_type": "markdown",
      "source": [
        "`2.` For the rows where **treatment** is not aligned with **new_page** or **control** is not aligned with **old_page**, we cannot be sure if this row truly received the new or old page.  Use **Quiz 2** in the classroom to provide how we should handle these rows.  \n",
        "\n",
        "a. Now use the answer to the quiz to create a new dataset that meets the specifications from the quiz.  Store your new dataframe in **df2**."
      ]
    },
    {
      "metadata": {
        "colab_type": "code",
        "id": "hV_ndKaBLx6I",
        "colab": {
          "base_uri": "https://localhost:8080/",
          "height": 199
        },
        "outputId": "0dc480db-02a7-48d5-f3ce-4d590d939526"
      },
      "cell_type": "code",
      "source": [
        "temp1 = df.query('group == \"treatment\" and landing_page == \"old_page\"')\n",
        "temp2 = df.query('group == \"control\" and landing_page == \"new_page\"')\n",
        "temp = temp1.append(temp2)\n",
        "df2 = df.drop(temp.index, axis=0)\n",
        "df2.info()"
      ],
      "execution_count": 6,
      "outputs": [
        {
          "output_type": "stream",
          "text": [
            "<class 'pandas.core.frame.DataFrame'>\n",
            "Int64Index: 290585 entries, 0 to 294477\n",
            "Data columns (total 5 columns):\n",
            "user_id         290585 non-null int64\n",
            "timestamp       290585 non-null datetime64[ns]\n",
            "group           290585 non-null object\n",
            "landing_page    290585 non-null object\n",
            "converted       290585 non-null int64\n",
            "dtypes: datetime64[ns](1), int64(2), object(2)\n",
            "memory usage: 13.3+ MB\n"
          ],
          "name": "stdout"
        }
      ]
    },
    {
      "metadata": {
        "colab_type": "code",
        "id": "-Y5UNdgcLx6M",
        "colab": {},
        "outputId": "3e1f39b4-a78b-4161-8046-35de87950b61"
      },
      "cell_type": "code",
      "source": [
        "# Double Check all of the correct rows were removed - this should be 0\n",
        "df2[((df2['group'] == 'treatment') == (df2['landing_page'] == 'new_page')) == False].shape[0]"
      ],
      "execution_count": 0,
      "outputs": [
        {
          "output_type": "execute_result",
          "data": {
            "text/plain": [
              "0"
            ]
          },
          "metadata": {
            "tags": []
          },
          "execution_count": 9
        }
      ]
    },
    {
      "metadata": {
        "colab_type": "text",
        "id": "7wrhqAIeLx6Q"
      },
      "cell_type": "markdown",
      "source": [
        "`3.` Use **df2** and the cells below to answer questions for **Quiz3** in the classroom."
      ]
    },
    {
      "metadata": {
        "colab_type": "text",
        "id": "SGa1vnM-Lx6R"
      },
      "cell_type": "markdown",
      "source": [
        "a. How many unique **user_id**s are in **df2**?"
      ]
    },
    {
      "metadata": {
        "colab_type": "code",
        "id": "YaFTB19NLx6T",
        "colab": {},
        "outputId": "710fc628-3724-44de-abfe-fc9239e0094d"
      },
      "cell_type": "code",
      "source": [
        "df2.user_id.nunique()"
      ],
      "execution_count": 0,
      "outputs": [
        {
          "output_type": "execute_result",
          "data": {
            "text/plain": [
              "290584"
            ]
          },
          "metadata": {
            "tags": []
          },
          "execution_count": 10
        }
      ]
    },
    {
      "metadata": {
        "colab_type": "text",
        "collapsed": true,
        "id": "8V8UrkGxLx6X"
      },
      "cell_type": "markdown",
      "source": [
        "b. There is one **user_id** repeated in **df2**.  What is it?"
      ]
    },
    {
      "metadata": {
        "colab_type": "code",
        "id": "fUEkKayBLx6Y",
        "colab": {},
        "outputId": "25422818-8a72-45f5-8c8f-c01aa96b64ed"
      },
      "cell_type": "code",
      "source": [
        "df2[df2.user_id.duplicated()].user_id"
      ],
      "execution_count": 0,
      "outputs": [
        {
          "output_type": "execute_result",
          "data": {
            "text/plain": [
              "2893    773192\n",
              "Name: user_id, dtype: int64"
            ]
          },
          "metadata": {
            "tags": []
          },
          "execution_count": 11
        }
      ]
    },
    {
      "metadata": {
        "colab_type": "text",
        "id": "elUMRl4pLx6c"
      },
      "cell_type": "markdown",
      "source": [
        "c. What is the row information for the repeat **user_id**? "
      ]
    },
    {
      "metadata": {
        "colab_type": "code",
        "id": "xiA3K_ktLx6d",
        "colab": {},
        "outputId": "d12dea72-43eb-490d-84f5-36a2494ab589"
      },
      "cell_type": "code",
      "source": [
        "df2[df2.user_id.duplicated()]"
      ],
      "execution_count": 0,
      "outputs": [
        {
          "output_type": "execute_result",
          "data": {
            "text/html": [
              "<div>\n",
              "<style scoped>\n",
              "    .dataframe tbody tr th:only-of-type {\n",
              "        vertical-align: middle;\n",
              "    }\n",
              "\n",
              "    .dataframe tbody tr th {\n",
              "        vertical-align: top;\n",
              "    }\n",
              "\n",
              "    .dataframe thead th {\n",
              "        text-align: right;\n",
              "    }\n",
              "</style>\n",
              "<table border=\"1\" class=\"dataframe\">\n",
              "  <thead>\n",
              "    <tr style=\"text-align: right;\">\n",
              "      <th></th>\n",
              "      <th>user_id</th>\n",
              "      <th>timestamp</th>\n",
              "      <th>group</th>\n",
              "      <th>landing_page</th>\n",
              "      <th>converted</th>\n",
              "    </tr>\n",
              "  </thead>\n",
              "  <tbody>\n",
              "    <tr>\n",
              "      <th>2893</th>\n",
              "      <td>773192</td>\n",
              "      <td>2017-01-14 02:55:59.590927</td>\n",
              "      <td>treatment</td>\n",
              "      <td>new_page</td>\n",
              "      <td>0</td>\n",
              "    </tr>\n",
              "  </tbody>\n",
              "</table>\n",
              "</div>"
            ],
            "text/plain": [
              "      user_id                  timestamp      group landing_page  converted\n",
              "2893   773192 2017-01-14 02:55:59.590927  treatment     new_page          0"
            ]
          },
          "metadata": {
            "tags": []
          },
          "execution_count": 12
        }
      ]
    },
    {
      "metadata": {
        "colab_type": "text",
        "id": "Fm10quV1Lx6h"
      },
      "cell_type": "markdown",
      "source": [
        "d. Remove **one** of the rows with a duplicate **user_id**, but keep your dataframe as **df2**."
      ]
    },
    {
      "metadata": {
        "colab_type": "code",
        "id": "WkTyveQfLx6j",
        "colab": {}
      },
      "cell_type": "code",
      "source": [
        "df2.drop(df2[df2.user_id.duplicated()].index, axis=0, inplace=True)"
      ],
      "execution_count": 0,
      "outputs": []
    },
    {
      "metadata": {
        "colab_type": "text",
        "id": "9GJtDZy9Lx6o"
      },
      "cell_type": "markdown",
      "source": [
        "`4.` Use **df2** in the below cells to answer the quiz questions related to **Quiz 4** in the classroom.\n",
        "\n",
        "a. What is the probability of an individual converting regardless of the page they receive?"
      ]
    },
    {
      "metadata": {
        "colab_type": "code",
        "id": "MuvZyUkNLx6q",
        "colab": {},
        "outputId": "e4702a74-313b-4d93-9a79-3a6ca416b1b7"
      },
      "cell_type": "code",
      "source": [
        "df2.converted.sum() / df2.shape[0]"
      ],
      "execution_count": 0,
      "outputs": [
        {
          "output_type": "execute_result",
          "data": {
            "text/plain": [
              "0.11959708724499628"
            ]
          },
          "metadata": {
            "tags": []
          },
          "execution_count": 14
        }
      ]
    },
    {
      "metadata": {
        "colab_type": "text",
        "id": "-ClwRLIDLx6y"
      },
      "cell_type": "markdown",
      "source": [
        "b. Given that an individual was in the `control` group, what is the probability they converted?"
      ]
    },
    {
      "metadata": {
        "colab_type": "code",
        "id": "2HFPsV4zLx60",
        "colab": {},
        "outputId": "d6bdcbac-b854-4531-f8a8-3c909eaf0953"
      },
      "cell_type": "code",
      "source": [
        "df2.query('group == \"control\"').converted.sum() / df2.query('group == \"control\"').converted.count()"
      ],
      "execution_count": 0,
      "outputs": [
        {
          "output_type": "execute_result",
          "data": {
            "text/plain": [
              "0.1203863045004612"
            ]
          },
          "metadata": {
            "tags": []
          },
          "execution_count": 15
        }
      ]
    },
    {
      "metadata": {
        "colab_type": "text",
        "id": "-3zXrhvMLx64"
      },
      "cell_type": "markdown",
      "source": [
        "c. Given that an individual was in the `treatment` group, what is the probability they converted?"
      ]
    },
    {
      "metadata": {
        "colab_type": "code",
        "id": "xZqbgyUSLx66",
        "colab": {},
        "outputId": "df7ba14a-818f-4cd0-d75c-ba1a1ab01091"
      },
      "cell_type": "code",
      "source": [
        "df2.query('group == \"treatment\"').converted.sum() / df2.query('group == \"treatment\"').converted.count()"
      ],
      "execution_count": 0,
      "outputs": [
        {
          "output_type": "execute_result",
          "data": {
            "text/plain": [
              "0.11880806551510564"
            ]
          },
          "metadata": {
            "tags": []
          },
          "execution_count": 16
        }
      ]
    },
    {
      "metadata": {
        "colab_type": "text",
        "id": "y2S-MmH_Lx69"
      },
      "cell_type": "markdown",
      "source": [
        "d. What is the probability that an individual received the new page?"
      ]
    },
    {
      "metadata": {
        "colab_type": "code",
        "id": "yqVdqxU5Lx6-",
        "colab": {},
        "outputId": "16d70e11-6066-4273-bcb6-fe00345a9a9b"
      },
      "cell_type": "code",
      "source": [
        "df2.query('landing_page == \"new_page\"').count()[0] / df2.shape[0]"
      ],
      "execution_count": 0,
      "outputs": [
        {
          "output_type": "execute_result",
          "data": {
            "text/plain": [
              "0.5000619442226688"
            ]
          },
          "metadata": {
            "tags": []
          },
          "execution_count": 17
        }
      ]
    },
    {
      "metadata": {
        "colab_type": "text",
        "id": "is4_ClGFLx7C"
      },
      "cell_type": "markdown",
      "source": [
        "e. Consider your results from a. through d. above, and explain below whether you think there is sufficient evidence to say that the new treatment page leads to more conversions."
      ]
    },
    {
      "metadata": {
        "colab_type": "text",
        "id": "_fKt8SLwLx7E"
      },
      "cell_type": "markdown",
      "source": [
        "Considerando que `1` seja uma conversão do tipo de página atual para o inverso, 12.04% do grupo `controle` se converteu para `new_page` se mantendo 87.96% dos usuários do grupo se manteve na `old_page`. Já o grupo `treatment` se manteve em `new_page` 88.12%, sendo que 11.88% se converteu para `old_page`.\n",
        "\n",
        "Isso nos permite dizer que as taxas de conversão são muito próximas para se tomar uma decisão e dizer qual das páginas tem maior taxa de conversão."
      ]
    },
    {
      "metadata": {
        "colab_type": "text",
        "id": "3P-Fz5c0Lx7F"
      },
      "cell_type": "markdown",
      "source": [
        "<a id='ab_test'></a>\n",
        "### Part II - A/B Test\n",
        "\n",
        "Notice that because of the time stamp associated with each event, you could technically run a hypothesis test continuously as each observation was observed.  \n",
        "\n",
        "However, then the hard question is do you stop as soon as one page is considered significantly better than another or does it need to happen consistently for a certain amount of time?  How long do you run to render a decision that neither page is better than another?  \n",
        "\n",
        "These questions are the difficult parts associated with A/B tests in general.  \n",
        "\n",
        "\n",
        "`1.` For now, consider you need to make the decision just based on all the data provided.  If you want to assume that the old page is better unless the new page proves to be definitely better at a Type I error rate of 5%, what should your null and alternative hypotheses be?  You can state your hypothesis in terms of words or in terms of **$p_{old}$** and **$p_{new}$**, which are the converted rates for the old and new pages."
      ]
    },
    {
      "metadata": {
        "colab_type": "text",
        "id": "u3drrad8Lx7G"
      },
      "cell_type": "markdown",
      "source": [
        "$$H_{0}: p_{new} - p_{old} \\leq 0$$\n",
        "$$H_{1}: p_{new} - p_{old} > 0$$"
      ]
    },
    {
      "metadata": {
        "colab_type": "text",
        "id": "5I0axhqmLx7I"
      },
      "cell_type": "markdown",
      "source": [
        "`2.` Assume under the null hypothesis, $p_{new}$ and $p_{old}$ both have \"true\" success rates equal to the **converted** success rate regardless of page - that is $p_{new}$ and $p_{old}$ are equal. Furthermore, assume they are equal to the **converted** rate in **ab_data.csv** regardless of the page. <br><br>\n",
        "\n",
        "Use a sample size for each page equal to the ones in **ab_data.csv**.  <br><br>\n",
        "\n",
        "Perform the sampling distribution for the difference in **converted** between the two pages over 10,000 iterations of calculating an estimate from the null.  <br><br>\n",
        "\n",
        "Use the cells below to provide the necessary parts of this simulation.  If this doesn't make complete sense right now, don't worry - you are going to work through the problems below to complete this problem.  You can use **Quiz 5** in the classroom to make sure you are on the right track.<br><br>"
      ]
    },
    {
      "metadata": {
        "id": "PUWeImf1fTdR",
        "colab_type": "text"
      },
      "cell_type": "markdown",
      "source": [
        "A parte abaixo, antes das perguntas, são apenas a Análise A/B do teste de hipóteses acima, pergunta 1."
      ]
    },
    {
      "metadata": {
        "id": "Nj_Z5NbsfTdS",
        "colab_type": "code",
        "colab": {},
        "outputId": "f03d59fa-9876-4e09-a967-5c92b4f3d1a3"
      },
      "cell_type": "code",
      "source": [
        "# Select control group and calculate proportion\n",
        "control_df = df2.query('group == \"control\"')\n",
        "control_converse_rate = control_df.query('converted == 1').count()[0] / control_df.shape[0]\n",
        "control_converse_rate"
      ],
      "execution_count": 0,
      "outputs": [
        {
          "output_type": "execute_result",
          "data": {
            "text/plain": [
              "0.1203863045004612"
            ]
          },
          "metadata": {
            "tags": []
          },
          "execution_count": 18
        }
      ]
    },
    {
      "metadata": {
        "id": "MLZdHG5MfTdb",
        "colab_type": "code",
        "colab": {},
        "outputId": "57cfdeaf-020f-4ca6-9f91-12b77f18f8c4"
      },
      "cell_type": "code",
      "source": [
        "# Select treatment group and calculate proportion\n",
        "treatment_df = df2.query('group == \"treatment\"')\n",
        "treatment_converse_rate = treatment_df.query('converted == 1').count()[0] / treatment_df.shape[0]\n",
        "treatment_converse_rate"
      ],
      "execution_count": 0,
      "outputs": [
        {
          "output_type": "execute_result",
          "data": {
            "text/plain": [
              "0.11880806551510564"
            ]
          },
          "metadata": {
            "tags": []
          },
          "execution_count": 19
        }
      ]
    },
    {
      "metadata": {
        "id": "XUM3jsWXfTdh",
        "colab_type": "code",
        "colab": {},
        "outputId": "a264e29d-0c65-45f4-d887-2fa1ec1acc9b"
      },
      "cell_type": "code",
      "source": [
        "# Diffs observed\n",
        "obs_diff = treatment_converse_rate - control_converse_rate\n",
        "obs_diff"
      ],
      "execution_count": 0,
      "outputs": [
        {
          "output_type": "execute_result",
          "data": {
            "text/plain": [
              "-0.0015782389853555567"
            ]
          },
          "metadata": {
            "tags": []
          },
          "execution_count": 20
        }
      ]
    },
    {
      "metadata": {
        "id": "GFkg7jUkfTdt",
        "colab_type": "code",
        "colab": {},
        "outputId": "a3f76557-5b83-482c-a72b-d07f4864b94f"
      },
      "cell_type": "code",
      "source": [
        "%%time\n",
        "# Generate 10000 samples\n",
        "diffs = []\n",
        "for _ in range(10000):\n",
        "    bt = df2.sample(df2.shape[0], replace=True)\n",
        "    control_df = bt.query('group == \"control\"')\n",
        "    treatment_df = bt.query('group == \"treatment\"')\n",
        "    control_rate = bt.query('converted == 1').count()[0] / control_df.shape[0]\n",
        "    treatment_rate = bt.query('converted == 1').count()[0] / treatment_df.shape[0]\n",
        "    diffs.append(treatment_rate - control_rate)"
      ],
      "execution_count": 0,
      "outputs": [
        {
          "output_type": "stream",
          "text": [
            "CPU times: user 29min 41s, sys: 13.3 s, total: 29min 55s\n",
            "Wall time: 30min 2s\n"
          ],
          "name": "stdout"
        }
      ]
    },
    {
      "metadata": {
        "id": "--NBlLc4fTd5",
        "colab_type": "code",
        "colab": {},
        "outputId": "4a792d76-de12-4d9d-f065-9ec2fe6e9287"
      },
      "cell_type": "code",
      "source": [
        "# Transform diffs list in numpy array\n",
        "diffs = np.array(diffs)\n",
        "plt.hist(diffs);"
      ],
      "execution_count": 0,
      "outputs": [
        {
          "output_type": "display_data",
          "data": {
            "image/png": "[encoded data removed]",
            "text/plain": [
              "<Figure size 432x288 with 1 Axes>"
            ]
          },
          "metadata": {
            "tags": [],
            "needs_background": "light"
          }
        }
      ]
    },
    {
      "metadata": {
        "id": "REr02M6VfTd_",
        "colab_type": "code",
        "colab": {}
      },
      "cell_type": "code",
      "source": [
        "# Generate random values using a normal distribuition\n",
        "null_vals = np.random.normal(0, diffs.std(), diffs.size);"
      ],
      "execution_count": 0,
      "outputs": []
    },
    {
      "metadata": {
        "id": "c2Wj20EAfTeE",
        "colab_type": "code",
        "colab": {},
        "outputId": "6d4fe116-47d3-46b3-f5ea-cc9b49c1826f"
      },
      "cell_type": "code",
      "source": [
        "# Plot of two histograms of the random values that was generated above\n",
        "plt.figure(figsize=(15,5))\n",
        "plt.subplot(121)\n",
        "plt.hist(null_vals)\n",
        "plt.subplot(122)\n",
        "plt.hist(null_vals)\n",
        "plt.axvline(x=obs_diff, color='red');"
      ],
      "execution_count": 0,
      "outputs": [
        {
          "output_type": "display_data",
          "data": {
            "image/png": "[encoded data removed]",
            "text/plain": [
              "<Figure size 1080x360 with 2 Axes>"
            ]
          },
          "metadata": {
            "tags": [],
            "needs_background": "light"
          }
        }
      ]
    },
    {
      "metadata": {
        "id": "ifEE7VFWfTeP",
        "colab_type": "code",
        "colab": {},
        "outputId": "e0512b7e-b370-424c-e2e4-6c1526b43491"
      },
      "cell_type": "code",
      "source": [
        "# P-value calculated\n",
        "(null_vals > obs_diff).mean()"
      ],
      "execution_count": 0,
      "outputs": [
        {
          "output_type": "execute_result",
          "data": {
            "text/plain": [
              "0.9614"
            ]
          },
          "metadata": {
            "tags": []
          },
          "execution_count": 25
        }
      ]
    },
    {
      "metadata": {
        "colab_type": "text",
        "id": "ZQU0DWIWLx7K"
      },
      "cell_type": "markdown",
      "source": [
        "a. What is the **convert rate** for $p_{new}$ under the null? "
      ]
    },
    {
      "metadata": {
        "colab_type": "code",
        "id": "1yy8YphdLx7M",
        "colab": {},
        "outputId": "398bac7d-3286-4f43-c27b-57b3f844de0a"
      },
      "cell_type": "code",
      "source": [
        "p_new = df2.converted.sum() / df2.shape[0]\n",
        "p_new"
      ],
      "execution_count": 0,
      "outputs": [
        {
          "output_type": "execute_result",
          "data": {
            "text/plain": [
              "0.11959708724499628"
            ]
          },
          "metadata": {
            "tags": []
          },
          "execution_count": 26
        }
      ]
    },
    {
      "metadata": {
        "colab_type": "text",
        "id": "Bxc_97sDLx7P"
      },
      "cell_type": "markdown",
      "source": [
        "b. What is the **convert rate** for $p_{old}$ under the null? <br><br>"
      ]
    },
    {
      "metadata": {
        "colab_type": "code",
        "id": "BHL8LMdbLx7R",
        "colab": {},
        "outputId": "e7d7b903-9a1a-4b39-80e4-8221680f23bf"
      },
      "cell_type": "code",
      "source": [
        "p_old = df2.converted.sum() / df2.shape[0]\n",
        "p_old"
      ],
      "execution_count": 0,
      "outputs": [
        {
          "output_type": "execute_result",
          "data": {
            "text/plain": [
              "0.11959708724499628"
            ]
          },
          "metadata": {
            "tags": []
          },
          "execution_count": 27
        }
      ]
    },
    {
      "metadata": {
        "colab_type": "text",
        "id": "8D4bQeDbLx7U"
      },
      "cell_type": "markdown",
      "source": [
        "c. What is $n_{new}$?"
      ]
    },
    {
      "metadata": {
        "colab_type": "code",
        "id": "GiHiZKnNLx7V",
        "colab": {},
        "outputId": "930dfa34-13a4-4614-9b20-e123224a50a3"
      },
      "cell_type": "code",
      "source": [
        "n_new = df2.query('group == \"treatment\"').shape[0]\n",
        "n_new"
      ],
      "execution_count": 0,
      "outputs": [
        {
          "output_type": "execute_result",
          "data": {
            "text/plain": [
              "145310"
            ]
          },
          "metadata": {
            "tags": []
          },
          "execution_count": 28
        }
      ]
    },
    {
      "metadata": {
        "colab_type": "text",
        "id": "BjmfIFUVLx7b"
      },
      "cell_type": "markdown",
      "source": [
        "d. What is $n_{old}$?"
      ]
    },
    {
      "metadata": {
        "colab_type": "code",
        "id": "vY5T4BuiLx7c",
        "colab": {},
        "outputId": "1b1d590c-91a9-43af-d261-dd0f1902a0d0"
      },
      "cell_type": "code",
      "source": [
        "n_old = df2.query('group == \"control\"').shape[0]\n",
        "n_old"
      ],
      "execution_count": 0,
      "outputs": [
        {
          "output_type": "execute_result",
          "data": {
            "text/plain": [
              "145274"
            ]
          },
          "metadata": {
            "tags": []
          },
          "execution_count": 29
        }
      ]
    },
    {
      "metadata": {
        "colab_type": "text",
        "id": "nYCXNi_KLx7h"
      },
      "cell_type": "markdown",
      "source": [
        "e. Simulate $n_{new}$ transactions with a convert rate of $p_{new}$ under the null.  Store these $n_{new}$ 1's and 0's in **new_page_converted**."
      ]
    },
    {
      "metadata": {
        "colab_type": "code",
        "id": "WQnZYzDnLx7i",
        "colab": {},
        "outputId": "32153103-f2ac-4531-a64b-a5bca1d08b35"
      },
      "cell_type": "code",
      "source": [
        "new_page_converted = df2.converted.sample(n_new)\n",
        "new_page_converted[:10]"
      ],
      "execution_count": 0,
      "outputs": [
        {
          "output_type": "execute_result",
          "data": {
            "text/plain": [
              "226955    0\n",
              "281307    0\n",
              "152954    0\n",
              "59737     0\n",
              "137354    0\n",
              "135829    0\n",
              "199333    0\n",
              "224334    0\n",
              "60532     0\n",
              "40013     0\n",
              "Name: converted, dtype: int64"
            ]
          },
          "metadata": {
            "tags": []
          },
          "execution_count": 30
        }
      ]
    },
    {
      "metadata": {
        "colab_type": "text",
        "id": "t-pQKeVNLx7l"
      },
      "cell_type": "markdown",
      "source": [
        "f. Simulate $n_{old}$ transactions with a convert rate of $p_{old}$ under the null.  Store these $n_{old}$ 1's and 0's in **old_page_converted**."
      ]
    },
    {
      "metadata": {
        "colab_type": "code",
        "id": "6j15FcGaLx7m",
        "colab": {},
        "outputId": "4b752194-5088-4271-ed58-9e67b48a207e"
      },
      "cell_type": "code",
      "source": [
        "old_page_converted = df2.converted.sample(n_old)\n",
        "old_page_converted[:10]"
      ],
      "execution_count": 0,
      "outputs": [
        {
          "output_type": "execute_result",
          "data": {
            "text/plain": [
              "157179    0\n",
              "233781    0\n",
              "60008     0\n",
              "105875    0\n",
              "91065     0\n",
              "93034     0\n",
              "243172    0\n",
              "223445    0\n",
              "271197    0\n",
              "226901    0\n",
              "Name: converted, dtype: int64"
            ]
          },
          "metadata": {
            "tags": []
          },
          "execution_count": 31
        }
      ]
    },
    {
      "metadata": {
        "colab_type": "text",
        "id": "cX0C9wrxLx7r"
      },
      "cell_type": "markdown",
      "source": [
        "g. Find $p_{new}$ - $p_{old}$ for your simulated values from part (e) and (f)."
      ]
    },
    {
      "metadata": {
        "colab_type": "code",
        "id": "CwAgOZ6_Lx7s",
        "colab": {},
        "outputId": "48402d52-b7be-405c-9e91-875cb8fb4f22"
      },
      "cell_type": "code",
      "source": [
        "new_page_converted.mean() - old_page_converted.mean()"
      ],
      "execution_count": 0,
      "outputs": [
        {
          "output_type": "execute_result",
          "data": {
            "text/plain": [
              "-1.5834757087551665e-05"
            ]
          },
          "metadata": {
            "tags": []
          },
          "execution_count": 32
        }
      ]
    },
    {
      "metadata": {
        "colab_type": "text",
        "id": "4L-sG8GzLx7v"
      },
      "cell_type": "markdown",
      "source": [
        "h. Simulate 10,000 $p_{new}$ - $p_{old}$ values using this same process similarly to the one you calculated in parts **a. through g.** above.  Store all 10,000 values in a numpy array called **p_diffs**."
      ]
    },
    {
      "metadata": {
        "colab_type": "code",
        "id": "uO7WRdsGLx7w",
        "colab": {},
        "outputId": "c2f91158-27c6-4538-ea9a-e392d634802e"
      },
      "cell_type": "code",
      "source": [
        "%%time\n",
        "p_diffs = []\n",
        "\n",
        "for _ in range(int(1e4)):\n",
        "    new_page_converted = df2.converted.sample(n_new)\n",
        "    old_page_converted = df2.converted.sample(n_old)\n",
        "    p_diffs.append(new_page_converted.mean() - old_page_converted.mean())"
      ],
      "execution_count": 0,
      "outputs": [
        {
          "output_type": "stream",
          "text": [
            "CPU times: user 6min 28s, sys: 551 ms, total: 6min 28s\n",
            "Wall time: 6min 30s\n"
          ],
          "name": "stdout"
        }
      ]
    },
    {
      "metadata": {
        "colab_type": "text",
        "id": "awp7XvjsLx7z"
      },
      "cell_type": "markdown",
      "source": [
        "i. Plot a histogram of the **p_diffs**.  Does this plot look like what you expected?  Use the matching problem in the classroom to assure you fully understand what was computed here."
      ]
    },
    {
      "metadata": {
        "colab_type": "code",
        "id": "rG0ED_oKLx70",
        "colab": {},
        "outputId": "5a514f26-345d-4d52-9332-104c4573170f"
      },
      "cell_type": "code",
      "source": [
        "plt.hist(p_diffs);"
      ],
      "execution_count": 0,
      "outputs": [
        {
          "output_type": "display_data",
          "data": {
            "image/png": "[encoded data removed]",
            "text/plain": [
              "<Figure size 432x288 with 1 Axes>"
            ]
          },
          "metadata": {
            "tags": [],
            "needs_background": "light"
          }
        }
      ]
    },
    {
      "metadata": {
        "colab_type": "text",
        "id": "SUi4XM7RLx73"
      },
      "cell_type": "markdown",
      "source": [
        "j. What proportion of the **p_diffs** are greater than the actual difference observed in **ab_data.csv**?"
      ]
    },
    {
      "metadata": {
        "colab_type": "code",
        "id": "Z9cgmfpLLx74",
        "colab": {},
        "outputId": "a8d8fe25-4a51-4907-c090-1ec94994f723"
      },
      "cell_type": "code",
      "source": [
        "(p_diffs > obs_diff).mean()"
      ],
      "execution_count": 0,
      "outputs": [
        {
          "output_type": "execute_result",
          "data": {
            "text/plain": [
              "0.9676"
            ]
          },
          "metadata": {
            "tags": []
          },
          "execution_count": 35
        }
      ]
    },
    {
      "metadata": {
        "colab_type": "text",
        "id": "cUSWEioaLx79"
      },
      "cell_type": "markdown",
      "source": [
        "k. In words, explain what you just computed in part **j.**  What is this value called in scientific studies?  What does this value mean in terms of whether or not there is a difference between the new and old pages?"
      ]
    },
    {
      "metadata": {
        "colab_type": "text",
        "id": "SXOIsWs-Lx7-"
      },
      "cell_type": "markdown",
      "source": [
        "Na parte `j` foi calculado o p-valor da estatística para verificar se a hipótese nula é verdadeira. Para tal, foi calculada a média de todos os valores `p_diffs` maiores que o valor observado `obs_diff`.\n",
        "\n",
        "Este valor é chamado de p-valor.\n",
        "\n",
        "Com um nível de significância de 5%, podemos concluir que a hipótese nula não é rejeitada, ou seja, não existe diferença estatística significativa de conversão de `old_page` e `new_page`."
      ]
    },
    {
      "metadata": {
        "colab_type": "text",
        "id": "g5iRQpUDLx8A"
      },
      "cell_type": "markdown",
      "source": [
        "l. We could also use a built-in to achieve similar results.  Though using the built-in might be easier to code, the above portions are a walkthrough of the ideas that are critical to correctly thinking about statistical significance. Fill in the below to calculate the number of conversions for each page, as well as the number of individuals who received each page. Let `n_old` and `n_new` refer the the number of rows associated with the old page and new pages, respectively."
      ]
    },
    {
      "metadata": {
        "colab_type": "code",
        "id": "zgeF7vfILx8D",
        "colab": {}
      },
      "cell_type": "code",
      "source": [
        "import statsmodels.api as sm\n",
        "\n",
        "convert_old = p_old\n",
        "convert_new = p_new\n",
        "n_old = n_old\n",
        "n_new = n_new"
      ],
      "execution_count": 0,
      "outputs": []
    },
    {
      "metadata": {
        "colab_type": "text",
        "id": "0Mps9FJgLx8H"
      },
      "cell_type": "markdown",
      "source": [
        "m. Now use `stats.proportions_ztest` to compute your test statistic and p-value.  [Here](http://knowledgetack.com/python/statsmodels/proportions_ztest/) is a helpful link on using the built in."
      ]
    },
    {
      "metadata": {
        "colab_type": "code",
        "id": "Ejf-yogpLx8H",
        "colab": {},
        "outputId": "a34c95d3-bb2e-47c7-936d-73bf981a4726"
      },
      "cell_type": "code",
      "source": [
        "sm.stats.proportions_ztest([p_old, p_new], [n_old, n_new])"
      ],
      "execution_count": 0,
      "outputs": [
        {
          "output_type": "execute_result",
          "data": {
            "text/plain": [
              "(6.059074386432219e-05, 0.9999516555809727)"
            ]
          },
          "metadata": {
            "tags": []
          },
          "execution_count": 37
        }
      ]
    },
    {
      "metadata": {
        "colab_type": "text",
        "id": "yM36_7QrLx8M"
      },
      "cell_type": "markdown",
      "source": [
        "n. What do the z-score and p-value you computed in the previous question mean for the conversion rates of the old and new pages?  Do they agree with the findings in parts **j.** and **k.**?"
      ]
    },
    {
      "metadata": {
        "colab_type": "text",
        "id": "_U-oj-TPLx8O"
      },
      "cell_type": "markdown",
      "source": [
        "O z-score é a estatística calculada do teste, enquanto o p-valor é a probabilidade de observar sua estatística (ou uma mais extrema em favor da alternativa) se a hipótese nula for verdadeira.\n",
        "\n",
        "Os valores encontrados estão de acordo com os encontrados na parte `j` e `k`, porém na parte `j` a hipótese pedida foi de `p_diffs` maiores que `obs_diff`.\n",
        "\n",
        "Em ambos os testes a conclusão é a mesma, ou seja, ao nível de significância de 5% pode-se concluir que não se rejeita a hipótese nula, em outras palavras, pode-se dizer que não existe diferença significativa de conversão entre `old_page` e `new_page`."
      ]
    },
    {
      "metadata": {
        "colab_type": "text",
        "id": "ME6CRj9uLx8P"
      },
      "cell_type": "markdown",
      "source": [
        "<a id='regression'></a>\n",
        "### Part III - A regression approach\n",
        "\n",
        "`1.` In this final part, you will see that the result you acheived in the previous A/B test can also be acheived by performing regression.<br><br>\n",
        "\n",
        "a. Since each row is either a conversion or no conversion, what type of regression should you be performing in this case?"
      ]
    },
    {
      "metadata": {
        "colab_type": "text",
        "id": "XrBjGhThLx8R"
      },
      "cell_type": "markdown",
      "source": [
        "Como a variável resposta é categoria (converte ou não converte), a melhor forma é utilizar regressão logística nesse caso."
      ]
    },
    {
      "metadata": {
        "colab_type": "text",
        "id": "NtOeUEVrLx8T"
      },
      "cell_type": "markdown",
      "source": [
        "b. The goal is to use **statsmodels** to fit the regression model you specified in part **a.** to see if there is a significant difference in conversion based on which page a customer receives.  However, you first need to create a column for the intercept, and create a dummy variable column for which page each user received.  Add an **intercept** column, as well as an **ab_page** column, which is 1 when an individual receives the **treatment** and 0 if **control**."
      ]
    },
    {
      "metadata": {
        "colab_type": "code",
        "id": "dThPeYeXLx8U",
        "colab": {
          "base_uri": "https://localhost:8080/",
          "height": 206
        },
        "outputId": "0b02145b-68a6-48ef-a987-9603f13c7623"
      },
      "cell_type": "code",
      "source": [
        "df2[['ab_page']] = pd.get_dummies(df2['group']).drop(columns='control')\n",
        "df2['intercept'] = 1\n",
        "df2.head()"
      ],
      "execution_count": 8,
      "outputs": [
        {
          "output_type": "execute_result",
          "data": {
            "text/html": [
              "<div>\n",
              "<style scoped>\n",
              "    .dataframe tbody tr th:only-of-type {\n",
              "        vertical-align: middle;\n",
              "    }\n",
              "\n",
              "    .dataframe tbody tr th {\n",
              "        vertical-align: top;\n",
              "    }\n",
              "\n",
              "    .dataframe thead th {\n",
              "        text-align: right;\n",
              "    }\n",
              "</style>\n",
              "<table border=\"1\" class=\"dataframe\">\n",
              "  <thead>\n",
              "    <tr style=\"text-align: right;\">\n",
              "      <th></th>\n",
              "      <th>user_id</th>\n",
              "      <th>timestamp</th>\n",
              "      <th>group</th>\n",
              "      <th>landing_page</th>\n",
              "      <th>converted</th>\n",
              "      <th>ab_page</th>\n",
              "      <th>intercept</th>\n",
              "    </tr>\n",
              "  </thead>\n",
              "  <tbody>\n",
              "    <tr>\n",
              "      <th>0</th>\n",
              "      <td>851104</td>\n",
              "      <td>2017-01-21 22:11:48.556739</td>\n",
              "      <td>control</td>\n",
              "      <td>old_page</td>\n",
              "      <td>0</td>\n",
              "      <td>0</td>\n",
              "      <td>1</td>\n",
              "    </tr>\n",
              "    <tr>\n",
              "      <th>1</th>\n",
              "      <td>804228</td>\n",
              "      <td>2017-01-12 08:01:45.159739</td>\n",
              "      <td>control</td>\n",
              "      <td>old_page</td>\n",
              "      <td>0</td>\n",
              "      <td>0</td>\n",
              "      <td>1</td>\n",
              "    </tr>\n",
              "    <tr>\n",
              "      <th>2</th>\n",
              "      <td>661590</td>\n",
              "      <td>2017-01-11 16:55:06.154213</td>\n",
              "      <td>treatment</td>\n",
              "      <td>new_page</td>\n",
              "      <td>0</td>\n",
              "      <td>1</td>\n",
              "      <td>1</td>\n",
              "    </tr>\n",
              "    <tr>\n",
              "      <th>3</th>\n",
              "      <td>853541</td>\n",
              "      <td>2017-01-08 18:28:03.143765</td>\n",
              "      <td>treatment</td>\n",
              "      <td>new_page</td>\n",
              "      <td>0</td>\n",
              "      <td>1</td>\n",
              "      <td>1</td>\n",
              "    </tr>\n",
              "    <tr>\n",
              "      <th>4</th>\n",
              "      <td>864975</td>\n",
              "      <td>2017-01-21 01:52:26.210827</td>\n",
              "      <td>control</td>\n",
              "      <td>old_page</td>\n",
              "      <td>1</td>\n",
              "      <td>0</td>\n",
              "      <td>1</td>\n",
              "    </tr>\n",
              "  </tbody>\n",
              "</table>\n",
              "</div>"
            ],
            "text/plain": [
              "   user_id                  timestamp      group landing_page  converted  \\\n",
              "0   851104 2017-01-21 22:11:48.556739    control     old_page          0   \n",
              "1   804228 2017-01-12 08:01:45.159739    control     old_page          0   \n",
              "2   661590 2017-01-11 16:55:06.154213  treatment     new_page          0   \n",
              "3   853541 2017-01-08 18:28:03.143765  treatment     new_page          0   \n",
              "4   864975 2017-01-21 01:52:26.210827    control     old_page          1   \n",
              "\n",
              "   ab_page  intercept  \n",
              "0        0          1  \n",
              "1        0          1  \n",
              "2        1          1  \n",
              "3        1          1  \n",
              "4        0          1  "
            ]
          },
          "metadata": {
            "tags": []
          },
          "execution_count": 8
        }
      ]
    },
    {
      "metadata": {
        "colab_type": "text",
        "id": "Qg1-iSX5Lx8Y"
      },
      "cell_type": "markdown",
      "source": [
        "c. Use **statsmodels** to import your regression model.  Instantiate the model, and fit the model using the two columns you created in part **b.** to predict whether or not an individual converts."
      ]
    },
    {
      "metadata": {
        "colab_type": "code",
        "id": "BwHXNnisLx8Z",
        "colab": {},
        "outputId": "5429749c-0477-4572-bd8c-dae69530f654"
      },
      "cell_type": "code",
      "source": [
        "lm = sm.Logit(df2['converted'], df2[['intercept', 'ab_page']])\n",
        "results = lm.fit()"
      ],
      "execution_count": 0,
      "outputs": [
        {
          "output_type": "stream",
          "text": [
            "Optimization terminated successfully.\n",
            "         Current function value: 0.366118\n",
            "         Iterations 6\n"
          ],
          "name": "stdout"
        }
      ]
    },
    {
      "metadata": {
        "colab_type": "text",
        "id": "sJqtACjpLx8b"
      },
      "cell_type": "markdown",
      "source": [
        "d. Provide the summary of your model below, and use it as necessary to answer the following questions."
      ]
    },
    {
      "metadata": {
        "colab_type": "code",
        "id": "1q0t7YFwLx8d",
        "colab": {},
        "outputId": "46a05612-5d30-482c-f382-ecdd22bfe98d"
      },
      "cell_type": "code",
      "source": [
        "results.summary()"
      ],
      "execution_count": 0,
      "outputs": [
        {
          "output_type": "execute_result",
          "data": {
            "text/html": [
              "<table class=\"simpletable\">\n",
              "<caption>Logit Regression Results</caption>\n",
              "<tr>\n",
              "  <th>Dep. Variable:</th>     <td>converted</td>    <th>  No. Observations:  </th>   <td>290584</td>   \n",
              "</tr>\n",
              "<tr>\n",
              "  <th>Model:</th>               <td>Logit</td>      <th>  Df Residuals:      </th>   <td>290582</td>   \n",
              "</tr>\n",
              "<tr>\n",
              "  <th>Method:</th>               <td>MLE</td>       <th>  Df Model:          </th>   <td>     1</td>   \n",
              "</tr>\n",
              "<tr>\n",
              "  <th>Date:</th>          <td>Thu, 10 Jan 2019</td> <th>  Pseudo R-squ.:     </th>  <td>8.077e-06</td> \n",
              "</tr>\n",
              "<tr>\n",
              "  <th>Time:</th>              <td>23:42:27</td>     <th>  Log-Likelihood:    </th> <td>-1.0639e+05</td>\n",
              "</tr>\n",
              "<tr>\n",
              "  <th>converged:</th>           <td>True</td>       <th>  LL-Null:           </th> <td>-1.0639e+05</td>\n",
              "</tr>\n",
              "<tr>\n",
              "  <th> </th>                      <td> </td>        <th>  LLR p-value:       </th>   <td>0.1899</td>   \n",
              "</tr>\n",
              "</table>\n",
              "<table class=\"simpletable\">\n",
              "<tr>\n",
              "      <td></td>         <th>coef</th>     <th>std err</th>      <th>z</th>      <th>P>|z|</th>  <th>[0.025</th>    <th>0.975]</th>  \n",
              "</tr>\n",
              "<tr>\n",
              "  <th>intercept</th> <td>   -1.9888</td> <td>    0.008</td> <td> -246.669</td> <td> 0.000</td> <td>   -2.005</td> <td>   -1.973</td>\n",
              "</tr>\n",
              "<tr>\n",
              "  <th>ab_page</th>   <td>   -0.0150</td> <td>    0.011</td> <td>   -1.311</td> <td> 0.190</td> <td>   -0.037</td> <td>    0.007</td>\n",
              "</tr>\n",
              "</table>"
            ],
            "text/plain": [
              "<class 'statsmodels.iolib.summary.Summary'>\n",
              "\"\"\"\n",
              "                           Logit Regression Results                           \n",
              "==============================================================================\n",
              "Dep. Variable:              converted   No. Observations:               290584\n",
              "Model:                          Logit   Df Residuals:                   290582\n",
              "Method:                           MLE   Df Model:                            1\n",
              "Date:                Thu, 10 Jan 2019   Pseudo R-squ.:               8.077e-06\n",
              "Time:                        23:42:27   Log-Likelihood:            -1.0639e+05\n",
              "converged:                       True   LL-Null:                   -1.0639e+05\n",
              "                                        LLR p-value:                    0.1899\n",
              "==============================================================================\n",
              "                 coef    std err          z      P>|z|      [0.025      0.975]\n",
              "------------------------------------------------------------------------------\n",
              "intercept     -1.9888      0.008   -246.669      0.000      -2.005      -1.973\n",
              "ab_page       -0.0150      0.011     -1.311      0.190      -0.037       0.007\n",
              "==============================================================================\n",
              "\"\"\""
            ]
          },
          "metadata": {
            "tags": []
          },
          "execution_count": 40
        }
      ]
    },
    {
      "metadata": {
        "colab_type": "text",
        "id": "24BLQc6wLx8f"
      },
      "cell_type": "markdown",
      "source": [
        "e. What is the p-value associated with **ab_page**? Why does it differ from the value you found in **Part II**?<br><br>  **Hint**: What are the null and alternative hypotheses associated with your regression model, and how do they compare to the null and alternative hypotheses in the **Part II**?"
      ]
    },
    {
      "metadata": {
        "colab_type": "text",
        "id": "1QTODoKDLx8h"
      },
      "cell_type": "markdown",
      "source": [
        "O p-valor é 0.190, nesse caso o p-valor nos diz se o coeficiente de regressão é significativo para o modelo ou não. Nesse caso o p-valor não é significativo então não rejeitamos a hipótese nula ao nível de significância de 5%.\n",
        "\n",
        "Em outras palavras, na parte II foi feito um teste de hipótese unilateral à direita, $H_{0}$ sugere se a diferença das proporções  (`p_new` e `p_old`)  era menor ou igual a zero, e a $H_{1}$ sugere que 'p_new' seja melhor que 'p_old'. O cálculo do p-valor para o teste de hipótese unilateral à direita é baseado na média das diferenças amostradas que são superiores a diferença observada dos dados, ou seja, o p-valor unilateral à direita é  P(estatística do teste $\\geq$ valor observado calculado do teste baseado na amostra dado que $H_{0}$ é verdadeiro) = 1 - (função de distribuição acumulada da estatística do teste sob a hipótese nula), onde P é a probabilidade. Caso o p-valor encontrado seja inferior ao nível de significância escolhido (no caso 5%) rejeita-se a hipótese nula e conclui-se que a p_new possui resultados melhores que p_old, referente a conversão; caso contrário, ou seja, se o p-valor calculado for maior que o nível de significância escolhido, pode -se concluir que não se rejeita a hipótese nula e que não há diferença estatística entre as duas páginas.\n",
        "\n",
        "Para o teste de hipóteses baseado no modelo de regressão logística, na parte III, foi feito um teste de hipóteses bilateral pois ele avalia o coeficiente de regressão, ou seja, $H_{0}$  sugere que o coeficiente de regressão testado é igual a zero e em  $H_{1}$ sugere que o coeficiente é diferente de zero. Em outras palavras, o teste de hipótese dos coeficientes de regressão avaliam se o coeficiente é significativo ($H_{1}$) ou não ($H_{0}$) para o modelo, caso ele seja significativo, a variável explicativa associada a ele explica, parcialmente, a variável resposta e, portanto, ele é incluso na equação de regressão. O cálculo do p-valor para o teste de hipótese bilateral é calculado da seguinte maneira: $2 * $P(estatística do teste  $\\geq$ o módulo do valor observado calculado do teste baseado na amostra dado que $H_{0}$ é verdadeiro) = $2 *$ (1 - função de distribuição acumulada do módulo da estatística do teste sob a hipótese nula), onde P é a probabilidade.\n",
        "\n",
        "Tanto o teste de hipótese quanto o modelo logístico estão testando a mesma coisa, se a `new_page` contribuiu significativamente para a conversão. Em ambos foi possível verificar que não houve diferença estatística significativa, indicando que a `new_page` não aumentou o número de conversões, como era esperado.\n",
        "\n",
        "Fonte: https://support.minitab.com/en-us/minitab/18/help-and-how-to/statistics/basic-statistics/supporting-topics/basics/manually-calculate-a-p-value/"
      ]
    },
    {
      "metadata": {
        "colab_type": "text",
        "id": "J-AUa2lFLx8h"
      },
      "cell_type": "markdown",
      "source": [
        "f. Now, you are considering other things that might influence whether or not an individual converts.  Discuss why it is a good idea to consider other factors to add into your regression model.  Are there any disadvantages to adding additional terms into your regression model?"
      ]
    },
    {
      "metadata": {
        "colab_type": "text",
        "id": "vtr8Mq8hLx8l"
      },
      "cell_type": "markdown",
      "source": [
        "Outras variáveis podem influenciar, como o tempo de execução do teste (curto demais ou muito longo) enviesando os resultados da análise. Também caso usuários que já estão acostumados com o design antigo mostrarem resistência em trocar para um design novo, ou ainda o design novo trazer o efeito momentâneo de algo novo, mesmo que não ideal. Também a existencia de mais variáveis não significa um modelo melhor, tornando as amostras esparças e pouco similares (`countries`), causando problemas de dimensionalidade, ou mesmo variáveis de confusão (`landing_page`) que causam problemas de identificação dos efeitos."
      ]
    },
    {
      "metadata": {
        "colab_type": "text",
        "id": "vulICP6sLx8m"
      },
      "cell_type": "markdown",
      "source": [
        "g. Now along with testing if the conversion rate changes for different pages, also add an effect based on which country a user lives. You will need to read in the **countries.csv** dataset and merge together your datasets on the approporiate rows.  [Here](https://pandas.pydata.org/pandas-docs/stable/generated/pandas.DataFrame.join.html) are the docs for joining tables. \n",
        "\n",
        "Does it appear that country had an impact on conversion?  Don't forget to create dummy variables for these country columns - **Hint: You will need two columns for the three dummy variables.** Provide the statistical output as well as a written response to answer this question."
      ]
    },
    {
      "metadata": {
        "colab_type": "code",
        "id": "kE10i2B8Lx8n",
        "colab": {
          "base_uri": "https://localhost:8080/",
          "height": 237
        },
        "outputId": "b6f950e0-c436-404e-cb41-45cbec2fcbba"
      },
      "cell_type": "code",
      "source": [
        "countries_df = pd.read_csv('./countries.csv')\n",
        "df_new = countries_df.set_index('user_id').join(df2.set_index('user_id'), how='inner')\n",
        "df_new.head()"
      ],
      "execution_count": 9,
      "outputs": [
        {
          "output_type": "execute_result",
          "data": {
            "text/html": [
              "<div>\n",
              "<style scoped>\n",
              "    .dataframe tbody tr th:only-of-type {\n",
              "        vertical-align: middle;\n",
              "    }\n",
              "\n",
              "    .dataframe tbody tr th {\n",
              "        vertical-align: top;\n",
              "    }\n",
              "\n",
              "    .dataframe thead th {\n",
              "        text-align: right;\n",
              "    }\n",
              "</style>\n",
              "<table border=\"1\" class=\"dataframe\">\n",
              "  <thead>\n",
              "    <tr style=\"text-align: right;\">\n",
              "      <th></th>\n",
              "      <th>country</th>\n",
              "      <th>timestamp</th>\n",
              "      <th>group</th>\n",
              "      <th>landing_page</th>\n",
              "      <th>converted</th>\n",
              "      <th>ab_page</th>\n",
              "      <th>intercept</th>\n",
              "    </tr>\n",
              "    <tr>\n",
              "      <th>user_id</th>\n",
              "      <th></th>\n",
              "      <th></th>\n",
              "      <th></th>\n",
              "      <th></th>\n",
              "      <th></th>\n",
              "      <th></th>\n",
              "      <th></th>\n",
              "    </tr>\n",
              "  </thead>\n",
              "  <tbody>\n",
              "    <tr>\n",
              "      <th>630000</th>\n",
              "      <td>US</td>\n",
              "      <td>2017-01-19 06:26:06.548941</td>\n",
              "      <td>treatment</td>\n",
              "      <td>new_page</td>\n",
              "      <td>0</td>\n",
              "      <td>1</td>\n",
              "      <td>1</td>\n",
              "    </tr>\n",
              "    <tr>\n",
              "      <th>630001</th>\n",
              "      <td>US</td>\n",
              "      <td>2017-01-16 03:16:42.560309</td>\n",
              "      <td>treatment</td>\n",
              "      <td>new_page</td>\n",
              "      <td>1</td>\n",
              "      <td>1</td>\n",
              "      <td>1</td>\n",
              "    </tr>\n",
              "    <tr>\n",
              "      <th>630002</th>\n",
              "      <td>US</td>\n",
              "      <td>2017-01-19 19:20:56.438330</td>\n",
              "      <td>control</td>\n",
              "      <td>old_page</td>\n",
              "      <td>0</td>\n",
              "      <td>0</td>\n",
              "      <td>1</td>\n",
              "    </tr>\n",
              "    <tr>\n",
              "      <th>630003</th>\n",
              "      <td>US</td>\n",
              "      <td>2017-01-12 10:09:31.510471</td>\n",
              "      <td>treatment</td>\n",
              "      <td>new_page</td>\n",
              "      <td>0</td>\n",
              "      <td>1</td>\n",
              "      <td>1</td>\n",
              "    </tr>\n",
              "    <tr>\n",
              "      <th>630004</th>\n",
              "      <td>US</td>\n",
              "      <td>2017-01-18 20:23:58.824994</td>\n",
              "      <td>treatment</td>\n",
              "      <td>new_page</td>\n",
              "      <td>0</td>\n",
              "      <td>1</td>\n",
              "      <td>1</td>\n",
              "    </tr>\n",
              "  </tbody>\n",
              "</table>\n",
              "</div>"
            ],
            "text/plain": [
              "        country                  timestamp      group landing_page  converted  \\\n",
              "user_id                                                                         \n",
              "630000       US 2017-01-19 06:26:06.548941  treatment     new_page          0   \n",
              "630001       US 2017-01-16 03:16:42.560309  treatment     new_page          1   \n",
              "630002       US 2017-01-19 19:20:56.438330    control     old_page          0   \n",
              "630003       US 2017-01-12 10:09:31.510471  treatment     new_page          0   \n",
              "630004       US 2017-01-18 20:23:58.824994  treatment     new_page          0   \n",
              "\n",
              "         ab_page  intercept  \n",
              "user_id                      \n",
              "630000         1          1  \n",
              "630001         1          1  \n",
              "630002         0          1  \n",
              "630003         1          1  \n",
              "630004         1          1  "
            ]
          },
          "metadata": {
            "tags": []
          },
          "execution_count": 9
        }
      ]
    },
    {
      "metadata": {
        "colab_type": "code",
        "id": "LOCEQOKILx8r",
        "colab": {
          "base_uri": "https://localhost:8080/",
          "height": 237
        },
        "outputId": "2c55acb5-a9b5-48d7-af6c-45d0a57e7fa7"
      },
      "cell_type": "code",
      "source": [
        "### Create the necessary dummy variables\n",
        "df_new = df_new.join(pd.get_dummies(df_new.country))\n",
        "df_new.head()"
      ],
      "execution_count": 10,
      "outputs": [
        {
          "output_type": "execute_result",
          "data": {
            "text/html": [
              "<div>\n",
              "<style scoped>\n",
              "    .dataframe tbody tr th:only-of-type {\n",
              "        vertical-align: middle;\n",
              "    }\n",
              "\n",
              "    .dataframe tbody tr th {\n",
              "        vertical-align: top;\n",
              "    }\n",
              "\n",
              "    .dataframe thead th {\n",
              "        text-align: right;\n",
              "    }\n",
              "</style>\n",
              "<table border=\"1\" class=\"dataframe\">\n",
              "  <thead>\n",
              "    <tr style=\"text-align: right;\">\n",
              "      <th></th>\n",
              "      <th>country</th>\n",
              "      <th>timestamp</th>\n",
              "      <th>group</th>\n",
              "      <th>landing_page</th>\n",
              "      <th>converted</th>\n",
              "      <th>ab_page</th>\n",
              "      <th>intercept</th>\n",
              "      <th>CA</th>\n",
              "      <th>UK</th>\n",
              "      <th>US</th>\n",
              "    </tr>\n",
              "    <tr>\n",
              "      <th>user_id</th>\n",
              "      <th></th>\n",
              "      <th></th>\n",
              "      <th></th>\n",
              "      <th></th>\n",
              "      <th></th>\n",
              "      <th></th>\n",
              "      <th></th>\n",
              "      <th></th>\n",
              "      <th></th>\n",
              "      <th></th>\n",
              "    </tr>\n",
              "  </thead>\n",
              "  <tbody>\n",
              "    <tr>\n",
              "      <th>630000</th>\n",
              "      <td>US</td>\n",
              "      <td>2017-01-19 06:26:06.548941</td>\n",
              "      <td>treatment</td>\n",
              "      <td>new_page</td>\n",
              "      <td>0</td>\n",
              "      <td>1</td>\n",
              "      <td>1</td>\n",
              "      <td>0</td>\n",
              "      <td>0</td>\n",
              "      <td>1</td>\n",
              "    </tr>\n",
              "    <tr>\n",
              "      <th>630001</th>\n",
              "      <td>US</td>\n",
              "      <td>2017-01-16 03:16:42.560309</td>\n",
              "      <td>treatment</td>\n",
              "      <td>new_page</td>\n",
              "      <td>1</td>\n",
              "      <td>1</td>\n",
              "      <td>1</td>\n",
              "      <td>0</td>\n",
              "      <td>0</td>\n",
              "      <td>1</td>\n",
              "    </tr>\n",
              "    <tr>\n",
              "      <th>630002</th>\n",
              "      <td>US</td>\n",
              "      <td>2017-01-19 19:20:56.438330</td>\n",
              "      <td>control</td>\n",
              "      <td>old_page</td>\n",
              "      <td>0</td>\n",
              "      <td>0</td>\n",
              "      <td>1</td>\n",
              "      <td>0</td>\n",
              "      <td>0</td>\n",
              "      <td>1</td>\n",
              "    </tr>\n",
              "    <tr>\n",
              "      <th>630003</th>\n",
              "      <td>US</td>\n",
              "      <td>2017-01-12 10:09:31.510471</td>\n",
              "      <td>treatment</td>\n",
              "      <td>new_page</td>\n",
              "      <td>0</td>\n",
              "      <td>1</td>\n",
              "      <td>1</td>\n",
              "      <td>0</td>\n",
              "      <td>0</td>\n",
              "      <td>1</td>\n",
              "    </tr>\n",
              "    <tr>\n",
              "      <th>630004</th>\n",
              "      <td>US</td>\n",
              "      <td>2017-01-18 20:23:58.824994</td>\n",
              "      <td>treatment</td>\n",
              "      <td>new_page</td>\n",
              "      <td>0</td>\n",
              "      <td>1</td>\n",
              "      <td>1</td>\n",
              "      <td>0</td>\n",
              "      <td>0</td>\n",
              "      <td>1</td>\n",
              "    </tr>\n",
              "  </tbody>\n",
              "</table>\n",
              "</div>"
            ],
            "text/plain": [
              "        country                  timestamp      group landing_page  converted  \\\n",
              "user_id                                                                         \n",
              "630000       US 2017-01-19 06:26:06.548941  treatment     new_page          0   \n",
              "630001       US 2017-01-16 03:16:42.560309  treatment     new_page          1   \n",
              "630002       US 2017-01-19 19:20:56.438330    control     old_page          0   \n",
              "630003       US 2017-01-12 10:09:31.510471  treatment     new_page          0   \n",
              "630004       US 2017-01-18 20:23:58.824994  treatment     new_page          0   \n",
              "\n",
              "         ab_page  intercept  CA  UK  US  \n",
              "user_id                                  \n",
              "630000         1          1   0   0   1  \n",
              "630001         1          1   0   0   1  \n",
              "630002         0          1   0   0   1  \n",
              "630003         1          1   0   0   1  \n",
              "630004         1          1   0   0   1  "
            ]
          },
          "metadata": {
            "tags": []
          },
          "execution_count": 10
        }
      ]
    },
    {
      "metadata": {
        "colab_type": "text",
        "id": "ZX3rcsqQLx8v"
      },
      "cell_type": "markdown",
      "source": [
        "h. Though you have now looked at the individual factors of country and page on conversion, we would now like to look at an interaction between page and country to see if there significant effects on conversion.  Create the necessary additional columns, and fit the new model.  \n",
        "\n",
        "Provide the summary results, and your conclusions based on the results."
      ]
    },
    {
      "metadata": {
        "colab_type": "code",
        "id": "bfNfV7ooLx8w",
        "colab": {},
        "outputId": "a451e1fd-ec78-4f70-bbf0-45a7565eb9a3"
      },
      "cell_type": "code",
      "source": [
        "### Fit Your Linear Model And Obtain the Results\n",
        "df_new['ab_CA'] = df_new['ab_page'] * df_new['CA']\n",
        "df_new['ab_UK'] = df_new['ab_page'] * df_new['UK']\n",
        "\n",
        "lm = sm.Logit(df_new['converted'], df_new[['intercept', 'ab_page', 'CA', 'UK', 'ab_CA', 'ab_UK']])\n",
        "results = lm.fit()\n",
        "results.summary()"
      ],
      "execution_count": 0,
      "outputs": [
        {
          "output_type": "stream",
          "text": [
            "Optimization terminated successfully.\n",
            "         Current function value: 0.366109\n",
            "         Iterations 6\n"
          ],
          "name": "stdout"
        },
        {
          "output_type": "execute_result",
          "data": {
            "text/html": [
              "<table class=\"simpletable\">\n",
              "<caption>Logit Regression Results</caption>\n",
              "<tr>\n",
              "  <th>Dep. Variable:</th>     <td>converted</td>    <th>  No. Observations:  </th>   <td>290584</td>   \n",
              "</tr>\n",
              "<tr>\n",
              "  <th>Model:</th>               <td>Logit</td>      <th>  Df Residuals:      </th>   <td>290578</td>   \n",
              "</tr>\n",
              "<tr>\n",
              "  <th>Method:</th>               <td>MLE</td>       <th>  Df Model:          </th>   <td>     5</td>   \n",
              "</tr>\n",
              "<tr>\n",
              "  <th>Date:</th>          <td>Thu, 10 Jan 2019</td> <th>  Pseudo R-squ.:     </th>  <td>3.482e-05</td> \n",
              "</tr>\n",
              "<tr>\n",
              "  <th>Time:</th>              <td>23:42:38</td>     <th>  Log-Likelihood:    </th> <td>-1.0639e+05</td>\n",
              "</tr>\n",
              "<tr>\n",
              "  <th>converged:</th>           <td>True</td>       <th>  LL-Null:           </th> <td>-1.0639e+05</td>\n",
              "</tr>\n",
              "<tr>\n",
              "  <th> </th>                      <td> </td>        <th>  LLR p-value:       </th>   <td>0.1920</td>   \n",
              "</tr>\n",
              "</table>\n",
              "<table class=\"simpletable\">\n",
              "<tr>\n",
              "      <td></td>         <th>coef</th>     <th>std err</th>      <th>z</th>      <th>P>|z|</th>  <th>[0.025</th>    <th>0.975]</th>  \n",
              "</tr>\n",
              "<tr>\n",
              "  <th>intercept</th> <td>   -1.9865</td> <td>    0.010</td> <td> -206.344</td> <td> 0.000</td> <td>   -2.005</td> <td>   -1.968</td>\n",
              "</tr>\n",
              "<tr>\n",
              "  <th>ab_page</th>   <td>   -0.0206</td> <td>    0.014</td> <td>   -1.505</td> <td> 0.132</td> <td>   -0.047</td> <td>    0.006</td>\n",
              "</tr>\n",
              "<tr>\n",
              "  <th>CA</th>        <td>   -0.0175</td> <td>    0.038</td> <td>   -0.465</td> <td> 0.642</td> <td>   -0.091</td> <td>    0.056</td>\n",
              "</tr>\n",
              "<tr>\n",
              "  <th>UK</th>        <td>   -0.0057</td> <td>    0.019</td> <td>   -0.306</td> <td> 0.760</td> <td>   -0.043</td> <td>    0.031</td>\n",
              "</tr>\n",
              "<tr>\n",
              "  <th>ab_CA</th>     <td>   -0.0469</td> <td>    0.054</td> <td>   -0.872</td> <td> 0.383</td> <td>   -0.152</td> <td>    0.059</td>\n",
              "</tr>\n",
              "<tr>\n",
              "  <th>ab_UK</th>     <td>    0.0314</td> <td>    0.027</td> <td>    1.181</td> <td> 0.238</td> <td>   -0.021</td> <td>    0.084</td>\n",
              "</tr>\n",
              "</table>"
            ],
            "text/plain": [
              "<class 'statsmodels.iolib.summary.Summary'>\n",
              "\"\"\"\n",
              "                           Logit Regression Results                           \n",
              "==============================================================================\n",
              "Dep. Variable:              converted   No. Observations:               290584\n",
              "Model:                          Logit   Df Residuals:                   290578\n",
              "Method:                           MLE   Df Model:                            5\n",
              "Date:                Thu, 10 Jan 2019   Pseudo R-squ.:               3.482e-05\n",
              "Time:                        23:42:38   Log-Likelihood:            -1.0639e+05\n",
              "converged:                       True   LL-Null:                   -1.0639e+05\n",
              "                                        LLR p-value:                    0.1920\n",
              "==============================================================================\n",
              "                 coef    std err          z      P>|z|      [0.025      0.975]\n",
              "------------------------------------------------------------------------------\n",
              "intercept     -1.9865      0.010   -206.344      0.000      -2.005      -1.968\n",
              "ab_page       -0.0206      0.014     -1.505      0.132      -0.047       0.006\n",
              "CA            -0.0175      0.038     -0.465      0.642      -0.091       0.056\n",
              "UK            -0.0057      0.019     -0.306      0.760      -0.043       0.031\n",
              "ab_CA         -0.0469      0.054     -0.872      0.383      -0.152       0.059\n",
              "ab_UK          0.0314      0.027      1.181      0.238      -0.021       0.084\n",
              "==============================================================================\n",
              "\"\"\""
            ]
          },
          "metadata": {
            "tags": []
          },
          "execution_count": 43
        }
      ]
    },
    {
      "metadata": {
        "id": "oI18A1ITfTiq",
        "colab_type": "text"
      },
      "cell_type": "markdown",
      "source": [
        "Ao nível de 5% de significância, pode-se concluir que para as variáveis `ab_page`, `CA` e `UK` e suas interações, `ab_CA` e `ab_UK`, não se rejeita a hipótese nula, ou seja, elas não são significativas para o modelo. Para o intercepto, ao nível de significância de 5%, conclui-se que se rejeita a hipótese nula, ou seja, esse coeficiente é significativo para o modelo.\n",
        "\n",
        "Na prática, podemos dizer que não vale a pena alterar a antiga página para a nova, devido ao fato que não houve aumento na conversão. Porém, deve ser considerado se o tempo total foi suficiente ou não para que os dados capturassem corretamente a conversão entre as páginas, analisando a variável de tempo (como visto abaixo), observou-se que o experimento foi executado em 22 dias, o que é um tempo curto para que os vieses que são característico desse tipo de teste possam ser eliminados. Sugere que para verificar a significância do teste seja refeito o experimento por um tempo maior."
      ]
    },
    {
      "metadata": {
        "id": "oGqHTqYj6SNE",
        "colab_type": "code",
        "colab": {
          "base_uri": "https://localhost:8080/",
          "height": 35
        },
        "outputId": "02951bdb-0c37-4d7a-d335-5d9b293900d5"
      },
      "cell_type": "code",
      "source": [
        "# Tempo de execução do experimento\n",
        "pd.to_datetime(df_new.timestamp.sort_values().iloc[-1]).to_period('D') - pd.to_datetime(df_new.timestamp.sort_values().iloc[0]).to_period('D')"
      ],
      "execution_count": 46,
      "outputs": [
        {
          "output_type": "execute_result",
          "data": {
            "text/plain": [
              "22"
            ]
          },
          "metadata": {
            "tags": []
          },
          "execution_count": 46
        }
      ]
    },
    {
      "metadata": {
        "colab_type": "text",
        "id": "SVOd5wssLx80"
      },
      "cell_type": "markdown",
      "source": [
        "<a id='conclusions'></a>\n",
        "## Conclusions\n",
        "\n",
        "Congratulations on completing the project! \n",
        "\n",
        "### Gather Submission Materials\n",
        "\n",
        "Once you are satisfied with the status of your Notebook, you should save it in a format that will make it easy for others to read. You can use the __File -> Download as -> HTML (.html)__ menu to save your notebook as an .html file. If you are working locally and get an error about \"No module name\", then open a terminal and try installing the missing module using `pip install <module_name>` (don't include the \"<\" or \">\" or any words following a period in the module name).\n",
        "\n",
        "You will submit both your original Notebook and an HTML or PDF copy of the Notebook for review. There is no need for you to include any data files with your submission. If you made reference to other websites, books, and other resources to help you in solving tasks in the project, make sure that you document them. It is recommended that you either add a \"Resources\" section in a Markdown cell at the end of the Notebook report, or you can include a `readme.txt` file documenting your sources.\n",
        "\n",
        "### Submit the Project\n",
        "\n",
        "When you're ready, click on the \"Submit Project\" button to go to the project submission page. You can submit your files as a .zip archive or you can link to a GitHub repository containing your project files. If you go with GitHub, note that your submission will be a snapshot of the linked repository at time of submission. It is recommended that you keep each project in a separate repository to avoid any potential confusion: if a reviewer gets multiple folders representing multiple projects, there might be confusion regarding what project is to be evaluated.\n",
        "\n",
        "It can take us up to a week to grade the project, but in most cases it is much faster. You will get an email once your submission has been reviewed. If you are having any problems submitting your project or wish to check on the status of your submission, please email us at dataanalyst-project@udacity.com. In the meantime, you should feel free to continue on with your learning journey by beginning the next module in the program."
      ]
    },
    {
      "metadata": {
        "colab_type": "code",
        "id": "xBLIzImQLx83",
        "colab": {}
      },
      "cell_type": "code",
      "source": [
        ""
      ],
      "execution_count": 0,
      "outputs": []
    }
  ]
}